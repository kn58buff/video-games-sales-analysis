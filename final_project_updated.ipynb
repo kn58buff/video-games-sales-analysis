{
 "cells": [
  {
   "cell_type": "markdown",
   "metadata": {},
   "source": [
    "# Video Game Sales - Code & Analysis\n",
    "#### by Kevin Nguyen\n",
    "<b>Created:</b> April 27, 2023<br>\n",
    "<b>Last Update:</b> October 6, 2023\n",
    "\n",
    "***\n",
    "This project was originally completed as part of the final project for the class \"MTH 412: Intro. to Statistical Inference\" at the University at Buffalo. The original project, including the code, write-up, and presentation can be found in the ```class_original``` directory.\n",
    "\n",
    "The goal is to now expand upon the original project in two ways: by refining the techniques and code and by adding additional methods of analysis and prediction.\n",
    "***\n",
    "\n",
    "## Exploratory Data Analysis (EDA)\n",
    "\n",
    "Section intro\n",
    "***\n",
    "### Dataset Description\n",
    "The dataset is taken from Ulrik Thyge Pedersen's \"Video Games Sales,\" uploaded on [Kaggle](https://www.kaggle.com/datasets/ulrikthygepedersen/video-games-sales/data). It contains the following 11 columns:\n",
    "\n",
    "* rank: The rank of a game based on its number of global_sales\n",
    "* name: The name of a game\n",
    "* platform: The platform a game was released on and does not consider multiple platforms - each platform has their own entry.\n",
    "* year: The year a game was released\n",
    "* genre: The main genre of a game\n",
    "* publisher: The game's publisher\n",
    "* na_sales: The number of sales in North America (in millions)\n",
    "* eu_sales: The number of sales in Europe (in millions)\n",
    "* jp_sales: The number of sales in Japan (in millions)\n",
    "* other_sales: The number of sales outside of North America, Europe, and Japan (in millions)\n",
    "* global_sales: The total number of sales (in millions)\n",
    "\n",
    "There are some aspects about the dataset that are noteworthy to mention. Firstly, because the dataset focuses on the number of sales, this implies that games that are \"free-to-play\" are completely excluded from the dataset. Secondly, games that were released on multiple platforms are included more than once (one entry for each platform they were released on). \n",
    "\n",
    "***\n",
    "### Import Statements"
   ]
  },
  {
   "cell_type": "code",
   "execution_count": 1,
   "metadata": {},
   "outputs": [],
   "source": [
    "import numpy as np\n",
    "import pandas as pd\n",
    "import seaborn as sns\n",
    "import matplotlib.pyplot as plt\n",
    "import plotly.express as px"
   ]
  },
  {
   "cell_type": "markdown",
   "metadata": {},
   "source": [
    "### Load & Process Data"
   ]
  },
  {
   "cell_type": "code",
   "execution_count": 2,
   "metadata": {},
   "outputs": [],
   "source": [
    "games_data = pd.read_csv(\"video_games_sales.csv\")\n",
    "\n",
    "# reorder columns of csv, so index does not precede ranking\n",
    "cols = ['name', 'platform', 'year', 'genre', 'publisher',\n",
    "        'rank', 'na_sales', 'eu_sales', 'jp_sales', 'other_sales', 'global_sales']\n",
    "games_data = games_data[cols]"
   ]
  },
  {
   "cell_type": "code",
   "execution_count": 3,
   "metadata": {},
   "outputs": [
    {
     "data": {
      "text/html": [
       "<div>\n",
       "<style scoped>\n",
       "    .dataframe tbody tr th:only-of-type {\n",
       "        vertical-align: middle;\n",
       "    }\n",
       "\n",
       "    .dataframe tbody tr th {\n",
       "        vertical-align: top;\n",
       "    }\n",
       "\n",
       "    .dataframe thead th {\n",
       "        text-align: right;\n",
       "    }\n",
       "</style>\n",
       "<table border=\"1\" class=\"dataframe\">\n",
       "  <thead>\n",
       "    <tr style=\"text-align: right;\">\n",
       "      <th></th>\n",
       "      <th>name</th>\n",
       "      <th>platform</th>\n",
       "      <th>year</th>\n",
       "      <th>genre</th>\n",
       "      <th>publisher</th>\n",
       "      <th>rank</th>\n",
       "      <th>na_sales</th>\n",
       "      <th>eu_sales</th>\n",
       "      <th>jp_sales</th>\n",
       "      <th>other_sales</th>\n",
       "      <th>global_sales</th>\n",
       "    </tr>\n",
       "  </thead>\n",
       "  <tbody>\n",
       "    <tr>\n",
       "      <th>0</th>\n",
       "      <td>Wii Sports</td>\n",
       "      <td>Wii</td>\n",
       "      <td>2006.0</td>\n",
       "      <td>Sports</td>\n",
       "      <td>Nintendo</td>\n",
       "      <td>1</td>\n",
       "      <td>41.49</td>\n",
       "      <td>29.02</td>\n",
       "      <td>3.77</td>\n",
       "      <td>8.46</td>\n",
       "      <td>82.74</td>\n",
       "    </tr>\n",
       "    <tr>\n",
       "      <th>1</th>\n",
       "      <td>Super Mario Bros.</td>\n",
       "      <td>NES</td>\n",
       "      <td>1985.0</td>\n",
       "      <td>Platform</td>\n",
       "      <td>Nintendo</td>\n",
       "      <td>2</td>\n",
       "      <td>29.08</td>\n",
       "      <td>3.58</td>\n",
       "      <td>6.81</td>\n",
       "      <td>0.77</td>\n",
       "      <td>40.24</td>\n",
       "    </tr>\n",
       "    <tr>\n",
       "      <th>2</th>\n",
       "      <td>Mario Kart Wii</td>\n",
       "      <td>Wii</td>\n",
       "      <td>2008.0</td>\n",
       "      <td>Racing</td>\n",
       "      <td>Nintendo</td>\n",
       "      <td>3</td>\n",
       "      <td>15.85</td>\n",
       "      <td>12.88</td>\n",
       "      <td>3.79</td>\n",
       "      <td>3.31</td>\n",
       "      <td>35.82</td>\n",
       "    </tr>\n",
       "    <tr>\n",
       "      <th>3</th>\n",
       "      <td>Wii Sports Resort</td>\n",
       "      <td>Wii</td>\n",
       "      <td>2009.0</td>\n",
       "      <td>Sports</td>\n",
       "      <td>Nintendo</td>\n",
       "      <td>4</td>\n",
       "      <td>15.75</td>\n",
       "      <td>11.01</td>\n",
       "      <td>3.28</td>\n",
       "      <td>2.96</td>\n",
       "      <td>33.00</td>\n",
       "    </tr>\n",
       "    <tr>\n",
       "      <th>4</th>\n",
       "      <td>Pokemon Red/Pokemon Blue</td>\n",
       "      <td>GB</td>\n",
       "      <td>1996.0</td>\n",
       "      <td>Role-Playing</td>\n",
       "      <td>Nintendo</td>\n",
       "      <td>5</td>\n",
       "      <td>11.27</td>\n",
       "      <td>8.89</td>\n",
       "      <td>10.22</td>\n",
       "      <td>1.00</td>\n",
       "      <td>31.37</td>\n",
       "    </tr>\n",
       "    <tr>\n",
       "      <th>5</th>\n",
       "      <td>Tetris</td>\n",
       "      <td>GB</td>\n",
       "      <td>1989.0</td>\n",
       "      <td>Puzzle</td>\n",
       "      <td>Nintendo</td>\n",
       "      <td>6</td>\n",
       "      <td>23.20</td>\n",
       "      <td>2.26</td>\n",
       "      <td>4.22</td>\n",
       "      <td>0.58</td>\n",
       "      <td>30.26</td>\n",
       "    </tr>\n",
       "    <tr>\n",
       "      <th>6</th>\n",
       "      <td>New Super Mario Bros.</td>\n",
       "      <td>DS</td>\n",
       "      <td>2006.0</td>\n",
       "      <td>Platform</td>\n",
       "      <td>Nintendo</td>\n",
       "      <td>7</td>\n",
       "      <td>11.38</td>\n",
       "      <td>9.23</td>\n",
       "      <td>6.50</td>\n",
       "      <td>2.90</td>\n",
       "      <td>30.01</td>\n",
       "    </tr>\n",
       "    <tr>\n",
       "      <th>7</th>\n",
       "      <td>Wii Play</td>\n",
       "      <td>Wii</td>\n",
       "      <td>2006.0</td>\n",
       "      <td>Misc</td>\n",
       "      <td>Nintendo</td>\n",
       "      <td>8</td>\n",
       "      <td>14.03</td>\n",
       "      <td>9.20</td>\n",
       "      <td>2.93</td>\n",
       "      <td>2.85</td>\n",
       "      <td>29.02</td>\n",
       "    </tr>\n",
       "    <tr>\n",
       "      <th>8</th>\n",
       "      <td>New Super Mario Bros. Wii</td>\n",
       "      <td>Wii</td>\n",
       "      <td>2009.0</td>\n",
       "      <td>Platform</td>\n",
       "      <td>Nintendo</td>\n",
       "      <td>9</td>\n",
       "      <td>14.59</td>\n",
       "      <td>7.06</td>\n",
       "      <td>4.70</td>\n",
       "      <td>2.26</td>\n",
       "      <td>28.62</td>\n",
       "    </tr>\n",
       "    <tr>\n",
       "      <th>9</th>\n",
       "      <td>Duck Hunt</td>\n",
       "      <td>NES</td>\n",
       "      <td>1984.0</td>\n",
       "      <td>Shooter</td>\n",
       "      <td>Nintendo</td>\n",
       "      <td>10</td>\n",
       "      <td>26.93</td>\n",
       "      <td>0.63</td>\n",
       "      <td>0.28</td>\n",
       "      <td>0.47</td>\n",
       "      <td>28.31</td>\n",
       "    </tr>\n",
       "  </tbody>\n",
       "</table>\n",
       "</div>"
      ],
      "text/plain": [
       "                        name platform    year         genre publisher  rank  \\\n",
       "0                 Wii Sports      Wii  2006.0        Sports  Nintendo     1   \n",
       "1          Super Mario Bros.      NES  1985.0      Platform  Nintendo     2   \n",
       "2             Mario Kart Wii      Wii  2008.0        Racing  Nintendo     3   \n",
       "3          Wii Sports Resort      Wii  2009.0        Sports  Nintendo     4   \n",
       "4   Pokemon Red/Pokemon Blue       GB  1996.0  Role-Playing  Nintendo     5   \n",
       "5                     Tetris       GB  1989.0        Puzzle  Nintendo     6   \n",
       "6      New Super Mario Bros.       DS  2006.0      Platform  Nintendo     7   \n",
       "7                   Wii Play      Wii  2006.0          Misc  Nintendo     8   \n",
       "8  New Super Mario Bros. Wii      Wii  2009.0      Platform  Nintendo     9   \n",
       "9                  Duck Hunt      NES  1984.0       Shooter  Nintendo    10   \n",
       "\n",
       "   na_sales  eu_sales  jp_sales  other_sales  global_sales  \n",
       "0     41.49     29.02      3.77         8.46         82.74  \n",
       "1     29.08      3.58      6.81         0.77         40.24  \n",
       "2     15.85     12.88      3.79         3.31         35.82  \n",
       "3     15.75     11.01      3.28         2.96         33.00  \n",
       "4     11.27      8.89     10.22         1.00         31.37  \n",
       "5     23.20      2.26      4.22         0.58         30.26  \n",
       "6     11.38      9.23      6.50         2.90         30.01  \n",
       "7     14.03      9.20      2.93         2.85         29.02  \n",
       "8     14.59      7.06      4.70         2.26         28.62  \n",
       "9     26.93      0.63      0.28         0.47         28.31  "
      ]
     },
     "execution_count": 3,
     "metadata": {},
     "output_type": "execute_result"
    }
   ],
   "source": [
    "games_data.head(10)"
   ]
  },
  {
   "cell_type": "code",
   "execution_count": 4,
   "metadata": {},
   "outputs": [
    {
     "data": {
      "text/html": [
       "<div>\n",
       "<style scoped>\n",
       "    .dataframe tbody tr th:only-of-type {\n",
       "        vertical-align: middle;\n",
       "    }\n",
       "\n",
       "    .dataframe tbody tr th {\n",
       "        vertical-align: top;\n",
       "    }\n",
       "\n",
       "    .dataframe thead th {\n",
       "        text-align: right;\n",
       "    }\n",
       "</style>\n",
       "<table border=\"1\" class=\"dataframe\">\n",
       "  <thead>\n",
       "    <tr style=\"text-align: right;\">\n",
       "      <th></th>\n",
       "      <th>year</th>\n",
       "      <th>rank</th>\n",
       "      <th>na_sales</th>\n",
       "      <th>eu_sales</th>\n",
       "      <th>jp_sales</th>\n",
       "      <th>other_sales</th>\n",
       "      <th>global_sales</th>\n",
       "    </tr>\n",
       "  </thead>\n",
       "  <tbody>\n",
       "    <tr>\n",
       "      <th>count</th>\n",
       "      <td>16327.000000</td>\n",
       "      <td>16598.000000</td>\n",
       "      <td>16598.000000</td>\n",
       "      <td>16598.000000</td>\n",
       "      <td>16598.000000</td>\n",
       "      <td>16598.000000</td>\n",
       "      <td>16598.000000</td>\n",
       "    </tr>\n",
       "    <tr>\n",
       "      <th>mean</th>\n",
       "      <td>2006.406443</td>\n",
       "      <td>8300.605254</td>\n",
       "      <td>0.264667</td>\n",
       "      <td>0.146652</td>\n",
       "      <td>0.077782</td>\n",
       "      <td>0.048063</td>\n",
       "      <td>0.537441</td>\n",
       "    </tr>\n",
       "    <tr>\n",
       "      <th>std</th>\n",
       "      <td>5.828981</td>\n",
       "      <td>4791.853933</td>\n",
       "      <td>0.816683</td>\n",
       "      <td>0.505351</td>\n",
       "      <td>0.309291</td>\n",
       "      <td>0.188588</td>\n",
       "      <td>1.555028</td>\n",
       "    </tr>\n",
       "    <tr>\n",
       "      <th>min</th>\n",
       "      <td>1980.000000</td>\n",
       "      <td>1.000000</td>\n",
       "      <td>0.000000</td>\n",
       "      <td>0.000000</td>\n",
       "      <td>0.000000</td>\n",
       "      <td>0.000000</td>\n",
       "      <td>0.010000</td>\n",
       "    </tr>\n",
       "    <tr>\n",
       "      <th>25%</th>\n",
       "      <td>2003.000000</td>\n",
       "      <td>4151.250000</td>\n",
       "      <td>0.000000</td>\n",
       "      <td>0.000000</td>\n",
       "      <td>0.000000</td>\n",
       "      <td>0.000000</td>\n",
       "      <td>0.060000</td>\n",
       "    </tr>\n",
       "    <tr>\n",
       "      <th>50%</th>\n",
       "      <td>2007.000000</td>\n",
       "      <td>8300.500000</td>\n",
       "      <td>0.080000</td>\n",
       "      <td>0.020000</td>\n",
       "      <td>0.000000</td>\n",
       "      <td>0.010000</td>\n",
       "      <td>0.170000</td>\n",
       "    </tr>\n",
       "    <tr>\n",
       "      <th>75%</th>\n",
       "      <td>2010.000000</td>\n",
       "      <td>12449.750000</td>\n",
       "      <td>0.240000</td>\n",
       "      <td>0.110000</td>\n",
       "      <td>0.040000</td>\n",
       "      <td>0.040000</td>\n",
       "      <td>0.470000</td>\n",
       "    </tr>\n",
       "    <tr>\n",
       "      <th>max</th>\n",
       "      <td>2020.000000</td>\n",
       "      <td>16600.000000</td>\n",
       "      <td>41.490000</td>\n",
       "      <td>29.020000</td>\n",
       "      <td>10.220000</td>\n",
       "      <td>10.570000</td>\n",
       "      <td>82.740000</td>\n",
       "    </tr>\n",
       "  </tbody>\n",
       "</table>\n",
       "</div>"
      ],
      "text/plain": [
       "               year          rank      na_sales      eu_sales      jp_sales  \\\n",
       "count  16327.000000  16598.000000  16598.000000  16598.000000  16598.000000   \n",
       "mean    2006.406443   8300.605254      0.264667      0.146652      0.077782   \n",
       "std        5.828981   4791.853933      0.816683      0.505351      0.309291   \n",
       "min     1980.000000      1.000000      0.000000      0.000000      0.000000   \n",
       "25%     2003.000000   4151.250000      0.000000      0.000000      0.000000   \n",
       "50%     2007.000000   8300.500000      0.080000      0.020000      0.000000   \n",
       "75%     2010.000000  12449.750000      0.240000      0.110000      0.040000   \n",
       "max     2020.000000  16600.000000     41.490000     29.020000     10.220000   \n",
       "\n",
       "        other_sales  global_sales  \n",
       "count  16598.000000  16598.000000  \n",
       "mean       0.048063      0.537441  \n",
       "std        0.188588      1.555028  \n",
       "min        0.000000      0.010000  \n",
       "25%        0.000000      0.060000  \n",
       "50%        0.010000      0.170000  \n",
       "75%        0.040000      0.470000  \n",
       "max       10.570000     82.740000  "
      ]
     },
     "execution_count": 4,
     "metadata": {},
     "output_type": "execute_result"
    }
   ],
   "source": [
    "# summary of each numeric column\n",
    "games_data.describe()"
   ]
  },
  {
   "cell_type": "markdown",
   "metadata": {},
   "source": [
    "***\n",
    "#### Data Cleaning\n",
    "A quick look at the <b>count</b> row in the summary table shows us that there are missing values for the <b>year</b> column. Our next step will be to check the data set for any missing values and to remove the rows that are missing values."
   ]
  },
  {
   "cell_type": "code",
   "execution_count": 5,
   "metadata": {},
   "outputs": [
    {
     "data": {
      "text/plain": [
       "name              0\n",
       "platform          0\n",
       "year            271\n",
       "genre             0\n",
       "publisher        58\n",
       "rank              0\n",
       "na_sales          0\n",
       "eu_sales          0\n",
       "jp_sales          0\n",
       "other_sales       0\n",
       "global_sales      0\n",
       "dtype: int64"
      ]
     },
     "execution_count": 5,
     "metadata": {},
     "output_type": "execute_result"
    }
   ],
   "source": [
    "# check for missing values\n",
    "games_data.isnull().sum()\n",
    "\n",
    "# missing years are 2018, 2019; 2020 and 2017 have negligible entries (single digit number)"
   ]
  },
  {
   "cell_type": "markdown",
   "metadata": {},
   "source": [
    "***\n",
    "We found that there are missing values for 271 <b>year</b> entries and 58 missing values for <b>publisher</b> entries.\n",
    "\n",
    "Upon further inspection, we can find that the years 2018 and 2019 are missing completely from the data, and 2020 and 2017 have a negligible number of entries. We are able to safely and confidently remove the entries from 2020 and 2017 from the dataset due to their negligibility. As mentioned before, we will also drop rows that are missing a <b>year</b> entry.\n",
    "\n",
    "As for the missing values in the <b>publisher</b> column, we can fill them in with the value of \"Unknown\" instead of removing the entries."
   ]
  },
  {
   "cell_type": "code",
   "execution_count": 6,
   "metadata": {},
   "outputs": [
    {
     "data": {
      "text/html": [
       "<div>\n",
       "<style scoped>\n",
       "    .dataframe tbody tr th:only-of-type {\n",
       "        vertical-align: middle;\n",
       "    }\n",
       "\n",
       "    .dataframe tbody tr th {\n",
       "        vertical-align: top;\n",
       "    }\n",
       "\n",
       "    .dataframe thead th {\n",
       "        text-align: right;\n",
       "    }\n",
       "</style>\n",
       "<table border=\"1\" class=\"dataframe\">\n",
       "  <thead>\n",
       "    <tr style=\"text-align: right;\">\n",
       "      <th></th>\n",
       "      <th>name</th>\n",
       "      <th>platform</th>\n",
       "      <th>year</th>\n",
       "      <th>genre</th>\n",
       "      <th>publisher</th>\n",
       "      <th>rank</th>\n",
       "      <th>na_sales</th>\n",
       "      <th>eu_sales</th>\n",
       "      <th>jp_sales</th>\n",
       "      <th>other_sales</th>\n",
       "      <th>global_sales</th>\n",
       "    </tr>\n",
       "  </thead>\n",
       "  <tbody>\n",
       "    <tr>\n",
       "      <th>5957</th>\n",
       "      <td>Imagine: Makeup Artist</td>\n",
       "      <td>DS</td>\n",
       "      <td>2020.0</td>\n",
       "      <td>Simulation</td>\n",
       "      <td>Ubisoft</td>\n",
       "      <td>5959</td>\n",
       "      <td>0.27</td>\n",
       "      <td>0.0</td>\n",
       "      <td>0.0</td>\n",
       "      <td>0.02</td>\n",
       "      <td>0.29</td>\n",
       "    </tr>\n",
       "  </tbody>\n",
       "</table>\n",
       "</div>"
      ],
      "text/plain": [
       "                        name platform    year       genre publisher  rank  \\\n",
       "5957  Imagine: Makeup Artist       DS  2020.0  Simulation   Ubisoft  5959   \n",
       "\n",
       "      na_sales  eu_sales  jp_sales  other_sales  global_sales  \n",
       "5957      0.27       0.0       0.0         0.02          0.29  "
      ]
     },
     "execution_count": 6,
     "metadata": {},
     "output_type": "execute_result"
    }
   ],
   "source": [
    "games_data.loc[games_data[\"year\"] == 2020]"
   ]
  },
  {
   "cell_type": "code",
   "execution_count": 7,
   "metadata": {},
   "outputs": [],
   "source": [
    "games_data.drop([14390, 16241, 16438, 5957], axis = 0, inplace = True) # drops the entries from 2020 and 2017\n",
    "games_data[\"publisher\"].fillna(value = \"Unknown\", inplace = True) # fills in missing publisher values with 'Unknown'\n",
    "games_data.dropna(inplace = True) # drops remaining missing values from dataset\n",
    "games_data.reset_index(inplace = True, drop = True)"
   ]
  },
  {
   "cell_type": "code",
   "execution_count": 8,
   "metadata": {},
   "outputs": [],
   "source": [
    "trunc_data = games_data.loc[(games_data[\"global_sales\"] > 0.01)]"
   ]
  },
  {
   "cell_type": "code",
   "execution_count": 9,
   "metadata": {},
   "outputs": [
    {
     "data": {
      "text/html": [
       "<div>\n",
       "<style scoped>\n",
       "    .dataframe tbody tr th:only-of-type {\n",
       "        vertical-align: middle;\n",
       "    }\n",
       "\n",
       "    .dataframe tbody tr th {\n",
       "        vertical-align: top;\n",
       "    }\n",
       "\n",
       "    .dataframe thead th {\n",
       "        text-align: right;\n",
       "    }\n",
       "</style>\n",
       "<table border=\"1\" class=\"dataframe\">\n",
       "  <thead>\n",
       "    <tr style=\"text-align: right;\">\n",
       "      <th></th>\n",
       "      <th>year</th>\n",
       "      <th>rank</th>\n",
       "      <th>na_sales</th>\n",
       "      <th>eu_sales</th>\n",
       "      <th>jp_sales</th>\n",
       "      <th>other_sales</th>\n",
       "      <th>global_sales</th>\n",
       "    </tr>\n",
       "  </thead>\n",
       "  <tbody>\n",
       "    <tr>\n",
       "      <th>count</th>\n",
       "      <td>15720.000000</td>\n",
       "      <td>15720.000000</td>\n",
       "      <td>15720.000000</td>\n",
       "      <td>15720.000000</td>\n",
       "      <td>15720.000000</td>\n",
       "      <td>15720.000000</td>\n",
       "      <td>15720.000000</td>\n",
       "    </tr>\n",
       "    <tr>\n",
       "      <th>mean</th>\n",
       "      <td>2006.298982</td>\n",
       "      <td>7984.755534</td>\n",
       "      <td>0.275555</td>\n",
       "      <td>0.153152</td>\n",
       "      <td>0.081497</td>\n",
       "      <td>0.050190</td>\n",
       "      <td>0.560686</td>\n",
       "    </tr>\n",
       "    <tr>\n",
       "      <th>std</th>\n",
       "      <td>5.852258</td>\n",
       "      <td>4614.625014</td>\n",
       "      <td>0.835647</td>\n",
       "      <td>0.517682</td>\n",
       "      <td>0.317173</td>\n",
       "      <td>0.193275</td>\n",
       "      <td>1.592144</td>\n",
       "    </tr>\n",
       "    <tr>\n",
       "      <th>min</th>\n",
       "      <td>1980.000000</td>\n",
       "      <td>1.000000</td>\n",
       "      <td>0.000000</td>\n",
       "      <td>0.000000</td>\n",
       "      <td>0.000000</td>\n",
       "      <td>0.000000</td>\n",
       "      <td>0.020000</td>\n",
       "    </tr>\n",
       "    <tr>\n",
       "      <th>25%</th>\n",
       "      <td>2003.000000</td>\n",
       "      <td>3984.750000</td>\n",
       "      <td>0.000000</td>\n",
       "      <td>0.000000</td>\n",
       "      <td>0.000000</td>\n",
       "      <td>0.000000</td>\n",
       "      <td>0.070000</td>\n",
       "    </tr>\n",
       "    <tr>\n",
       "      <th>50%</th>\n",
       "      <td>2007.000000</td>\n",
       "      <td>7986.500000</td>\n",
       "      <td>0.080000</td>\n",
       "      <td>0.030000</td>\n",
       "      <td>0.000000</td>\n",
       "      <td>0.010000</td>\n",
       "      <td>0.190000</td>\n",
       "    </tr>\n",
       "    <tr>\n",
       "      <th>75%</th>\n",
       "      <td>2010.000000</td>\n",
       "      <td>11977.500000</td>\n",
       "      <td>0.250000</td>\n",
       "      <td>0.120000</td>\n",
       "      <td>0.040000</td>\n",
       "      <td>0.040000</td>\n",
       "      <td>0.500000</td>\n",
       "    </tr>\n",
       "    <tr>\n",
       "      <th>max</th>\n",
       "      <td>2016.000000</td>\n",
       "      <td>15982.000000</td>\n",
       "      <td>41.490000</td>\n",
       "      <td>29.020000</td>\n",
       "      <td>10.220000</td>\n",
       "      <td>10.570000</td>\n",
       "      <td>82.740000</td>\n",
       "    </tr>\n",
       "  </tbody>\n",
       "</table>\n",
       "</div>"
      ],
      "text/plain": [
       "               year          rank      na_sales      eu_sales      jp_sales  \\\n",
       "count  15720.000000  15720.000000  15720.000000  15720.000000  15720.000000   \n",
       "mean    2006.298982   7984.755534      0.275555      0.153152      0.081497   \n",
       "std        5.852258   4614.625014      0.835647      0.517682      0.317173   \n",
       "min     1980.000000      1.000000      0.000000      0.000000      0.000000   \n",
       "25%     2003.000000   3984.750000      0.000000      0.000000      0.000000   \n",
       "50%     2007.000000   7986.500000      0.080000      0.030000      0.000000   \n",
       "75%     2010.000000  11977.500000      0.250000      0.120000      0.040000   \n",
       "max     2016.000000  15982.000000     41.490000     29.020000     10.220000   \n",
       "\n",
       "        other_sales  global_sales  \n",
       "count  15720.000000  15720.000000  \n",
       "mean       0.050190      0.560686  \n",
       "std        0.193275      1.592144  \n",
       "min        0.000000      0.020000  \n",
       "25%        0.000000      0.070000  \n",
       "50%        0.010000      0.190000  \n",
       "75%        0.040000      0.500000  \n",
       "max       10.570000     82.740000  "
      ]
     },
     "execution_count": 9,
     "metadata": {},
     "output_type": "execute_result"
    }
   ],
   "source": [
    "# numeric summary after changes made\n",
    "trunc_data.describe()"
   ]
  },
  {
   "cell_type": "markdown",
   "metadata": {},
   "source": [
    "### Visualizations\n",
    "In this section, we will start to visualize some of the main aspects of this dataset. We will begin by visualizing the dataset in its entirety, then move on to regional visualizations."
   ]
  },
  {
   "cell_type": "code",
   "execution_count": 30,
   "metadata": {},
   "outputs": [
    {
     "data": {
      "image/svg+xml": [
       "<svg class=\"main-svg\" xmlns=\"http://www.w3.org/2000/svg\" xmlns:xlink=\"http://www.w3.org/1999/xlink\" width=\"700\" height=\"500\" style=\"\" viewBox=\"0 0 700 500\"><rect x=\"0\" y=\"0\" width=\"700\" height=\"500\" style=\"fill: rgb(255, 255, 255); fill-opacity: 1;\"/><defs id=\"defs-6a58f0\"><g class=\"clips\"><clipPath id=\"clip6a58f0xyplot\" class=\"plotclip\"><rect width=\"540\" height=\"320\"/></clipPath><clipPath class=\"axesclip\" id=\"clip6a58f0x\"><rect x=\"80\" y=\"0\" width=\"540\" height=\"500\"/></clipPath><clipPath class=\"axesclip\" id=\"clip6a58f0y\"><rect x=\"0\" y=\"100\" width=\"700\" height=\"320\"/></clipPath><clipPath class=\"axesclip\" id=\"clip6a58f0xy\"><rect x=\"80\" y=\"100\" width=\"540\" height=\"320\"/></clipPath></g><g class=\"gradients\"/><g class=\"patterns\"/></defs><g class=\"bglayer\"><rect class=\"bg\" x=\"80\" y=\"100\" width=\"540\" height=\"320\" style=\"fill: rgb(229, 236, 246); fill-opacity: 1; stroke-width: 0;\"/></g><g class=\"layer-below\"><g class=\"imagelayer\"/><g class=\"shapelayer\"/></g><g class=\"cartesianlayer\"><g class=\"subplot xy\"><g class=\"layer-subplot\"><g class=\"shapelayer\"/><g class=\"imagelayer\"/></g><g class=\"minor-gridlayer\"><g class=\"x\"/><g class=\"y\"/></g><g class=\"gridlayer\"><g class=\"x\"/><g class=\"y\"><path class=\"ygrid crisp\" transform=\"translate(0,404)\" d=\"M80,0h540\" style=\"stroke: rgb(255, 255, 255); stroke-opacity: 1; stroke-width: 1px;\"/><path class=\"ygrid crisp\" transform=\"translate(0,383.22)\" d=\"M80,0h540\" style=\"stroke: rgb(255, 255, 255); stroke-opacity: 1; stroke-width: 1px;\"/><path class=\"ygrid crisp\" transform=\"translate(0,355.76)\" d=\"M80,0h540\" style=\"stroke: rgb(255, 255, 255); stroke-opacity: 1; stroke-width: 1px;\"/><path class=\"ygrid crisp\" transform=\"translate(0,334.98)\" d=\"M80,0h540\" style=\"stroke: rgb(255, 255, 255); stroke-opacity: 1; stroke-width: 1px;\"/><path class=\"ygrid crisp\" transform=\"translate(0,314.2)\" d=\"M80,0h540\" style=\"stroke: rgb(255, 255, 255); stroke-opacity: 1; stroke-width: 1px;\"/><path class=\"ygrid crisp\" transform=\"translate(0,286.73)\" d=\"M80,0h540\" style=\"stroke: rgb(255, 255, 255); stroke-opacity: 1; stroke-width: 1px;\"/><path class=\"ygrid crisp\" transform=\"translate(0,265.96000000000004)\" d=\"M80,0h540\" style=\"stroke: rgb(255, 255, 255); stroke-opacity: 1; stroke-width: 1px;\"/><path class=\"ygrid crisp\" transform=\"translate(0,245.18)\" d=\"M80,0h540\" style=\"stroke: rgb(255, 255, 255); stroke-opacity: 1; stroke-width: 1px;\"/><path class=\"ygrid crisp\" transform=\"translate(0,217.70999999999998)\" d=\"M80,0h540\" style=\"stroke: rgb(255, 255, 255); stroke-opacity: 1; stroke-width: 1px;\"/><path class=\"ygrid crisp\" transform=\"translate(0,196.93)\" d=\"M80,0h540\" style=\"stroke: rgb(255, 255, 255); stroke-opacity: 1; stroke-width: 1px;\"/><path class=\"ygrid crisp\" transform=\"translate(0,176.16)\" d=\"M80,0h540\" style=\"stroke: rgb(255, 255, 255); stroke-opacity: 1; stroke-width: 1px;\"/><path class=\"ygrid crisp\" transform=\"translate(0,148.69)\" d=\"M80,0h540\" style=\"stroke: rgb(255, 255, 255); stroke-opacity: 1; stroke-width: 1px;\"/><path class=\"ygrid crisp\" transform=\"translate(0,127.91)\" d=\"M80,0h540\" style=\"stroke: rgb(255, 255, 255); stroke-opacity: 1; stroke-width: 1px;\"/><path class=\"ygrid crisp\" transform=\"translate(0,107.13)\" d=\"M80,0h540\" style=\"stroke: rgb(255, 255, 255); stroke-opacity: 1; stroke-width: 1px;\"/></g></g><g class=\"zerolinelayer\"/><path class=\"xlines-below\"/><path class=\"ylines-below\"/><g class=\"overlines-below\"/><g class=\"xaxislayer-below\"/><g class=\"yaxislayer-below\"/><g class=\"overaxes-below\"/><g class=\"plot\" transform=\"translate(80,100)\" clip-path=\"url(#clip6a58f0xyplot)\"><g class=\"barlayer mlayer\"><g class=\"trace bars\" shape-rendering=\"crispEdges\" style=\"opacity: 1;\"><g class=\"points\"><g class=\"point\"><path d=\"M0,3360V16H12.86V3360Z\" style=\"vector-effect: none; opacity: 1; stroke-width: 0px; fill: rgb(99, 110, 250); fill-opacity: 1;\"/></g><g class=\"point\"><path d=\"M12.86,3360V115.35H25.71V3360Z\" style=\"vector-effect: none; opacity: 1; stroke-width: 0px; fill: rgb(99, 110, 250); fill-opacity: 1;\"/></g><g class=\"point\"><path d=\"M25.71,3360V153.01H38.57V3360Z\" style=\"vector-effect: none; opacity: 1; stroke-width: 0px; fill: rgb(99, 110, 250); fill-opacity: 1;\"/></g><g class=\"point\"><path d=\"M38.57,3360V181.77H51.43V3360Z\" style=\"vector-effect: none; opacity: 1; stroke-width: 0px; fill: rgb(99, 110, 250); fill-opacity: 1;\"/></g><g class=\"point\"><path d=\"M51.43,3360V207.51H64.29V3360Z\" style=\"vector-effect: none; opacity: 1; stroke-width: 0px; fill: rgb(99, 110, 250); fill-opacity: 1;\"/></g><g class=\"point\"><path d=\"M64.29,3360V217.36H77.14V3360Z\" style=\"vector-effect: none; opacity: 1; stroke-width: 0px; fill: rgb(99, 110, 250); fill-opacity: 1;\"/></g><g class=\"point\"><path d=\"M77.14,3360V238.14H90V3360Z\" style=\"vector-effect: none; opacity: 1; stroke-width: 0px; fill: rgb(99, 110, 250); fill-opacity: 1;\"/></g><g class=\"point\"><path d=\"M90,3360V234.98H102.86V3360Z\" style=\"vector-effect: none; opacity: 1; stroke-width: 0px; fill: rgb(99, 110, 250); fill-opacity: 1;\"/></g><g class=\"point\"><path d=\"M102.86,3360V271.07H115.71V3360Z\" style=\"vector-effect: none; opacity: 1; stroke-width: 0px; fill: rgb(99, 110, 250); fill-opacity: 1;\"/></g><g class=\"point\"><path d=\"M115.71,3360V283.22H128.57V3360Z\" style=\"vector-effect: none; opacity: 1; stroke-width: 0px; fill: rgb(99, 110, 250); fill-opacity: 1;\"/></g><g class=\"point\"><path d=\"M128.57,3360V255.76H141.43V3360Z\" style=\"vector-effect: none; opacity: 1; stroke-width: 0px; fill: rgb(99, 110, 250); fill-opacity: 1;\"/></g><g class=\"point\"><path d=\"M141.43,3360V262.44H154.29V3360Z\" style=\"vector-effect: none; opacity: 1; stroke-width: 0px; fill: rgb(99, 110, 250); fill-opacity: 1;\"/></g><g class=\"point\"><path d=\"M154.29,3360V304H167.14V3360Z\" style=\"vector-effect: none; opacity: 1; stroke-width: 0px; fill: rgb(99, 110, 250); fill-opacity: 1;\"/></g><g class=\"point\"><path d=\"M0,0Z\" style=\"vector-effect: none; opacity: 1; stroke-width: 0px; fill: rgb(99, 110, 250); fill-opacity: 1;\"/></g><g class=\"point\"><path d=\"M180,3360V271.07H192.86V3360Z\" style=\"vector-effect: none; opacity: 1; stroke-width: 0px; fill: rgb(99, 110, 250); fill-opacity: 1;\"/></g><g class=\"point\"><path d=\"M192.86,3360V271.07H205.71V3360Z\" style=\"vector-effect: none; opacity: 1; stroke-width: 0px; fill: rgb(99, 110, 250); fill-opacity: 1;\"/></g><g class=\"point\"><path d=\"M205.71,3360V304H218.57V3360Z\" style=\"vector-effect: none; opacity: 1; stroke-width: 0px; fill: rgb(99, 110, 250); fill-opacity: 1;\"/></g><g class=\"point\"><path d=\"M218.57,3360V304H231.43V3360Z\" style=\"vector-effect: none; opacity: 1; stroke-width: 0px; fill: rgb(99, 110, 250); fill-opacity: 1;\"/></g><g class=\"point\"><path d=\"M0,0Z\" style=\"vector-effect: none; opacity: 1; stroke-width: 0px; fill: rgb(99, 110, 250); fill-opacity: 1;\"/></g><g class=\"point\"><path d=\"M0,0Z\" style=\"vector-effect: none; opacity: 1; stroke-width: 0px; fill: rgb(99, 110, 250); fill-opacity: 1;\"/></g><g class=\"point\"><path d=\"M257.14,3360V304H270V3360Z\" style=\"vector-effect: none; opacity: 1; stroke-width: 0px; fill: rgb(99, 110, 250); fill-opacity: 1;\"/></g><g class=\"point\"><path d=\"M0,0Z\" style=\"vector-effect: none; opacity: 1; stroke-width: 0px; fill: rgb(99, 110, 250); fill-opacity: 1;\"/></g><g class=\"point\"><path d=\"M0,0Z\" style=\"vector-effect: none; opacity: 1; stroke-width: 0px; fill: rgb(99, 110, 250); fill-opacity: 1;\"/></g><g class=\"point\"><path d=\"M0,0Z\" style=\"vector-effect: none; opacity: 1; stroke-width: 0px; fill: rgb(99, 110, 250); fill-opacity: 1;\"/></g><g class=\"point\"><path d=\"M0,0Z\" style=\"vector-effect: none; opacity: 1; stroke-width: 0px; fill: rgb(99, 110, 250); fill-opacity: 1;\"/></g><g class=\"point\"><path d=\"M0,0Z\" style=\"vector-effect: none; opacity: 1; stroke-width: 0px; fill: rgb(99, 110, 250); fill-opacity: 1;\"/></g><g class=\"point\"><path d=\"M0,0Z\" style=\"vector-effect: none; opacity: 1; stroke-width: 0px; fill: rgb(99, 110, 250); fill-opacity: 1;\"/></g><g class=\"point\"><path d=\"M0,0Z\" style=\"vector-effect: none; opacity: 1; stroke-width: 0px; fill: rgb(99, 110, 250); fill-opacity: 1;\"/></g><g class=\"point\"><path d=\"M0,0Z\" style=\"vector-effect: none; opacity: 1; stroke-width: 0px; fill: rgb(99, 110, 250); fill-opacity: 1;\"/></g><g class=\"point\"><path d=\"M0,0Z\" style=\"vector-effect: none; opacity: 1; stroke-width: 0px; fill: rgb(99, 110, 250); fill-opacity: 1;\"/></g><g class=\"point\"><path d=\"M0,0Z\" style=\"vector-effect: none; opacity: 1; stroke-width: 0px; fill: rgb(99, 110, 250); fill-opacity: 1;\"/></g><g class=\"point\"><path d=\"M0,0Z\" style=\"vector-effect: none; opacity: 1; stroke-width: 0px; fill: rgb(99, 110, 250); fill-opacity: 1;\"/></g><g class=\"point\"><path d=\"M0,0Z\" style=\"vector-effect: none; opacity: 1; stroke-width: 0px; fill: rgb(99, 110, 250); fill-opacity: 1;\"/></g><g class=\"point\"><path d=\"M0,0Z\" style=\"vector-effect: none; opacity: 1; stroke-width: 0px; fill: rgb(99, 110, 250); fill-opacity: 1;\"/></g><g class=\"point\"><path d=\"M0,0Z\" style=\"vector-effect: none; opacity: 1; stroke-width: 0px; fill: rgb(99, 110, 250); fill-opacity: 1;\"/></g><g class=\"point\"><path d=\"M0,0Z\" style=\"vector-effect: none; opacity: 1; stroke-width: 0px; fill: rgb(99, 110, 250); fill-opacity: 1;\"/></g><g class=\"point\"><path d=\"M0,0Z\" style=\"vector-effect: none; opacity: 1; stroke-width: 0px; fill: rgb(99, 110, 250); fill-opacity: 1;\"/></g><g class=\"point\"><path d=\"M0,0Z\" style=\"vector-effect: none; opacity: 1; stroke-width: 0px; fill: rgb(99, 110, 250); fill-opacity: 1;\"/></g><g class=\"point\"><path d=\"M0,0Z\" style=\"vector-effect: none; opacity: 1; stroke-width: 0px; fill: rgb(99, 110, 250); fill-opacity: 1;\"/></g><g class=\"point\"><path d=\"M0,0Z\" style=\"vector-effect: none; opacity: 1; stroke-width: 0px; fill: rgb(99, 110, 250); fill-opacity: 1;\"/></g><g class=\"point\"><path d=\"M0,0Z\" style=\"vector-effect: none; opacity: 1; stroke-width: 0px; fill: rgb(99, 110, 250); fill-opacity: 1;\"/></g><g class=\"point\"><path d=\"M527.14,3360V304H540V3360Z\" style=\"vector-effect: none; opacity: 1; stroke-width: 0px; fill: rgb(99, 110, 250); fill-opacity: 1;\"/></g></g></g></g></g><g class=\"overplot\"/><path class=\"xlines-above crisp\" d=\"M0,0\" style=\"fill: none;\"/><path class=\"ylines-above crisp\" d=\"M0,0\" style=\"fill: none;\"/><g class=\"overlines-above\"/><g class=\"xaxislayer-above\"><g class=\"xtick\"><text text-anchor=\"middle\" x=\"0\" y=\"433\" transform=\"translate(80,0)\" style=\"font-family: 'Open Sans', verdana, arial, sans-serif; font-size: 12px; fill: rgb(42, 63, 95); fill-opacity: 1; white-space: pre; opacity: 1;\">0</text></g><g class=\"xtick\"><text text-anchor=\"middle\" x=\"0\" y=\"433\" style=\"font-family: 'Open Sans', verdana, arial, sans-serif; font-size: 12px; fill: rgb(42, 63, 95); fill-opacity: 1; white-space: pre; opacity: 1;\" transform=\"translate(208.57,0)\">20</text></g><g class=\"xtick\"><text text-anchor=\"middle\" x=\"0\" y=\"433\" style=\"font-family: 'Open Sans', verdana, arial, sans-serif; font-size: 12px; fill: rgb(42, 63, 95); fill-opacity: 1; white-space: pre; opacity: 1;\" transform=\"translate(337.14,0)\">40</text></g><g class=\"xtick\"><text text-anchor=\"middle\" x=\"0\" y=\"433\" style=\"font-family: 'Open Sans', verdana, arial, sans-serif; font-size: 12px; fill: rgb(42, 63, 95); fill-opacity: 1; white-space: pre; opacity: 1;\" transform=\"translate(465.71,0)\">60</text></g><g class=\"xtick\"><text text-anchor=\"middle\" x=\"0\" y=\"433\" style=\"font-family: 'Open Sans', verdana, arial, sans-serif; font-size: 12px; fill: rgb(42, 63, 95); fill-opacity: 1; white-space: pre; opacity: 1;\" transform=\"translate(594.29,0)\">80</text></g></g><g class=\"yaxislayer-above\"><g class=\"ytick\"><text text-anchor=\"end\" x=\"79\" y=\"4.199999999999999\" transform=\"translate(0,404)\" style=\"font-family: 'Open Sans', verdana, arial, sans-serif; font-size: 12px; fill: rgb(42, 63, 95); fill-opacity: 1; white-space: pre; opacity: 1;\">1</text></g><g class=\"ytick\"><text text-anchor=\"end\" x=\"79\" y=\"3.15\" style=\"font-family: 'Open Sans', verdana, arial, sans-serif; font-size: 9px; fill: rgb(42, 63, 95); fill-opacity: 1; white-space: pre; opacity: 1;\" transform=\"translate(0,383.22)\">2</text></g><g class=\"ytick\"><text text-anchor=\"end\" x=\"79\" y=\"3.15\" style=\"font-family: 'Open Sans', verdana, arial, sans-serif; font-size: 9px; fill: rgb(42, 63, 95); fill-opacity: 1; white-space: pre; opacity: 1;\" transform=\"translate(0,355.76)\">5</text></g><g class=\"ytick\"><text text-anchor=\"end\" x=\"79\" y=\"4.199999999999999\" style=\"font-family: 'Open Sans', verdana, arial, sans-serif; font-size: 12px; fill: rgb(42, 63, 95); fill-opacity: 1; white-space: pre; opacity: 1;\" transform=\"translate(0,334.98)\">10</text></g><g class=\"ytick\"><text text-anchor=\"end\" x=\"79\" y=\"3.15\" style=\"font-family: 'Open Sans', verdana, arial, sans-serif; font-size: 9px; fill: rgb(42, 63, 95); fill-opacity: 1; white-space: pre; opacity: 1;\" transform=\"translate(0,314.2)\">2</text></g><g class=\"ytick\"><text text-anchor=\"end\" x=\"79\" y=\"3.15\" style=\"font-family: 'Open Sans', verdana, arial, sans-serif; font-size: 9px; fill: rgb(42, 63, 95); fill-opacity: 1; white-space: pre; opacity: 1;\" transform=\"translate(0,286.73)\">5</text></g><g class=\"ytick\"><text text-anchor=\"end\" x=\"79\" y=\"4.199999999999999\" style=\"font-family: 'Open Sans', verdana, arial, sans-serif; font-size: 12px; fill: rgb(42, 63, 95); fill-opacity: 1; white-space: pre; opacity: 1;\" transform=\"translate(0,265.96000000000004)\">100</text></g><g class=\"ytick\"><text text-anchor=\"end\" x=\"79\" y=\"3.15\" style=\"font-family: 'Open Sans', verdana, arial, sans-serif; font-size: 9px; fill: rgb(42, 63, 95); fill-opacity: 1; white-space: pre; opacity: 1;\" transform=\"translate(0,245.18)\">2</text></g><g class=\"ytick\"><text text-anchor=\"end\" x=\"79\" y=\"3.15\" style=\"font-family: 'Open Sans', verdana, arial, sans-serif; font-size: 9px; fill: rgb(42, 63, 95); fill-opacity: 1; white-space: pre; opacity: 1;\" transform=\"translate(0,217.70999999999998)\">5</text></g><g class=\"ytick\"><text text-anchor=\"end\" x=\"79\" y=\"4.199999999999999\" style=\"font-family: 'Open Sans', verdana, arial, sans-serif; font-size: 12px; fill: rgb(42, 63, 95); fill-opacity: 1; white-space: pre; opacity: 1;\" transform=\"translate(0,196.93)\">1000</text></g><g class=\"ytick\"><text text-anchor=\"end\" x=\"79\" y=\"3.15\" style=\"font-family: 'Open Sans', verdana, arial, sans-serif; font-size: 9px; fill: rgb(42, 63, 95); fill-opacity: 1; white-space: pre; opacity: 1;\" transform=\"translate(0,176.16)\">2</text></g><g class=\"ytick\"><text text-anchor=\"end\" x=\"79\" y=\"3.15\" style=\"font-family: 'Open Sans', verdana, arial, sans-serif; font-size: 9px; fill: rgb(42, 63, 95); fill-opacity: 1; white-space: pre; opacity: 1;\" transform=\"translate(0,148.69)\">5</text></g><g class=\"ytick\"><text text-anchor=\"end\" x=\"79\" y=\"4.199999999999999\" style=\"font-family: 'Open Sans', verdana, arial, sans-serif; font-size: 12px; fill: rgb(42, 63, 95); fill-opacity: 1; white-space: pre; opacity: 1;\" transform=\"translate(0,127.91)\">10k</text></g><g class=\"ytick\"><text text-anchor=\"end\" x=\"79\" y=\"3.15\" style=\"font-family: 'Open Sans', verdana, arial, sans-serif; font-size: 9px; fill: rgb(42, 63, 95); fill-opacity: 1; white-space: pre; opacity: 1;\" transform=\"translate(0,107.13)\">2</text></g></g><g class=\"overaxes-above\"/></g></g><g class=\"polarlayer\"/><g class=\"smithlayer\"/><g class=\"ternarylayer\"/><g class=\"geolayer\"/><g class=\"funnelarealayer\"/><g class=\"pielayer\"/><g class=\"iciclelayer\"/><g class=\"treemaplayer\"/><g class=\"sunburstlayer\"/><g class=\"glimages\"/><defs id=\"topdefs-6a58f0\"><g class=\"clips\"/></defs><g class=\"layer-above\"><g class=\"imagelayer\"/><g class=\"shapelayer\"/></g><g class=\"infolayer\"><g class=\"g-gtitle\"><text class=\"gtitle\" x=\"35\" y=\"50\" text-anchor=\"start\" dy=\"0em\" style=\"font-family: 'Open Sans', verdana, arial, sans-serif; font-size: 17px; fill: rgb(42, 63, 95); opacity: 1; font-weight: normal; white-space: pre;\">Histogram of Global Sales</text></g><g class=\"g-xtitle\"><text class=\"xtitle\" x=\"350\" y=\"460.3\" text-anchor=\"middle\" style=\"font-family: 'Open Sans', verdana, arial, sans-serif; font-size: 14px; fill: rgb(42, 63, 95); opacity: 1; font-weight: normal; white-space: pre;\">global_sales</text></g><g class=\"g-ytitle\"><text class=\"ytitle\" transform=\"rotate(-90,24.184375000000003,260)\" x=\"24.184375000000003\" y=\"260\" text-anchor=\"middle\" style=\"font-family: 'Open Sans', verdana, arial, sans-serif; font-size: 14px; fill: rgb(42, 63, 95); opacity: 1; font-weight: normal; white-space: pre;\">count</text></g></g></svg>"
      ]
     },
     "metadata": {},
     "output_type": "display_data"
    }
   ],
   "source": [
    "# hist global sales\n",
    "fig = px.histogram(trunc_data, x = \"global_sales\", nbins=50 ,log_y=True, title = \"Histogram of Global Sales\")\n",
    "fig.show(\"svg\")"
   ]
  },
  {
   "cell_type": "markdown",
   "metadata": {},
   "source": [
    "From this histogram, we can observe that a majority of the games in this data set had between 0 and 10 million sales, with only a few games having more than 20 million sales. There are two noteworthy points: one game that had between 40 and 42 million sales and one game that had more than 80 million sales.\n",
    "\n",
    "We already saw which games these points belonged to: the game with the largest number of sales is Wii Sports on the Wii and the game with the second largest number of sales is Super Mario Bros on the NES, both published by Nintendo.\n",
    "***"
   ]
  },
  {
   "cell_type": "code",
   "execution_count": 29,
   "metadata": {},
   "outputs": [
    {
     "data": {
      "image/svg+xml": [
       "<svg class=\"main-svg\" xmlns=\"http://www.w3.org/2000/svg\" xmlns:xlink=\"http://www.w3.org/1999/xlink\" width=\"700\" height=\"500\" style=\"\" viewBox=\"0 0 700 500\"><rect x=\"0\" y=\"0\" width=\"700\" height=\"500\" style=\"fill: rgb(255, 255, 255); fill-opacity: 1;\"/><defs id=\"defs-f7954d\"><g class=\"clips\"><clipPath id=\"clipf7954dxyplot\" class=\"plotclip\"><rect width=\"540\" height=\"117\"/></clipPath><clipPath class=\"axesclip\" id=\"clipf7954dx\"><rect x=\"80\" y=\"0\" width=\"540\" height=\"500\"/></clipPath><clipPath class=\"axesclip\" id=\"clipf7954dy\"><rect x=\"0\" y=\"100\" width=\"700\" height=\"117\"/></clipPath><clipPath class=\"axesclip\" id=\"clipf7954dxy\"><rect x=\"80\" y=\"100\" width=\"540\" height=\"117\"/></clipPath></g><g class=\"gradients\"/><g class=\"patterns\"/></defs><g class=\"bglayer\"><rect class=\"bg\" x=\"80\" y=\"100\" width=\"540\" height=\"117\" style=\"fill: rgb(229, 236, 246); fill-opacity: 1; stroke-width: 0;\"/></g><g class=\"layer-below\"><g class=\"imagelayer\"/><g class=\"shapelayer\"/></g><g class=\"cartesianlayer\"><g class=\"subplot xy\"><g class=\"layer-subplot\"><g class=\"shapelayer\"/><g class=\"imagelayer\"/></g><g class=\"minor-gridlayer\"><g class=\"x\"/><g class=\"y\"/></g><g class=\"gridlayer\"><g class=\"x\"/><g class=\"y\"><path class=\"ygrid crisp\" transform=\"translate(0,185.85)\" d=\"M80,0h540\" style=\"stroke: rgb(255, 255, 255); stroke-opacity: 1; stroke-width: 1px;\"/><path class=\"ygrid crisp\" transform=\"translate(0,154.71)\" d=\"M80,0h540\" style=\"stroke: rgb(255, 255, 255); stroke-opacity: 1; stroke-width: 1px;\"/><path class=\"ygrid crisp\" transform=\"translate(0,123.56)\" d=\"M80,0h540\" style=\"stroke: rgb(255, 255, 255); stroke-opacity: 1; stroke-width: 1px;\"/></g></g><g class=\"zerolinelayer\"><path class=\"yzl zl crisp\" transform=\"translate(0,217)\" d=\"M80,0h540\" style=\"stroke: rgb(255, 255, 255); stroke-opacity: 1; stroke-width: 2px;\"/></g><path class=\"xlines-below\"/><path class=\"ylines-below\"/><g class=\"overlines-below\"/><g class=\"xaxislayer-below\"/><g class=\"yaxislayer-below\"/><g class=\"overaxes-below\"/><g class=\"plot\" transform=\"translate(80,100)\" clip-path=\"url(#clipf7954dxyplot)\"><g class=\"barlayer mlayer\"><g class=\"trace bars\" style=\"opacity: 1;\"><g class=\"points\"><g class=\"point\"><path d=\"M3.38,117V5.85H30.38V117Z\" style=\"vector-effect: none; opacity: 1; stroke-width: 0.5px; fill: rgb(99, 110, 250); fill-opacity: 1; stroke: rgb(229, 236, 246); stroke-opacity: 1;\"/></g><g class=\"point\"><path d=\"M37.13,117V48.9H64.13V117Z\" style=\"vector-effect: none; opacity: 1; stroke-width: 0.5px; fill: rgb(99, 110, 250); fill-opacity: 1; stroke: rgb(229, 236, 246); stroke-opacity: 1;\"/></g><g class=\"point\"><path d=\"M70.88,117V72.07H97.88V117Z\" style=\"vector-effect: none; opacity: 1; stroke-width: 0.5px; fill: rgb(99, 110, 250); fill-opacity: 1; stroke: rgb(229, 236, 246); stroke-opacity: 1;\"/></g><g class=\"point\"><path d=\"M104.63,117V79.18H131.63V117Z\" style=\"vector-effect: none; opacity: 1; stroke-width: 0.5px; fill: rgb(99, 110, 250); fill-opacity: 1; stroke: rgb(229, 236, 246); stroke-opacity: 1;\"/></g><g class=\"point\"><path d=\"M138.38,117V87.53H165.38V117Z\" style=\"vector-effect: none; opacity: 1; stroke-width: 0.5px; fill: rgb(99, 110, 250); fill-opacity: 1; stroke: rgb(229, 236, 246); stroke-opacity: 1;\"/></g><g class=\"point\"><path d=\"M172.13,117V92.13H199.12V117Z\" style=\"vector-effect: none; opacity: 1; stroke-width: 0.5px; fill: rgb(99, 110, 250); fill-opacity: 1; stroke: rgb(229, 236, 246); stroke-opacity: 1;\"/></g><g class=\"point\"><path d=\"M205.88,117V95.8H232.87V117Z\" style=\"vector-effect: none; opacity: 1; stroke-width: 0.5px; fill: rgb(99, 110, 250); fill-opacity: 1; stroke: rgb(229, 236, 246); stroke-opacity: 1;\"/></g><g class=\"point\"><path d=\"M239.63,117V99.66H266.63V117Z\" style=\"vector-effect: none; opacity: 1; stroke-width: 0.5px; fill: rgb(99, 110, 250); fill-opacity: 1; stroke: rgb(229, 236, 246); stroke-opacity: 1;\"/></g><g class=\"point\"><path d=\"M273.38,117V100.15H300.38V117Z\" style=\"vector-effect: none; opacity: 1; stroke-width: 0.5px; fill: rgb(99, 110, 250); fill-opacity: 1; stroke: rgb(229, 236, 246); stroke-opacity: 1;\"/></g><g class=\"point\"><path d=\"M307.13,117V101.22H334.13V117Z\" style=\"vector-effect: none; opacity: 1; stroke-width: 0.5px; fill: rgb(99, 110, 250); fill-opacity: 1; stroke: rgb(229, 236, 246); stroke-opacity: 1;\"/></g><g class=\"point\"><path d=\"M340.88,117V101.69H367.88V117Z\" style=\"vector-effect: none; opacity: 1; stroke-width: 0.5px; fill: rgb(99, 110, 250); fill-opacity: 1; stroke: rgb(229, 236, 246); stroke-opacity: 1;\"/></g><g class=\"point\"><path d=\"M374.63,117V104.55H401.63V117Z\" style=\"vector-effect: none; opacity: 1; stroke-width: 0.5px; fill: rgb(99, 110, 250); fill-opacity: 1; stroke: rgb(229, 236, 246); stroke-opacity: 1;\"/></g><g class=\"point\"><path d=\"M408.38,117V107.86H435.38V117Z\" style=\"vector-effect: none; opacity: 1; stroke-width: 0.5px; fill: rgb(99, 110, 250); fill-opacity: 1; stroke: rgb(229, 236, 246); stroke-opacity: 1;\"/></g><g class=\"point\"><path d=\"M442.13,117V107.99H469.13V117Z\" style=\"vector-effect: none; opacity: 1; stroke-width: 0.5px; fill: rgb(99, 110, 250); fill-opacity: 1; stroke: rgb(229, 236, 246); stroke-opacity: 1;\"/></g><g class=\"point\"><path d=\"M475.88,117V108.13H502.88V117Z\" style=\"vector-effect: none; opacity: 1; stroke-width: 0.5px; fill: rgb(99, 110, 250); fill-opacity: 1; stroke: rgb(229, 236, 246); stroke-opacity: 1;\"/></g><g class=\"point\"><path d=\"M509.63,117V109.6H536.63V117Z\" style=\"vector-effect: none; opacity: 1; stroke-width: 0.5px; fill: rgb(99, 110, 250); fill-opacity: 1; stroke: rgb(229, 236, 246); stroke-opacity: 1;\"/></g></g></g></g></g><g class=\"overplot\"/><path class=\"xlines-above crisp\" d=\"M0,0\" style=\"fill: none;\"/><path class=\"ylines-above crisp\" d=\"M0,0\" style=\"fill: none;\"/><g class=\"overlines-above\"/><g class=\"xaxislayer-above\"><g class=\"xtick\"><text text-anchor=\"start\" x=\"0\" y=\"230\" transform=\"translate(96.88,0) rotate(90,0,224)\" style=\"font-family: 'Open Sans', verdana, arial, sans-serif; font-size: 12px; fill: rgb(42, 63, 95); fill-opacity: 1; white-space: pre; opacity: 1;\">Nintendo</text></g><g class=\"xtick\"><text text-anchor=\"start\" x=\"0\" y=\"230\" transform=\"translate(130.63,0) rotate(90,0,224)\" style=\"font-family: 'Open Sans', verdana, arial, sans-serif; font-size: 12px; fill: rgb(42, 63, 95); fill-opacity: 1; white-space: pre; opacity: 1;\">Electronic Arts</text></g><g class=\"xtick\"><text text-anchor=\"start\" x=\"0\" y=\"230\" transform=\"translate(164.38,0) rotate(90,0,224)\" style=\"font-family: 'Open Sans', verdana, arial, sans-serif; font-size: 12px; fill: rgb(42, 63, 95); fill-opacity: 1; white-space: pre; opacity: 1;\">Activision</text></g><g class=\"xtick\"><text text-anchor=\"start\" x=\"0\" y=\"230\" transform=\"translate(198.13,0) rotate(90,0,224)\" style=\"font-family: 'Open Sans', verdana, arial, sans-serif; font-size: 12px; fill: rgb(42, 63, 95); fill-opacity: 1; white-space: pre; opacity: 1;\">Sony Computer Entertainment</text></g><g class=\"xtick\"><text text-anchor=\"start\" x=\"0\" y=\"230\" transform=\"translate(231.88,0) rotate(90,0,224)\" style=\"font-family: 'Open Sans', verdana, arial, sans-serif; font-size: 12px; fill: rgb(42, 63, 95); fill-opacity: 1; white-space: pre; opacity: 1;\">Ubisoft</text></g><g class=\"xtick\"><text text-anchor=\"start\" x=\"0\" y=\"230\" transform=\"translate(265.63,0) rotate(90,0,224)\" style=\"font-family: 'Open Sans', verdana, arial, sans-serif; font-size: 12px; fill: rgb(42, 63, 95); fill-opacity: 1; white-space: pre; opacity: 1;\">Take-Two Interactive</text></g><g class=\"xtick\"><text text-anchor=\"start\" x=\"0\" y=\"230\" transform=\"translate(299.38,0) rotate(90,0,224)\" style=\"font-family: 'Open Sans', verdana, arial, sans-serif; font-size: 12px; fill: rgb(42, 63, 95); fill-opacity: 1; white-space: pre; opacity: 1;\">THQ</text></g><g class=\"xtick\"><text text-anchor=\"start\" x=\"0\" y=\"230\" transform=\"translate(333.13,0) rotate(90,0,224)\" style=\"font-family: 'Open Sans', verdana, arial, sans-serif; font-size: 12px; fill: rgb(42, 63, 95); fill-opacity: 1; white-space: pre; opacity: 1;\">Konami Digital Entertainment</text></g><g class=\"xtick\"><text text-anchor=\"start\" x=\"0\" y=\"230\" transform=\"translate(366.88,0) rotate(90,0,224)\" style=\"font-family: 'Open Sans', verdana, arial, sans-serif; font-size: 12px; fill: rgb(42, 63, 95); fill-opacity: 1; white-space: pre; opacity: 1;\">Sega</text></g><g class=\"xtick\"><text text-anchor=\"start\" x=\"0\" y=\"230\" transform=\"translate(400.63,0) rotate(90,0,224)\" style=\"font-family: 'Open Sans', verdana, arial, sans-serif; font-size: 12px; fill: rgb(42, 63, 95); fill-opacity: 1; white-space: pre; opacity: 1;\">Namco Bandai Games</text></g><g class=\"xtick\"><text text-anchor=\"start\" x=\"0\" y=\"230\" transform=\"translate(434.38,0) rotate(90,0,224)\" style=\"font-family: 'Open Sans', verdana, arial, sans-serif; font-size: 12px; fill: rgb(42, 63, 95); fill-opacity: 1; white-space: pre; opacity: 1;\">Microsoft Game Studios</text></g><g class=\"xtick\"><text text-anchor=\"start\" x=\"0\" y=\"230\" transform=\"translate(468.13,0) rotate(90,0,224)\" style=\"font-family: 'Open Sans', verdana, arial, sans-serif; font-size: 12px; fill: rgb(42, 63, 95); fill-opacity: 1; white-space: pre; opacity: 1;\">Capcom</text></g><g class=\"xtick\"><text text-anchor=\"start\" x=\"0\" y=\"230\" transform=\"translate(501.88,0) rotate(90,0,224)\" style=\"font-family: 'Open Sans', verdana, arial, sans-serif; font-size: 12px; fill: rgb(42, 63, 95); fill-opacity: 1; white-space: pre; opacity: 1;\">Atari</text></g><g class=\"xtick\"><text text-anchor=\"start\" x=\"0\" y=\"230\" transform=\"translate(535.63,0) rotate(90,0,224)\" style=\"font-family: 'Open Sans', verdana, arial, sans-serif; font-size: 12px; fill: rgb(42, 63, 95); fill-opacity: 1; white-space: pre; opacity: 1;\">Square Enix</text></g><g class=\"xtick\"><text text-anchor=\"start\" x=\"0\" y=\"230\" transform=\"translate(569.38,0) rotate(90,0,224)\" style=\"font-family: 'Open Sans', verdana, arial, sans-serif; font-size: 12px; fill: rgb(42, 63, 95); fill-opacity: 1; white-space: pre; opacity: 1;\">Warner Bros. Interactive Entertainment</text></g><g class=\"xtick\"><text text-anchor=\"start\" x=\"0\" y=\"230\" transform=\"translate(603.13,0) rotate(90,0,224)\" style=\"font-family: 'Open Sans', verdana, arial, sans-serif; font-size: 12px; fill: rgb(42, 63, 95); fill-opacity: 1; white-space: pre; opacity: 1;\">Disney Interactive Studios</text></g></g><g class=\"yaxislayer-above\"><g class=\"ytick\"><text text-anchor=\"end\" x=\"79\" y=\"4.199999999999999\" transform=\"translate(0,217)\" style=\"font-family: 'Open Sans', verdana, arial, sans-serif; font-size: 12px; fill: rgb(42, 63, 95); fill-opacity: 1; white-space: pre; opacity: 1;\">0</text></g><g class=\"ytick\"><text text-anchor=\"end\" x=\"79\" y=\"4.199999999999999\" style=\"font-family: 'Open Sans', verdana, arial, sans-serif; font-size: 12px; fill: rgb(42, 63, 95); fill-opacity: 1; white-space: pre; opacity: 1;\" transform=\"translate(0,185.85)\">500</text></g><g class=\"ytick\"><text text-anchor=\"end\" x=\"79\" y=\"4.199999999999999\" style=\"font-family: 'Open Sans', verdana, arial, sans-serif; font-size: 12px; fill: rgb(42, 63, 95); fill-opacity: 1; white-space: pre; opacity: 1;\" transform=\"translate(0,154.71)\">1000</text></g><g class=\"ytick\"><text text-anchor=\"end\" x=\"79\" y=\"4.199999999999999\" style=\"font-family: 'Open Sans', verdana, arial, sans-serif; font-size: 12px; fill: rgb(42, 63, 95); fill-opacity: 1; white-space: pre; opacity: 1;\" transform=\"translate(0,123.56)\">1500</text></g></g><g class=\"overaxes-above\"/></g></g><g class=\"polarlayer\"/><g class=\"smithlayer\"/><g class=\"ternarylayer\"/><g class=\"geolayer\"/><g class=\"funnelarealayer\"/><g class=\"pielayer\"/><g class=\"iciclelayer\"/><g class=\"treemaplayer\"/><g class=\"sunburstlayer\"/><g class=\"glimages\"/><defs id=\"topdefs-f7954d\"><g class=\"clips\"/></defs><g class=\"layer-above\"><g class=\"imagelayer\"/><g class=\"shapelayer\"/></g><g class=\"infolayer\"><g class=\"g-gtitle\"><text class=\"gtitle\" x=\"35\" y=\"50\" text-anchor=\"start\" dy=\"0em\" style=\"font-family: 'Open Sans', verdana, arial, sans-serif; font-size: 17px; fill: rgb(42, 63, 95); opacity: 1; font-weight: normal; white-space: pre;\">Histogram of Publishers</text></g><g class=\"g-xtitle\"><text class=\"xtitle\" x=\"350\" y=\"487.159375\" text-anchor=\"middle\" style=\"font-family: 'Open Sans', verdana, arial, sans-serif; font-size: 14px; fill: rgb(42, 63, 95); opacity: 1; font-weight: normal; white-space: pre;\">publisher</text></g><g class=\"g-ytitle\"><text class=\"ytitle\" transform=\"rotate(-90,24.184375000000003,158.5)\" x=\"24.184375000000003\" y=\"158.5\" text-anchor=\"middle\" style=\"font-family: 'Open Sans', verdana, arial, sans-serif; font-size: 14px; fill: rgb(42, 63, 95); opacity: 1; font-weight: normal; white-space: pre;\">global_sales</text></g></g></svg>"
      ]
     },
     "metadata": {},
     "output_type": "display_data"
    }
   ],
   "source": [
    "# publishers by global sales\n",
    "top_publishers = trunc_data.groupby(\"publisher\").sum().sort_values(by = \"global_sales\", ascending = False)[[\"na_sales\", \"eu_sales\", \"jp_sales\", \"other_sales\", \"global_sales\"]].reset_index()\n",
    "actual_top_pub = top_publishers.loc[top_publishers[\"global_sales\"] >= 100]\n",
    "fig = px.bar(actual_top_pub, x = \"publisher\", y = \"global_sales\", title = \"Histogram of Publishers\")\n",
    "fig.show(\"svg\")"
   ]
  },
  {
   "cell_type": "markdown",
   "metadata": {},
   "source": [
    "Here, Nintendo is by far the most successful publisher, in terms of the number of global sales. This begs the question: is this the result of the number of games they have put out compared to other publishers? Or could it be that some of their games are immensely popular.\n",
    "\n",
    "We will explore this question later on, but a preliminary look at the data suggests that Nintendo just releases popular games. This is supported by the fact that the top 10 games, in terms of global sales, are all published by Nintendo.\n",
    "***"
   ]
  },
  {
   "cell_type": "code",
   "execution_count": 28,
   "metadata": {},
   "outputs": [
    {
     "data": {
      "image/svg+xml": [
       "<svg class=\"main-svg\" xmlns=\"http://www.w3.org/2000/svg\" xmlns:xlink=\"http://www.w3.org/1999/xlink\" width=\"700\" height=\"500\" style=\"\" viewBox=\"0 0 700 500\"><rect x=\"0\" y=\"0\" width=\"700\" height=\"500\" style=\"fill: rgb(255, 255, 255); fill-opacity: 1;\"/><defs id=\"defs-de2273\"><g class=\"clips\"><clipPath id=\"clipde2273xyplot\" class=\"plotclip\"><rect width=\"540\" height=\"320\"/></clipPath><clipPath class=\"axesclip\" id=\"clipde2273x\"><rect x=\"80\" y=\"0\" width=\"540\" height=\"500\"/></clipPath><clipPath class=\"axesclip\" id=\"clipde2273y\"><rect x=\"0\" y=\"100\" width=\"700\" height=\"320\"/></clipPath><clipPath class=\"axesclip\" id=\"clipde2273xy\"><rect x=\"80\" y=\"100\" width=\"540\" height=\"320\"/></clipPath></g><g class=\"gradients\"/><g class=\"patterns\"/></defs><g class=\"bglayer\"><rect class=\"bg\" x=\"80\" y=\"100\" width=\"540\" height=\"320\" style=\"fill: rgb(229, 236, 246); fill-opacity: 1; stroke-width: 0;\"/></g><g class=\"layer-below\"><g class=\"imagelayer\"/><g class=\"shapelayer\"/></g><g class=\"cartesianlayer\"><g class=\"subplot xy\"><g class=\"layer-subplot\"><g class=\"shapelayer\"/><g class=\"imagelayer\"/></g><g class=\"minor-gridlayer\"><g class=\"x\"/><g class=\"y\"/></g><g class=\"gridlayer\"><g class=\"x\"/><g class=\"y\"><path class=\"ygrid crisp\" transform=\"translate(0,370.68)\" d=\"M80,0h540\" style=\"stroke: rgb(255, 255, 255); stroke-opacity: 1; stroke-width: 1px;\"/><path class=\"ygrid crisp\" transform=\"translate(0,321.36)\" d=\"M80,0h540\" style=\"stroke: rgb(255, 255, 255); stroke-opacity: 1; stroke-width: 1px;\"/><path class=\"ygrid crisp\" transform=\"translate(0,272.03999999999996)\" d=\"M80,0h540\" style=\"stroke: rgb(255, 255, 255); stroke-opacity: 1; stroke-width: 1px;\"/><path class=\"ygrid crisp\" transform=\"translate(0,222.72)\" d=\"M80,0h540\" style=\"stroke: rgb(255, 255, 255); stroke-opacity: 1; stroke-width: 1px;\"/><path class=\"ygrid crisp\" transform=\"translate(0,173.4)\" d=\"M80,0h540\" style=\"stroke: rgb(255, 255, 255); stroke-opacity: 1; stroke-width: 1px;\"/><path class=\"ygrid crisp\" transform=\"translate(0,124.09)\" d=\"M80,0h540\" style=\"stroke: rgb(255, 255, 255); stroke-opacity: 1; stroke-width: 1px;\"/></g></g><g class=\"zerolinelayer\"><path class=\"yzl zl crisp\" transform=\"translate(0,420)\" d=\"M80,0h540\" style=\"stroke: rgb(255, 255, 255); stroke-opacity: 1; stroke-width: 2px;\"/></g><path class=\"xlines-below\"/><path class=\"ylines-below\"/><g class=\"overlines-below\"/><g class=\"xaxislayer-below\"/><g class=\"yaxislayer-below\"/><g class=\"overaxes-below\"/><g class=\"plot\" transform=\"translate(80,100)\" clip-path=\"url(#clipde2273xyplot)\"><g class=\"barlayer mlayer\"><g class=\"trace bars\" style=\"opacity: 1;\"><g class=\"points\"><g class=\"point\"><path d=\"M2.57,320V16H23.14V320Z\" style=\"vector-effect: none; opacity: 1; stroke-width: 0.5px; fill: rgb(99, 110, 250); fill-opacity: 1; stroke: rgb(229, 236, 246); stroke-opacity: 1;\"/></g><g class=\"point\"><path d=\"M28.29,320V80.98H48.86V320Z\" style=\"vector-effect: none; opacity: 1; stroke-width: 0.5px; fill: rgb(99, 110, 250); fill-opacity: 1; stroke: rgb(229, 236, 246); stroke-opacity: 1;\"/></g><g class=\"point\"><path d=\"M54,320V85.96H74.57V320Z\" style=\"vector-effect: none; opacity: 1; stroke-width: 0.5px; fill: rgb(99, 110, 250); fill-opacity: 1; stroke: rgb(229, 236, 246); stroke-opacity: 1;\"/></g><g class=\"point\"><path d=\"M79.71,320V95.72H100.29V320Z\" style=\"vector-effect: none; opacity: 1; stroke-width: 0.5px; fill: rgb(99, 110, 250); fill-opacity: 1; stroke: rgb(229, 236, 246); stroke-opacity: 1;\"/></g><g class=\"point\"><path d=\"M105.43,320V118.34H126V320Z\" style=\"vector-effect: none; opacity: 1; stroke-width: 0.5px; fill: rgb(99, 110, 250); fill-opacity: 1; stroke: rgb(229, 236, 246); stroke-opacity: 1;\"/></g><g class=\"point\"><path d=\"M131.14,320V140.65H151.71V320Z\" style=\"vector-effect: none; opacity: 1; stroke-width: 0.5px; fill: rgb(99, 110, 250); fill-opacity: 1; stroke: rgb(229, 236, 246); stroke-opacity: 1;\"/></g><g class=\"point\"><path d=\"M156.86,320V242.75H177.43V320Z\" style=\"vector-effect: none; opacity: 1; stroke-width: 0.5px; fill: rgb(99, 110, 250); fill-opacity: 1; stroke: rgb(229, 236, 246); stroke-opacity: 1;\"/></g><g class=\"point\"><path d=\"M182.57,320V248.29H203.14V320Z\" style=\"vector-effect: none; opacity: 1; stroke-width: 0.5px; fill: rgb(99, 110, 250); fill-opacity: 1; stroke: rgb(229, 236, 246); stroke-opacity: 1;\"/></g><g class=\"point\"><path d=\"M208.29,320V251.46H228.86V320Z\" style=\"vector-effect: none; opacity: 1; stroke-width: 0.5px; fill: rgb(99, 110, 250); fill-opacity: 1; stroke: rgb(229, 236, 246); stroke-opacity: 1;\"/></g><g class=\"point\"><path d=\"M234,320V257.26H254.57V320Z\" style=\"vector-effect: none; opacity: 1; stroke-width: 0.5px; fill: rgb(99, 110, 250); fill-opacity: 1; stroke: rgb(229, 236, 246); stroke-opacity: 1;\"/></g><g class=\"point\"><path d=\"M259.71,320V257.36H280.29V320Z\" style=\"vector-effect: none; opacity: 1; stroke-width: 0.5px; fill: rgb(99, 110, 250); fill-opacity: 1; stroke: rgb(229, 236, 246); stroke-opacity: 1;\"/></g><g class=\"point\"><path d=\"M285.43,320V257.87H306V320Z\" style=\"vector-effect: none; opacity: 1; stroke-width: 0.5px; fill: rgb(99, 110, 250); fill-opacity: 1; stroke: rgb(229, 236, 246); stroke-opacity: 1;\"/></g><g class=\"point\"><path d=\"M311.14,320V258.09H331.71V320Z\" style=\"vector-effect: none; opacity: 1; stroke-width: 0.5px; fill: rgb(99, 110, 250); fill-opacity: 1; stroke: rgb(229, 236, 246); stroke-opacity: 1;\"/></g><g class=\"point\"><path d=\"M336.86,320V259.33H357.43V320Z\" style=\"vector-effect: none; opacity: 1; stroke-width: 0.5px; fill: rgb(99, 110, 250); fill-opacity: 1; stroke: rgb(229, 236, 246); stroke-opacity: 1;\"/></g><g class=\"point\"><path d=\"M362.57,320V266.2H383.14V320Z\" style=\"vector-effect: none; opacity: 1; stroke-width: 0.5px; fill: rgb(99, 110, 250); fill-opacity: 1; stroke: rgb(229, 236, 246); stroke-opacity: 1;\"/></g><g class=\"point\"><path d=\"M388.29,320V270.67H408.86V320Z\" style=\"vector-effect: none; opacity: 1; stroke-width: 0.5px; fill: rgb(99, 110, 250); fill-opacity: 1; stroke: rgb(229, 236, 246); stroke-opacity: 1;\"/></g><g class=\"point\"><path d=\"M414,320V271.41H434.57V320Z\" style=\"vector-effect: none; opacity: 1; stroke-width: 0.5px; fill: rgb(99, 110, 250); fill-opacity: 1; stroke: rgb(229, 236, 246); stroke-opacity: 1;\"/></g><g class=\"point\"><path d=\"M439.71,320V285.25H460.29V320Z\" style=\"vector-effect: none; opacity: 1; stroke-width: 0.5px; fill: rgb(99, 110, 250); fill-opacity: 1; stroke: rgb(229, 236, 246); stroke-opacity: 1;\"/></g><g class=\"point\"><path d=\"M465.43,320V298.65H486V320Z\" style=\"vector-effect: none; opacity: 1; stroke-width: 0.5px; fill: rgb(99, 110, 250); fill-opacity: 1; stroke: rgb(229, 236, 246); stroke-opacity: 1;\"/></g><g class=\"point\"><path d=\"M491.14,320V299.83H511.71V320Z\" style=\"vector-effect: none; opacity: 1; stroke-width: 0.5px; fill: rgb(99, 110, 250); fill-opacity: 1; stroke: rgb(229, 236, 246); stroke-opacity: 1;\"/></g><g class=\"point\"><path d=\"M516.86,320V304.92H537.43V320Z\" style=\"vector-effect: none; opacity: 1; stroke-width: 0.5px; fill: rgb(99, 110, 250); fill-opacity: 1; stroke: rgb(229, 236, 246); stroke-opacity: 1;\"/></g></g></g></g></g><g class=\"overplot\"/><path class=\"xlines-above crisp\" d=\"M0,0\" style=\"fill: none;\"/><path class=\"ylines-above crisp\" d=\"M0,0\" style=\"fill: none;\"/><g class=\"overlines-above\"/><g class=\"xaxislayer-above\"><g class=\"xtick\"><text text-anchor=\"start\" x=\"0\" y=\"433\" transform=\"translate(92.86,0) rotate(90,0,427)\" style=\"font-family: 'Open Sans', verdana, arial, sans-serif; font-size: 12px; fill: rgb(42, 63, 95); fill-opacity: 1; white-space: pre; opacity: 1;\">PS2</text></g><g class=\"xtick\"><text text-anchor=\"start\" x=\"0\" y=\"433\" transform=\"translate(118.57,0) rotate(90,0,427)\" style=\"font-family: 'Open Sans', verdana, arial, sans-serif; font-size: 12px; fill: rgb(42, 63, 95); fill-opacity: 1; white-space: pre; opacity: 1;\">X360</text></g><g class=\"xtick\"><text text-anchor=\"start\" x=\"0\" y=\"433\" transform=\"translate(144.29000000000002,0) rotate(90,0,427)\" style=\"font-family: 'Open Sans', verdana, arial, sans-serif; font-size: 12px; fill: rgb(42, 63, 95); fill-opacity: 1; white-space: pre; opacity: 1;\">PS3</text></g><g class=\"xtick\"><text text-anchor=\"start\" x=\"0\" y=\"433\" transform=\"translate(170,0) rotate(90,0,427)\" style=\"font-family: 'Open Sans', verdana, arial, sans-serif; font-size: 12px; fill: rgb(42, 63, 95); fill-opacity: 1; white-space: pre; opacity: 1;\">Wii</text></g><g class=\"xtick\"><text text-anchor=\"start\" x=\"0\" y=\"433\" transform=\"translate(195.70999999999998,0) rotate(90,0,427)\" style=\"font-family: 'Open Sans', verdana, arial, sans-serif; font-size: 12px; fill: rgb(42, 63, 95); fill-opacity: 1; white-space: pre; opacity: 1;\">DS</text></g><g class=\"xtick\"><text text-anchor=\"start\" x=\"0\" y=\"433\" transform=\"translate(221.43,0) rotate(90,0,427)\" style=\"font-family: 'Open Sans', verdana, arial, sans-serif; font-size: 12px; fill: rgb(42, 63, 95); fill-opacity: 1; white-space: pre; opacity: 1;\">PS</text></g><g class=\"xtick\"><text text-anchor=\"start\" x=\"0\" y=\"433\" transform=\"translate(247.14,0) rotate(90,0,427)\" style=\"font-family: 'Open Sans', verdana, arial, sans-serif; font-size: 12px; fill: rgb(42, 63, 95); fill-opacity: 1; white-space: pre; opacity: 1;\">GBA</text></g><g class=\"xtick\"><text text-anchor=\"start\" x=\"0\" y=\"433\" transform=\"translate(272.86,0) rotate(90,0,427)\" style=\"font-family: 'Open Sans', verdana, arial, sans-serif; font-size: 12px; fill: rgb(42, 63, 95); fill-opacity: 1; white-space: pre; opacity: 1;\">PSP</text></g><g class=\"xtick\"><text text-anchor=\"start\" x=\"0\" y=\"433\" transform=\"translate(298.57,0) rotate(90,0,427)\" style=\"font-family: 'Open Sans', verdana, arial, sans-serif; font-size: 12px; fill: rgb(42, 63, 95); fill-opacity: 1; white-space: pre; opacity: 1;\">PS4</text></g><g class=\"xtick\"><text text-anchor=\"start\" x=\"0\" y=\"433\" transform=\"translate(324.28999999999996,0) rotate(90,0,427)\" style=\"font-family: 'Open Sans', verdana, arial, sans-serif; font-size: 12px; fill: rgb(42, 63, 95); fill-opacity: 1; white-space: pre; opacity: 1;\">GB</text></g><g class=\"xtick\"><text text-anchor=\"start\" x=\"0\" y=\"433\" transform=\"translate(350,0) rotate(90,0,427)\" style=\"font-family: 'Open Sans', verdana, arial, sans-serif; font-size: 12px; fill: rgb(42, 63, 95); fill-opacity: 1; white-space: pre; opacity: 1;\">PC</text></g><g class=\"xtick\"><text text-anchor=\"start\" x=\"0\" y=\"433\" transform=\"translate(375.71,0) rotate(90,0,427)\" style=\"font-family: 'Open Sans', verdana, arial, sans-serif; font-size: 12px; fill: rgb(42, 63, 95); fill-opacity: 1; white-space: pre; opacity: 1;\">XB</text></g><g class=\"xtick\"><text text-anchor=\"start\" x=\"0\" y=\"433\" transform=\"translate(401.43,0) rotate(90,0,427)\" style=\"font-family: 'Open Sans', verdana, arial, sans-serif; font-size: 12px; fill: rgb(42, 63, 95); fill-opacity: 1; white-space: pre; opacity: 1;\">NES</text></g><g class=\"xtick\"><text text-anchor=\"start\" x=\"0\" y=\"433\" transform=\"translate(427.14,0) rotate(90,0,427)\" style=\"font-family: 'Open Sans', verdana, arial, sans-serif; font-size: 12px; fill: rgb(42, 63, 95); fill-opacity: 1; white-space: pre; opacity: 1;\">3DS</text></g><g class=\"xtick\"><text text-anchor=\"start\" x=\"0\" y=\"433\" transform=\"translate(452.86,0) rotate(90,0,427)\" style=\"font-family: 'Open Sans', verdana, arial, sans-serif; font-size: 12px; fill: rgb(42, 63, 95); fill-opacity: 1; white-space: pre; opacity: 1;\">N64</text></g><g class=\"xtick\"><text text-anchor=\"start\" x=\"0\" y=\"433\" transform=\"translate(478.57,0) rotate(90,0,427)\" style=\"font-family: 'Open Sans', verdana, arial, sans-serif; font-size: 12px; fill: rgb(42, 63, 95); fill-opacity: 1; white-space: pre; opacity: 1;\">SNES</text></g><g class=\"xtick\"><text text-anchor=\"start\" x=\"0\" y=\"433\" transform=\"translate(504.29,0) rotate(90,0,427)\" style=\"font-family: 'Open Sans', verdana, arial, sans-serif; font-size: 12px; fill: rgb(42, 63, 95); fill-opacity: 1; white-space: pre; opacity: 1;\">GC</text></g><g class=\"xtick\"><text text-anchor=\"start\" x=\"0\" y=\"433\" transform=\"translate(530,0) rotate(90,0,427)\" style=\"font-family: 'Open Sans', verdana, arial, sans-serif; font-size: 12px; fill: rgb(42, 63, 95); fill-opacity: 1; white-space: pre; opacity: 1;\">XOne</text></g><g class=\"xtick\"><text text-anchor=\"start\" x=\"0\" y=\"433\" transform=\"translate(555.71,0) rotate(90,0,427)\" style=\"font-family: 'Open Sans', verdana, arial, sans-serif; font-size: 12px; fill: rgb(42, 63, 95); fill-opacity: 1; white-space: pre; opacity: 1;\">2600</text></g><g class=\"xtick\"><text text-anchor=\"start\" x=\"0\" y=\"433\" transform=\"translate(581.4300000000001,0) rotate(90,0,427)\" style=\"font-family: 'Open Sans', verdana, arial, sans-serif; font-size: 12px; fill: rgb(42, 63, 95); fill-opacity: 1; white-space: pre; opacity: 1;\">WiiU</text></g><g class=\"xtick\"><text text-anchor=\"start\" x=\"0\" y=\"433\" transform=\"translate(607.14,0) rotate(90,0,427)\" style=\"font-family: 'Open Sans', verdana, arial, sans-serif; font-size: 12px; fill: rgb(42, 63, 95); fill-opacity: 1; white-space: pre; opacity: 1;\">PSV</text></g></g><g class=\"yaxislayer-above\"><g class=\"ytick\"><text text-anchor=\"end\" x=\"79\" y=\"4.199999999999999\" transform=\"translate(0,420)\" style=\"font-family: 'Open Sans', verdana, arial, sans-serif; font-size: 12px; fill: rgb(42, 63, 95); fill-opacity: 1; white-space: pre; opacity: 1;\">0</text></g><g class=\"ytick\"><text text-anchor=\"end\" x=\"79\" y=\"4.199999999999999\" style=\"font-family: 'Open Sans', verdana, arial, sans-serif; font-size: 12px; fill: rgb(42, 63, 95); fill-opacity: 1; white-space: pre; opacity: 1;\" transform=\"translate(0,370.68)\">200</text></g><g class=\"ytick\"><text text-anchor=\"end\" x=\"79\" y=\"4.199999999999999\" style=\"font-family: 'Open Sans', verdana, arial, sans-serif; font-size: 12px; fill: rgb(42, 63, 95); fill-opacity: 1; white-space: pre; opacity: 1;\" transform=\"translate(0,321.36)\">400</text></g><g class=\"ytick\"><text text-anchor=\"end\" x=\"79\" y=\"4.199999999999999\" style=\"font-family: 'Open Sans', verdana, arial, sans-serif; font-size: 12px; fill: rgb(42, 63, 95); fill-opacity: 1; white-space: pre; opacity: 1;\" transform=\"translate(0,272.03999999999996)\">600</text></g><g class=\"ytick\"><text text-anchor=\"end\" x=\"79\" y=\"4.199999999999999\" style=\"font-family: 'Open Sans', verdana, arial, sans-serif; font-size: 12px; fill: rgb(42, 63, 95); fill-opacity: 1; white-space: pre; opacity: 1;\" transform=\"translate(0,222.72)\">800</text></g><g class=\"ytick\"><text text-anchor=\"end\" x=\"79\" y=\"4.199999999999999\" style=\"font-family: 'Open Sans', verdana, arial, sans-serif; font-size: 12px; fill: rgb(42, 63, 95); fill-opacity: 1; white-space: pre; opacity: 1;\" transform=\"translate(0,173.4)\">1000</text></g><g class=\"ytick\"><text text-anchor=\"end\" x=\"79\" y=\"4.199999999999999\" style=\"font-family: 'Open Sans', verdana, arial, sans-serif; font-size: 12px; fill: rgb(42, 63, 95); fill-opacity: 1; white-space: pre; opacity: 1;\" transform=\"translate(0,124.09)\">1200</text></g></g><g class=\"overaxes-above\"/></g></g><g class=\"polarlayer\"/><g class=\"smithlayer\"/><g class=\"ternarylayer\"/><g class=\"geolayer\"/><g class=\"funnelarealayer\"/><g class=\"pielayer\"/><g class=\"iciclelayer\"/><g class=\"treemaplayer\"/><g class=\"sunburstlayer\"/><g class=\"glimages\"/><defs id=\"topdefs-de2273\"><g class=\"clips\"/></defs><g class=\"layer-above\"><g class=\"imagelayer\"/><g class=\"shapelayer\"/></g><g class=\"infolayer\"><g class=\"g-gtitle\"><text class=\"gtitle\" x=\"35\" y=\"50\" text-anchor=\"start\" dy=\"0em\" style=\"font-family: 'Open Sans', verdana, arial, sans-serif; font-size: 17px; fill: rgb(42, 63, 95); opacity: 1; font-weight: normal; white-space: pre;\">Histogram of Platforms</text></g><g class=\"g-xtitle\"><text class=\"xtitle\" x=\"350\" y=\"484.284375\" text-anchor=\"middle\" style=\"font-family: 'Open Sans', verdana, arial, sans-serif; font-size: 14px; fill: rgb(42, 63, 95); opacity: 1; font-weight: normal; white-space: pre;\">platform</text></g><g class=\"g-ytitle\"><text class=\"ytitle\" transform=\"rotate(-90,24.184375000000003,260)\" x=\"24.184375000000003\" y=\"260\" text-anchor=\"middle\" style=\"font-family: 'Open Sans', verdana, arial, sans-serif; font-size: 14px; fill: rgb(42, 63, 95); opacity: 1; font-weight: normal; white-space: pre;\">global_sales</text></g></g></svg>"
      ]
     },
     "metadata": {},
     "output_type": "display_data"
    }
   ],
   "source": [
    "# same for top platforms\n",
    "top_platforms = trunc_data.groupby(\"platform\").sum().sort_values(by = \"global_sales\", ascending = False)[[\"na_sales\", \"eu_sales\", \"jp_sales\", \"other_sales\", \"global_sales\"]].reset_index()\n",
    "fig = px.bar(top_platforms.loc[top_platforms[\"global_sales\"] > 50], x = \"platform\", y = \"global_sales\", title = \"Histogram of Platforms\")\n",
    "fig.show(\"svg\")"
   ]
  },
  {
   "cell_type": "code",
   "execution_count": 31,
   "metadata": {},
   "outputs": [
    {
     "data": {
      "image/svg+xml": [
       "<svg class=\"main-svg\" xmlns=\"http://www.w3.org/2000/svg\" xmlns:xlink=\"http://www.w3.org/1999/xlink\" width=\"700\" height=\"500\" style=\"\" viewBox=\"0 0 700 500\"><rect x=\"0\" y=\"0\" width=\"700\" height=\"500\" style=\"fill: rgb(255, 255, 255); fill-opacity: 1;\"/><defs id=\"defs-c71db3\"><g class=\"clips\"><clipPath id=\"clipc71db3xyplot\" class=\"plotclip\"><rect width=\"540\" height=\"311\"/></clipPath><clipPath class=\"axesclip\" id=\"clipc71db3x\"><rect x=\"80\" y=\"0\" width=\"540\" height=\"500\"/></clipPath><clipPath class=\"axesclip\" id=\"clipc71db3y\"><rect x=\"0\" y=\"100\" width=\"700\" height=\"311\"/></clipPath><clipPath class=\"axesclip\" id=\"clipc71db3xy\"><rect x=\"80\" y=\"100\" width=\"540\" height=\"311\"/></clipPath></g><g class=\"gradients\"/><g class=\"patterns\"/></defs><g class=\"bglayer\"><rect class=\"bg\" x=\"80\" y=\"100\" width=\"540\" height=\"311\" style=\"fill: rgb(229, 236, 246); fill-opacity: 1; stroke-width: 0;\"/></g><g class=\"layer-below\"><g class=\"imagelayer\"/><g class=\"shapelayer\"/></g><g class=\"cartesianlayer\"><g class=\"subplot xy\"><g class=\"layer-subplot\"><g class=\"shapelayer\"/><g class=\"imagelayer\"/></g><g class=\"minor-gridlayer\"><g class=\"x\"/><g class=\"y\"/></g><g class=\"gridlayer\"><g class=\"x\"/><g class=\"y\"><path class=\"ygrid crisp\" transform=\"translate(0,325.2)\" d=\"M80,0h540\" style=\"stroke: rgb(255, 255, 255); stroke-opacity: 1; stroke-width: 1px;\"/><path class=\"ygrid crisp\" transform=\"translate(0,239.41)\" d=\"M80,0h540\" style=\"stroke: rgb(255, 255, 255); stroke-opacity: 1; stroke-width: 1px;\"/><path class=\"ygrid crisp\" transform=\"translate(0,153.61)\" d=\"M80,0h540\" style=\"stroke: rgb(255, 255, 255); stroke-opacity: 1; stroke-width: 1px;\"/></g></g><g class=\"zerolinelayer\"><path class=\"yzl zl crisp\" transform=\"translate(0,411)\" d=\"M80,0h540\" style=\"stroke: rgb(255, 255, 255); stroke-opacity: 1; stroke-width: 2px;\"/></g><path class=\"xlines-below\"/><path class=\"ylines-below\"/><g class=\"overlines-below\"/><g class=\"xaxislayer-below\"/><g class=\"yaxislayer-below\"/><g class=\"overaxes-below\"/><g class=\"plot\" transform=\"translate(80,100)\" clip-path=\"url(#clipc71db3xyplot)\"><g class=\"barlayer mlayer\"><g class=\"trace bars\" style=\"opacity: 1;\"><g class=\"points\"><g class=\"point\"><path d=\"M4.5,311V15.55H40.5V311Z\" style=\"vector-effect: none; opacity: 1; stroke-width: 0.5px; fill: rgb(99, 110, 250); fill-opacity: 1; stroke: rgb(229, 236, 246); stroke-opacity: 1;\"/></g><g class=\"point\"><path d=\"M49.5,311V86.43H85.5V311Z\" style=\"vector-effect: none; opacity: 1; stroke-width: 0.5px; fill: rgb(99, 110, 250); fill-opacity: 1; stroke: rgb(229, 236, 246); stroke-opacity: 1;\"/></g><g class=\"point\"><path d=\"M94.5,311V134.96H130.5V311Z\" style=\"vector-effect: none; opacity: 1; stroke-width: 0.5px; fill: rgb(99, 110, 250); fill-opacity: 1; stroke: rgb(229, 236, 246); stroke-opacity: 1;\"/></g><g class=\"point\"><path d=\"M139.5,311V152.55H175.5V311Z\" style=\"vector-effect: none; opacity: 1; stroke-width: 0.5px; fill: rgb(99, 110, 250); fill-opacity: 1; stroke: rgb(229, 236, 246); stroke-opacity: 1;\"/></g><g class=\"point\"><path d=\"M184.5,311V168.75H220.5V311Z\" style=\"vector-effect: none; opacity: 1; stroke-width: 0.5px; fill: rgb(99, 110, 250); fill-opacity: 1; stroke: rgb(229, 236, 246); stroke-opacity: 1;\"/></g><g class=\"point\"><path d=\"M229.5,311V174.24H265.5V311Z\" style=\"vector-effect: none; opacity: 1; stroke-width: 0.5px; fill: rgb(99, 110, 250); fill-opacity: 1; stroke: rgb(229, 236, 246); stroke-opacity: 1;\"/></g><g class=\"point\"><path d=\"M274.5,311V186.36H310.5V311Z\" style=\"vector-effect: none; opacity: 1; stroke-width: 0.5px; fill: rgb(99, 110, 250); fill-opacity: 1; stroke: rgb(229, 236, 246); stroke-opacity: 1;\"/></g><g class=\"point\"><path d=\"M319.5,311V234.85H355.5V311Z\" style=\"vector-effect: none; opacity: 1; stroke-width: 0.5px; fill: rgb(99, 110, 250); fill-opacity: 1; stroke: rgb(229, 236, 246); stroke-opacity: 1;\"/></g><g class=\"point\"><path d=\"M364.5,311V244.14H400.5V311Z\" style=\"vector-effect: none; opacity: 1; stroke-width: 0.5px; fill: rgb(99, 110, 250); fill-opacity: 1; stroke: rgb(229, 236, 246); stroke-opacity: 1;\"/></g><g class=\"point\"><path d=\"M409.5,311V269.5H445.5V311Z\" style=\"vector-effect: none; opacity: 1; stroke-width: 0.5px; fill: rgb(99, 110, 250); fill-opacity: 1; stroke: rgb(229, 236, 246); stroke-opacity: 1;\"/></g><g class=\"point\"><path d=\"M454.5,311V270.96H490.5V311Z\" style=\"vector-effect: none; opacity: 1; stroke-width: 0.5px; fill: rgb(99, 110, 250); fill-opacity: 1; stroke: rgb(229, 236, 246); stroke-opacity: 1;\"/></g><g class=\"point\"><path d=\"M499.5,311V281.3H535.5V311Z\" style=\"vector-effect: none; opacity: 1; stroke-width: 0.5px; fill: rgb(99, 110, 250); fill-opacity: 1; stroke: rgb(229, 236, 246); stroke-opacity: 1;\"/></g></g></g></g></g><g class=\"overplot\"/><path class=\"xlines-above crisp\" d=\"M0,0\" style=\"fill: none;\"/><path class=\"ylines-above crisp\" d=\"M0,0\" style=\"fill: none;\"/><g class=\"overlines-above\"/><g class=\"xaxislayer-above\"><g class=\"xtick\"><text text-anchor=\"start\" x=\"0\" y=\"424\" transform=\"translate(102.5,0) rotate(30,0,418)\" style=\"font-family: 'Open Sans', verdana, arial, sans-serif; font-size: 12px; fill: rgb(42, 63, 95); fill-opacity: 1; white-space: pre; opacity: 1;\">Action</text></g><g class=\"xtick\"><text text-anchor=\"start\" x=\"0\" y=\"424\" transform=\"translate(147.5,0) rotate(30,0,418)\" style=\"font-family: 'Open Sans', verdana, arial, sans-serif; font-size: 12px; fill: rgb(42, 63, 95); fill-opacity: 1; white-space: pre; opacity: 1;\">Sports</text></g><g class=\"xtick\"><text text-anchor=\"start\" x=\"0\" y=\"424\" transform=\"translate(192.5,0) rotate(30,0,418)\" style=\"font-family: 'Open Sans', verdana, arial, sans-serif; font-size: 12px; fill: rgb(42, 63, 95); fill-opacity: 1; white-space: pre; opacity: 1;\">Shooter</text></g><g class=\"xtick\"><text text-anchor=\"start\" x=\"0\" y=\"424\" transform=\"translate(237.5,0) rotate(30,0,418)\" style=\"font-family: 'Open Sans', verdana, arial, sans-serif; font-size: 12px; fill: rgb(42, 63, 95); fill-opacity: 1; white-space: pre; opacity: 1;\">Role-Playing</text></g><g class=\"xtick\"><text text-anchor=\"start\" x=\"0\" y=\"424\" transform=\"translate(282.5,0) rotate(30,0,418)\" style=\"font-family: 'Open Sans', verdana, arial, sans-serif; font-size: 12px; fill: rgb(42, 63, 95); fill-opacity: 1; white-space: pre; opacity: 1;\">Platform</text></g><g class=\"xtick\"><text text-anchor=\"start\" x=\"0\" y=\"424\" transform=\"translate(327.5,0) rotate(30,0,418)\" style=\"font-family: 'Open Sans', verdana, arial, sans-serif; font-size: 12px; fill: rgb(42, 63, 95); fill-opacity: 1; white-space: pre; opacity: 1;\">Misc</text></g><g class=\"xtick\"><text text-anchor=\"start\" x=\"0\" y=\"424\" transform=\"translate(372.5,0) rotate(30,0,418)\" style=\"font-family: 'Open Sans', verdana, arial, sans-serif; font-size: 12px; fill: rgb(42, 63, 95); fill-opacity: 1; white-space: pre; opacity: 1;\">Racing</text></g><g class=\"xtick\"><text text-anchor=\"start\" x=\"0\" y=\"424\" transform=\"translate(417.5,0) rotate(30,0,418)\" style=\"font-family: 'Open Sans', verdana, arial, sans-serif; font-size: 12px; fill: rgb(42, 63, 95); fill-opacity: 1; white-space: pre; opacity: 1;\">Fighting</text></g><g class=\"xtick\"><text text-anchor=\"start\" x=\"0\" y=\"424\" transform=\"translate(462.5,0) rotate(30,0,418)\" style=\"font-family: 'Open Sans', verdana, arial, sans-serif; font-size: 12px; fill: rgb(42, 63, 95); fill-opacity: 1; white-space: pre; opacity: 1;\">Simulation</text></g><g class=\"xtick\"><text text-anchor=\"start\" x=\"0\" y=\"424\" transform=\"translate(507.5,0) rotate(30,0,418)\" style=\"font-family: 'Open Sans', verdana, arial, sans-serif; font-size: 12px; fill: rgb(42, 63, 95); fill-opacity: 1; white-space: pre; opacity: 1;\">Puzzle</text></g><g class=\"xtick\"><text text-anchor=\"start\" x=\"0\" y=\"424\" transform=\"translate(552.5,0) rotate(30,0,418)\" style=\"font-family: 'Open Sans', verdana, arial, sans-serif; font-size: 12px; fill: rgb(42, 63, 95); fill-opacity: 1; white-space: pre; opacity: 1;\">Adventure</text></g><g class=\"xtick\"><text text-anchor=\"start\" x=\"0\" y=\"424\" transform=\"translate(597.5,0) rotate(30,0,418)\" style=\"font-family: 'Open Sans', verdana, arial, sans-serif; font-size: 12px; fill: rgb(42, 63, 95); fill-opacity: 1; white-space: pre; opacity: 1;\">Strategy</text></g></g><g class=\"yaxislayer-above\"><g class=\"ytick\"><text text-anchor=\"end\" x=\"79\" y=\"4.199999999999999\" transform=\"translate(0,411)\" style=\"font-family: 'Open Sans', verdana, arial, sans-serif; font-size: 12px; fill: rgb(42, 63, 95); fill-opacity: 1; white-space: pre; opacity: 1;\">0</text></g><g class=\"ytick\"><text text-anchor=\"end\" x=\"79\" y=\"4.199999999999999\" style=\"font-family: 'Open Sans', verdana, arial, sans-serif; font-size: 12px; fill: rgb(42, 63, 95); fill-opacity: 1; white-space: pre; opacity: 1;\" transform=\"translate(0,325.2)\">500</text></g><g class=\"ytick\"><text text-anchor=\"end\" x=\"79\" y=\"4.199999999999999\" style=\"font-family: 'Open Sans', verdana, arial, sans-serif; font-size: 12px; fill: rgb(42, 63, 95); fill-opacity: 1; white-space: pre; opacity: 1;\" transform=\"translate(0,239.41)\">1000</text></g><g class=\"ytick\"><text text-anchor=\"end\" x=\"79\" y=\"4.199999999999999\" style=\"font-family: 'Open Sans', verdana, arial, sans-serif; font-size: 12px; fill: rgb(42, 63, 95); fill-opacity: 1; white-space: pre; opacity: 1;\" transform=\"translate(0,153.61)\">1500</text></g></g><g class=\"overaxes-above\"/></g></g><g class=\"polarlayer\"/><g class=\"smithlayer\"/><g class=\"ternarylayer\"/><g class=\"geolayer\"/><g class=\"funnelarealayer\"/><g class=\"pielayer\"/><g class=\"iciclelayer\"/><g class=\"treemaplayer\"/><g class=\"sunburstlayer\"/><g class=\"glimages\"/><defs id=\"topdefs-c71db3\"><g class=\"clips\"/></defs><g class=\"layer-above\"><g class=\"imagelayer\"/><g class=\"shapelayer\"/></g><g class=\"infolayer\"><g class=\"g-gtitle\"><text class=\"gtitle\" x=\"35\" y=\"50\" text-anchor=\"start\" dy=\"0em\" style=\"font-family: 'Open Sans', verdana, arial, sans-serif; font-size: 17px; fill: rgb(42, 63, 95); opacity: 1; font-weight: normal; white-space: pre;\">Histogram of Genres</text></g><g class=\"g-xtitle\"><text class=\"xtitle\" x=\"350\" y=\"487.2658203125\" text-anchor=\"middle\" style=\"font-family: 'Open Sans', verdana, arial, sans-serif; font-size: 14px; fill: rgb(42, 63, 95); opacity: 1; font-weight: normal; white-space: pre;\">genre</text></g><g class=\"g-ytitle\"><text class=\"ytitle\" transform=\"rotate(-90,24.184375000000003,255.5)\" x=\"24.184375000000003\" y=\"255.5\" text-anchor=\"middle\" style=\"font-family: 'Open Sans', verdana, arial, sans-serif; font-size: 14px; fill: rgb(42, 63, 95); opacity: 1; font-weight: normal; white-space: pre;\">global_sales</text></g></g></svg>"
      ]
     },
     "metadata": {},
     "output_type": "display_data"
    }
   ],
   "source": [
    "# same for top genre\n",
    "top_genres = trunc_data.groupby(\"genre\").sum().sort_values(by = \"global_sales\", ascending = False)[[\"na_sales\", \"eu_sales\", \"jp_sales\", \"other_sales\", \"global_sales\"]].reset_index()\n",
    "fig = px.bar(top_genres, x = \"genre\", y = \"global_sales\", title = \"Histogram of Genres\")\n",
    "fig.show(\"svg\")"
   ]
  },
  {
   "cell_type": "code",
   "execution_count": 15,
   "metadata": {},
   "outputs": [],
   "source": [
    "def aggregate_regional_summary(feature):\n",
    "    \"\"\"\n",
    "    Gets regional sum and average, grouped by << feature >> (genre, publisher, year).\n",
    "    \n",
    "    Parameters:\n",
    "    feature <str>: category of interest in dataframe\n",
    "    \n",
    "    Returns:\n",
    "    agg_sales <dataframe>: dataframe of regional sum and average, grouped by feature\n",
    "    \"\"\"\n",
    "    \n",
    "    # get na_sales\n",
    "    na_sales = trunc_data.groupby(feature)[\"na_sales\"].agg([\"sum\", \"mean\"]).reset_index()\n",
    "    na_sales.columns = [feature, \"sum_na\", \"avg_na\"]\n",
    "    \n",
    "    # get eu_sales\n",
    "    eu_sales = trunc_data.groupby(feature)[\"eu_sales\"].agg([\"sum\", \"mean\"]).reset_index()\n",
    "    eu_sales.columns = [feature, \"sum_eu\", \"avg_eu\"]\n",
    "    \n",
    "    # get jp_sales\n",
    "    jp_sales = trunc_data.groupby(feature)[\"jp_sales\"].agg([\"sum\", \"mean\"]).reset_index()\n",
    "    jp_sales.columns = [feature, \"sum_jp\", \"avg_jp\"]\n",
    "\n",
    "    # get other_sales\n",
    "    other_sales = trunc_data.groupby(feature)[\"other_sales\"].agg([\"sum\", \"mean\"]).reset_index()\n",
    "    other_sales.columns = [feature, \"sum_other\", \"avg_other\"]\n",
    "\n",
    "    # get global_sales\n",
    "    global_sales = trunc_data.groupby(feature)[\"global_sales\"].agg([\"sum\", \"mean\"]).reset_index()\n",
    "    global_sales.columns = [feature, \"sum_global\", \"avg_global\"]\n",
    "    \n",
    "    # merge all sales tables on the category of interest\n",
    "    agg_sales = na_sales.merge(eu_sales, on = feature).merge(jp_sales, on = feature).merge(other_sales, on = feature).merge(global_sales, on = feature)\n",
    "    \n",
    "    return agg_sales"
   ]
  },
  {
   "cell_type": "code",
   "execution_count": 16,
   "metadata": {
    "scrolled": true
   },
   "outputs": [
    {
     "data": {
      "text/html": [
       "<div>\n",
       "<style scoped>\n",
       "    .dataframe tbody tr th:only-of-type {\n",
       "        vertical-align: middle;\n",
       "    }\n",
       "\n",
       "    .dataframe tbody tr th {\n",
       "        vertical-align: top;\n",
       "    }\n",
       "\n",
       "    .dataframe thead th {\n",
       "        text-align: right;\n",
       "    }\n",
       "</style>\n",
       "<table border=\"1\" class=\"dataframe\">\n",
       "  <thead>\n",
       "    <tr style=\"text-align: right;\">\n",
       "      <th></th>\n",
       "      <th>genre</th>\n",
       "      <th>sum_na</th>\n",
       "      <th>avg_na</th>\n",
       "      <th>sum_eu</th>\n",
       "      <th>avg_eu</th>\n",
       "      <th>sum_jp</th>\n",
       "      <th>avg_jp</th>\n",
       "      <th>sum_other</th>\n",
       "      <th>avg_other</th>\n",
       "      <th>sum_global</th>\n",
       "      <th>avg_global</th>\n",
       "    </tr>\n",
       "  </thead>\n",
       "  <tbody>\n",
       "    <tr>\n",
       "      <th>0</th>\n",
       "      <td>Action</td>\n",
       "      <td>861.59</td>\n",
       "      <td>0.273694</td>\n",
       "      <td>516.18</td>\n",
       "      <td>0.163971</td>\n",
       "      <td>158.10</td>\n",
       "      <td>0.050222</td>\n",
       "      <td>184.92</td>\n",
       "      <td>0.058742</td>\n",
       "      <td>1721.83</td>\n",
       "      <td>0.546960</td>\n",
       "    </tr>\n",
       "    <tr>\n",
       "      <th>1</th>\n",
       "      <td>Adventure</td>\n",
       "      <td>101.94</td>\n",
       "      <td>0.090292</td>\n",
       "      <td>63.67</td>\n",
       "      <td>0.056395</td>\n",
       "      <td>50.77</td>\n",
       "      <td>0.044969</td>\n",
       "      <td>16.70</td>\n",
       "      <td>0.014792</td>\n",
       "      <td>233.33</td>\n",
       "      <td>0.206670</td>\n",
       "    </tr>\n",
       "    <tr>\n",
       "      <th>2</th>\n",
       "      <td>Fighting</td>\n",
       "      <td>220.67</td>\n",
       "      <td>0.272096</td>\n",
       "      <td>99.98</td>\n",
       "      <td>0.123280</td>\n",
       "      <td>86.98</td>\n",
       "      <td>0.107250</td>\n",
       "      <td>36.19</td>\n",
       "      <td>0.044624</td>\n",
       "      <td>443.80</td>\n",
       "      <td>0.547226</td>\n",
       "    </tr>\n",
       "    <tr>\n",
       "      <th>3</th>\n",
       "      <td>Misc</td>\n",
       "      <td>402.31</td>\n",
       "      <td>0.243824</td>\n",
       "      <td>213.72</td>\n",
       "      <td>0.129527</td>\n",
       "      <td>106.32</td>\n",
       "      <td>0.064436</td>\n",
       "      <td>74.02</td>\n",
       "      <td>0.044861</td>\n",
       "      <td>797.02</td>\n",
       "      <td>0.483042</td>\n",
       "    </tr>\n",
       "    <tr>\n",
       "      <th>4</th>\n",
       "      <td>Platform</td>\n",
       "      <td>445.93</td>\n",
       "      <td>0.517320</td>\n",
       "      <td>200.63</td>\n",
       "      <td>0.232749</td>\n",
       "      <td>130.61</td>\n",
       "      <td>0.151520</td>\n",
       "      <td>51.51</td>\n",
       "      <td>0.059756</td>\n",
       "      <td>829.01</td>\n",
       "      <td>0.961729</td>\n",
       "    </tr>\n",
       "    <tr>\n",
       "      <th>5</th>\n",
       "      <td>Puzzle</td>\n",
       "      <td>121.80</td>\n",
       "      <td>0.227239</td>\n",
       "      <td>50.44</td>\n",
       "      <td>0.094104</td>\n",
       "      <td>56.63</td>\n",
       "      <td>0.105653</td>\n",
       "      <td>12.47</td>\n",
       "      <td>0.023265</td>\n",
       "      <td>241.87</td>\n",
       "      <td>0.451250</td>\n",
       "    </tr>\n",
       "    <tr>\n",
       "      <th>6</th>\n",
       "      <td>Racing</td>\n",
       "      <td>356.73</td>\n",
       "      <td>0.300784</td>\n",
       "      <td>236.16</td>\n",
       "      <td>0.199123</td>\n",
       "      <td>56.57</td>\n",
       "      <td>0.047698</td>\n",
       "      <td>76.68</td>\n",
       "      <td>0.064654</td>\n",
       "      <td>726.37</td>\n",
       "      <td>0.612454</td>\n",
       "    </tr>\n",
       "    <tr>\n",
       "      <th>7</th>\n",
       "      <td>Role-Playing</td>\n",
       "      <td>326.47</td>\n",
       "      <td>0.228141</td>\n",
       "      <td>187.49</td>\n",
       "      <td>0.131020</td>\n",
       "      <td>349.99</td>\n",
       "      <td>0.244577</td>\n",
       "      <td>59.38</td>\n",
       "      <td>0.041495</td>\n",
       "      <td>923.42</td>\n",
       "      <td>0.645297</td>\n",
       "    </tr>\n",
       "    <tr>\n",
       "      <th>8</th>\n",
       "      <td>Shooter</td>\n",
       "      <td>575.03</td>\n",
       "      <td>0.458923</td>\n",
       "      <td>310.34</td>\n",
       "      <td>0.247678</td>\n",
       "      <td>38.11</td>\n",
       "      <td>0.030415</td>\n",
       "      <td>101.90</td>\n",
       "      <td>0.081325</td>\n",
       "      <td>1025.91</td>\n",
       "      <td>0.818763</td>\n",
       "    </tr>\n",
       "    <tr>\n",
       "      <th>9</th>\n",
       "      <td>Simulation</td>\n",
       "      <td>181.47</td>\n",
       "      <td>0.219964</td>\n",
       "      <td>113.08</td>\n",
       "      <td>0.137067</td>\n",
       "      <td>63.44</td>\n",
       "      <td>0.076897</td>\n",
       "      <td>31.34</td>\n",
       "      <td>0.037988</td>\n",
       "      <td>389.62</td>\n",
       "      <td>0.472267</td>\n",
       "    </tr>\n",
       "    <tr>\n",
       "      <th>10</th>\n",
       "      <td>Sports</td>\n",
       "      <td>669.93</td>\n",
       "      <td>0.297086</td>\n",
       "      <td>371.11</td>\n",
       "      <td>0.164572</td>\n",
       "      <td>134.66</td>\n",
       "      <td>0.059716</td>\n",
       "      <td>132.65</td>\n",
       "      <td>0.058825</td>\n",
       "      <td>1308.75</td>\n",
       "      <td>0.580377</td>\n",
       "    </tr>\n",
       "    <tr>\n",
       "      <th>11</th>\n",
       "      <td>Strategy</td>\n",
       "      <td>67.85</td>\n",
       "      <td>0.107019</td>\n",
       "      <td>44.75</td>\n",
       "      <td>0.070584</td>\n",
       "      <td>48.96</td>\n",
       "      <td>0.077224</td>\n",
       "      <td>11.23</td>\n",
       "      <td>0.017713</td>\n",
       "      <td>173.06</td>\n",
       "      <td>0.272965</td>\n",
       "    </tr>\n",
       "  </tbody>\n",
       "</table>\n",
       "</div>"
      ],
      "text/plain": [
       "           genre  sum_na    avg_na  sum_eu    avg_eu  sum_jp    avg_jp  \\\n",
       "0         Action  861.59  0.273694  516.18  0.163971  158.10  0.050222   \n",
       "1      Adventure  101.94  0.090292   63.67  0.056395   50.77  0.044969   \n",
       "2       Fighting  220.67  0.272096   99.98  0.123280   86.98  0.107250   \n",
       "3           Misc  402.31  0.243824  213.72  0.129527  106.32  0.064436   \n",
       "4       Platform  445.93  0.517320  200.63  0.232749  130.61  0.151520   \n",
       "5         Puzzle  121.80  0.227239   50.44  0.094104   56.63  0.105653   \n",
       "6         Racing  356.73  0.300784  236.16  0.199123   56.57  0.047698   \n",
       "7   Role-Playing  326.47  0.228141  187.49  0.131020  349.99  0.244577   \n",
       "8        Shooter  575.03  0.458923  310.34  0.247678   38.11  0.030415   \n",
       "9     Simulation  181.47  0.219964  113.08  0.137067   63.44  0.076897   \n",
       "10        Sports  669.93  0.297086  371.11  0.164572  134.66  0.059716   \n",
       "11      Strategy   67.85  0.107019   44.75  0.070584   48.96  0.077224   \n",
       "\n",
       "    sum_other  avg_other  sum_global  avg_global  \n",
       "0      184.92   0.058742     1721.83    0.546960  \n",
       "1       16.70   0.014792      233.33    0.206670  \n",
       "2       36.19   0.044624      443.80    0.547226  \n",
       "3       74.02   0.044861      797.02    0.483042  \n",
       "4       51.51   0.059756      829.01    0.961729  \n",
       "5       12.47   0.023265      241.87    0.451250  \n",
       "6       76.68   0.064654      726.37    0.612454  \n",
       "7       59.38   0.041495      923.42    0.645297  \n",
       "8      101.90   0.081325     1025.91    0.818763  \n",
       "9       31.34   0.037988      389.62    0.472267  \n",
       "10     132.65   0.058825     1308.75    0.580377  \n",
       "11      11.23   0.017713      173.06    0.272965  "
      ]
     },
     "execution_count": 16,
     "metadata": {},
     "output_type": "execute_result"
    }
   ],
   "source": [
    "# genre summary for each sales region\n",
    "agg_genre_sales = aggregate_regional_summary(\"genre\")\n",
    "agg_genre_sales"
   ]
  },
  {
   "cell_type": "code",
   "execution_count": 17,
   "metadata": {},
   "outputs": [
    {
     "data": {
      "application/vnd.plotly.v1+json": {
       "config": {
        "plotlyServerURL": "https://plot.ly"
       },
       "data": [
        {
         "domain": {
          "x": [
           0,
           1
          ],
          "y": [
           0,
           1
          ]
         },
         "hovertemplate": "genre=%{label}<br>sum_global=%{value}<extra></extra>",
         "labels": [
          "Action",
          "Adventure",
          "Fighting",
          "Misc",
          "Platform",
          "Puzzle",
          "Racing",
          "Role-Playing",
          "Shooter",
          "Simulation",
          "Sports",
          "Strategy"
         ],
         "legendgroup": "",
         "name": "",
         "showlegend": true,
         "textinfo": "label+percent",
         "textposition": "inside",
         "type": "pie",
         "values": [
          1721.829999999972,
          233.33000000000268,
          443.7999999999996,
          797.0199999999941,
          829.0099999999977,
          241.87000000000083,
          726.3699999999958,
          923.4199999999945,
          1025.909999999996,
          389.61999999999813,
          1308.7499999999884,
          173.06000000000066
         ]
        }
       ],
       "layout": {
        "legend": {
         "tracegroupgap": 0
        },
        "piecolorway": [
         "rgb(3, 35, 51)",
         "rgb(13, 48, 100)",
         "rgb(53, 50, 155)",
         "rgb(93, 62, 153)",
         "rgb(126, 77, 143)",
         "rgb(158, 89, 135)",
         "rgb(193, 100, 121)",
         "rgb(225, 113, 97)",
         "rgb(246, 139, 69)",
         "rgb(251, 173, 60)",
         "rgb(246, 211, 70)",
         "rgb(231, 250, 90)"
        ],
        "template": {
         "data": {
          "bar": [
           {
            "error_x": {
             "color": "#2a3f5f"
            },
            "error_y": {
             "color": "#2a3f5f"
            },
            "marker": {
             "line": {
              "color": "#E5ECF6",
              "width": 0.5
             },
             "pattern": {
              "fillmode": "overlay",
              "size": 10,
              "solidity": 0.2
             }
            },
            "type": "bar"
           }
          ],
          "barpolar": [
           {
            "marker": {
             "line": {
              "color": "#E5ECF6",
              "width": 0.5
             },
             "pattern": {
              "fillmode": "overlay",
              "size": 10,
              "solidity": 0.2
             }
            },
            "type": "barpolar"
           }
          ],
          "carpet": [
           {
            "aaxis": {
             "endlinecolor": "#2a3f5f",
             "gridcolor": "white",
             "linecolor": "white",
             "minorgridcolor": "white",
             "startlinecolor": "#2a3f5f"
            },
            "baxis": {
             "endlinecolor": "#2a3f5f",
             "gridcolor": "white",
             "linecolor": "white",
             "minorgridcolor": "white",
             "startlinecolor": "#2a3f5f"
            },
            "type": "carpet"
           }
          ],
          "choropleth": [
           {
            "colorbar": {
             "outlinewidth": 0,
             "ticks": ""
            },
            "type": "choropleth"
           }
          ],
          "contour": [
           {
            "colorbar": {
             "outlinewidth": 0,
             "ticks": ""
            },
            "colorscale": [
             [
              0,
              "#0d0887"
             ],
             [
              0.1111111111111111,
              "#46039f"
             ],
             [
              0.2222222222222222,
              "#7201a8"
             ],
             [
              0.3333333333333333,
              "#9c179e"
             ],
             [
              0.4444444444444444,
              "#bd3786"
             ],
             [
              0.5555555555555556,
              "#d8576b"
             ],
             [
              0.6666666666666666,
              "#ed7953"
             ],
             [
              0.7777777777777778,
              "#fb9f3a"
             ],
             [
              0.8888888888888888,
              "#fdca26"
             ],
             [
              1,
              "#f0f921"
             ]
            ],
            "type": "contour"
           }
          ],
          "contourcarpet": [
           {
            "colorbar": {
             "outlinewidth": 0,
             "ticks": ""
            },
            "type": "contourcarpet"
           }
          ],
          "heatmap": [
           {
            "colorbar": {
             "outlinewidth": 0,
             "ticks": ""
            },
            "colorscale": [
             [
              0,
              "#0d0887"
             ],
             [
              0.1111111111111111,
              "#46039f"
             ],
             [
              0.2222222222222222,
              "#7201a8"
             ],
             [
              0.3333333333333333,
              "#9c179e"
             ],
             [
              0.4444444444444444,
              "#bd3786"
             ],
             [
              0.5555555555555556,
              "#d8576b"
             ],
             [
              0.6666666666666666,
              "#ed7953"
             ],
             [
              0.7777777777777778,
              "#fb9f3a"
             ],
             [
              0.8888888888888888,
              "#fdca26"
             ],
             [
              1,
              "#f0f921"
             ]
            ],
            "type": "heatmap"
           }
          ],
          "heatmapgl": [
           {
            "colorbar": {
             "outlinewidth": 0,
             "ticks": ""
            },
            "colorscale": [
             [
              0,
              "#0d0887"
             ],
             [
              0.1111111111111111,
              "#46039f"
             ],
             [
              0.2222222222222222,
              "#7201a8"
             ],
             [
              0.3333333333333333,
              "#9c179e"
             ],
             [
              0.4444444444444444,
              "#bd3786"
             ],
             [
              0.5555555555555556,
              "#d8576b"
             ],
             [
              0.6666666666666666,
              "#ed7953"
             ],
             [
              0.7777777777777778,
              "#fb9f3a"
             ],
             [
              0.8888888888888888,
              "#fdca26"
             ],
             [
              1,
              "#f0f921"
             ]
            ],
            "type": "heatmapgl"
           }
          ],
          "histogram": [
           {
            "marker": {
             "pattern": {
              "fillmode": "overlay",
              "size": 10,
              "solidity": 0.2
             }
            },
            "type": "histogram"
           }
          ],
          "histogram2d": [
           {
            "colorbar": {
             "outlinewidth": 0,
             "ticks": ""
            },
            "colorscale": [
             [
              0,
              "#0d0887"
             ],
             [
              0.1111111111111111,
              "#46039f"
             ],
             [
              0.2222222222222222,
              "#7201a8"
             ],
             [
              0.3333333333333333,
              "#9c179e"
             ],
             [
              0.4444444444444444,
              "#bd3786"
             ],
             [
              0.5555555555555556,
              "#d8576b"
             ],
             [
              0.6666666666666666,
              "#ed7953"
             ],
             [
              0.7777777777777778,
              "#fb9f3a"
             ],
             [
              0.8888888888888888,
              "#fdca26"
             ],
             [
              1,
              "#f0f921"
             ]
            ],
            "type": "histogram2d"
           }
          ],
          "histogram2dcontour": [
           {
            "colorbar": {
             "outlinewidth": 0,
             "ticks": ""
            },
            "colorscale": [
             [
              0,
              "#0d0887"
             ],
             [
              0.1111111111111111,
              "#46039f"
             ],
             [
              0.2222222222222222,
              "#7201a8"
             ],
             [
              0.3333333333333333,
              "#9c179e"
             ],
             [
              0.4444444444444444,
              "#bd3786"
             ],
             [
              0.5555555555555556,
              "#d8576b"
             ],
             [
              0.6666666666666666,
              "#ed7953"
             ],
             [
              0.7777777777777778,
              "#fb9f3a"
             ],
             [
              0.8888888888888888,
              "#fdca26"
             ],
             [
              1,
              "#f0f921"
             ]
            ],
            "type": "histogram2dcontour"
           }
          ],
          "mesh3d": [
           {
            "colorbar": {
             "outlinewidth": 0,
             "ticks": ""
            },
            "type": "mesh3d"
           }
          ],
          "parcoords": [
           {
            "line": {
             "colorbar": {
              "outlinewidth": 0,
              "ticks": ""
             }
            },
            "type": "parcoords"
           }
          ],
          "pie": [
           {
            "automargin": true,
            "type": "pie"
           }
          ],
          "scatter": [
           {
            "fillpattern": {
             "fillmode": "overlay",
             "size": 10,
             "solidity": 0.2
            },
            "type": "scatter"
           }
          ],
          "scatter3d": [
           {
            "line": {
             "colorbar": {
              "outlinewidth": 0,
              "ticks": ""
             }
            },
            "marker": {
             "colorbar": {
              "outlinewidth": 0,
              "ticks": ""
             }
            },
            "type": "scatter3d"
           }
          ],
          "scattercarpet": [
           {
            "marker": {
             "colorbar": {
              "outlinewidth": 0,
              "ticks": ""
             }
            },
            "type": "scattercarpet"
           }
          ],
          "scattergeo": [
           {
            "marker": {
             "colorbar": {
              "outlinewidth": 0,
              "ticks": ""
             }
            },
            "type": "scattergeo"
           }
          ],
          "scattergl": [
           {
            "marker": {
             "colorbar": {
              "outlinewidth": 0,
              "ticks": ""
             }
            },
            "type": "scattergl"
           }
          ],
          "scattermapbox": [
           {
            "marker": {
             "colorbar": {
              "outlinewidth": 0,
              "ticks": ""
             }
            },
            "type": "scattermapbox"
           }
          ],
          "scatterpolar": [
           {
            "marker": {
             "colorbar": {
              "outlinewidth": 0,
              "ticks": ""
             }
            },
            "type": "scatterpolar"
           }
          ],
          "scatterpolargl": [
           {
            "marker": {
             "colorbar": {
              "outlinewidth": 0,
              "ticks": ""
             }
            },
            "type": "scatterpolargl"
           }
          ],
          "scatterternary": [
           {
            "marker": {
             "colorbar": {
              "outlinewidth": 0,
              "ticks": ""
             }
            },
            "type": "scatterternary"
           }
          ],
          "surface": [
           {
            "colorbar": {
             "outlinewidth": 0,
             "ticks": ""
            },
            "colorscale": [
             [
              0,
              "#0d0887"
             ],
             [
              0.1111111111111111,
              "#46039f"
             ],
             [
              0.2222222222222222,
              "#7201a8"
             ],
             [
              0.3333333333333333,
              "#9c179e"
             ],
             [
              0.4444444444444444,
              "#bd3786"
             ],
             [
              0.5555555555555556,
              "#d8576b"
             ],
             [
              0.6666666666666666,
              "#ed7953"
             ],
             [
              0.7777777777777778,
              "#fb9f3a"
             ],
             [
              0.8888888888888888,
              "#fdca26"
             ],
             [
              1,
              "#f0f921"
             ]
            ],
            "type": "surface"
           }
          ],
          "table": [
           {
            "cells": {
             "fill": {
              "color": "#EBF0F8"
             },
             "line": {
              "color": "white"
             }
            },
            "header": {
             "fill": {
              "color": "#C8D4E3"
             },
             "line": {
              "color": "white"
             }
            },
            "type": "table"
           }
          ]
         },
         "layout": {
          "annotationdefaults": {
           "arrowcolor": "#2a3f5f",
           "arrowhead": 0,
           "arrowwidth": 1
          },
          "autotypenumbers": "strict",
          "coloraxis": {
           "colorbar": {
            "outlinewidth": 0,
            "ticks": ""
           }
          },
          "colorscale": {
           "diverging": [
            [
             0,
             "#8e0152"
            ],
            [
             0.1,
             "#c51b7d"
            ],
            [
             0.2,
             "#de77ae"
            ],
            [
             0.3,
             "#f1b6da"
            ],
            [
             0.4,
             "#fde0ef"
            ],
            [
             0.5,
             "#f7f7f7"
            ],
            [
             0.6,
             "#e6f5d0"
            ],
            [
             0.7,
             "#b8e186"
            ],
            [
             0.8,
             "#7fbc41"
            ],
            [
             0.9,
             "#4d9221"
            ],
            [
             1,
             "#276419"
            ]
           ],
           "sequential": [
            [
             0,
             "#0d0887"
            ],
            [
             0.1111111111111111,
             "#46039f"
            ],
            [
             0.2222222222222222,
             "#7201a8"
            ],
            [
             0.3333333333333333,
             "#9c179e"
            ],
            [
             0.4444444444444444,
             "#bd3786"
            ],
            [
             0.5555555555555556,
             "#d8576b"
            ],
            [
             0.6666666666666666,
             "#ed7953"
            ],
            [
             0.7777777777777778,
             "#fb9f3a"
            ],
            [
             0.8888888888888888,
             "#fdca26"
            ],
            [
             1,
             "#f0f921"
            ]
           ],
           "sequentialminus": [
            [
             0,
             "#0d0887"
            ],
            [
             0.1111111111111111,
             "#46039f"
            ],
            [
             0.2222222222222222,
             "#7201a8"
            ],
            [
             0.3333333333333333,
             "#9c179e"
            ],
            [
             0.4444444444444444,
             "#bd3786"
            ],
            [
             0.5555555555555556,
             "#d8576b"
            ],
            [
             0.6666666666666666,
             "#ed7953"
            ],
            [
             0.7777777777777778,
             "#fb9f3a"
            ],
            [
             0.8888888888888888,
             "#fdca26"
            ],
            [
             1,
             "#f0f921"
            ]
           ]
          },
          "colorway": [
           "#636efa",
           "#EF553B",
           "#00cc96",
           "#ab63fa",
           "#FFA15A",
           "#19d3f3",
           "#FF6692",
           "#B6E880",
           "#FF97FF",
           "#FECB52"
          ],
          "font": {
           "color": "#2a3f5f"
          },
          "geo": {
           "bgcolor": "white",
           "lakecolor": "white",
           "landcolor": "#E5ECF6",
           "showlakes": true,
           "showland": true,
           "subunitcolor": "white"
          },
          "hoverlabel": {
           "align": "left"
          },
          "hovermode": "closest",
          "mapbox": {
           "style": "light"
          },
          "paper_bgcolor": "white",
          "plot_bgcolor": "#E5ECF6",
          "polar": {
           "angularaxis": {
            "gridcolor": "white",
            "linecolor": "white",
            "ticks": ""
           },
           "bgcolor": "#E5ECF6",
           "radialaxis": {
            "gridcolor": "white",
            "linecolor": "white",
            "ticks": ""
           }
          },
          "scene": {
           "xaxis": {
            "backgroundcolor": "#E5ECF6",
            "gridcolor": "white",
            "gridwidth": 2,
            "linecolor": "white",
            "showbackground": true,
            "ticks": "",
            "zerolinecolor": "white"
           },
           "yaxis": {
            "backgroundcolor": "#E5ECF6",
            "gridcolor": "white",
            "gridwidth": 2,
            "linecolor": "white",
            "showbackground": true,
            "ticks": "",
            "zerolinecolor": "white"
           },
           "zaxis": {
            "backgroundcolor": "#E5ECF6",
            "gridcolor": "white",
            "gridwidth": 2,
            "linecolor": "white",
            "showbackground": true,
            "ticks": "",
            "zerolinecolor": "white"
           }
          },
          "shapedefaults": {
           "line": {
            "color": "#2a3f5f"
           }
          },
          "ternary": {
           "aaxis": {
            "gridcolor": "white",
            "linecolor": "white",
            "ticks": ""
           },
           "baxis": {
            "gridcolor": "white",
            "linecolor": "white",
            "ticks": ""
           },
           "bgcolor": "#E5ECF6",
           "caxis": {
            "gridcolor": "white",
            "linecolor": "white",
            "ticks": ""
           }
          },
          "title": {
           "x": 0.05
          },
          "xaxis": {
           "automargin": true,
           "gridcolor": "white",
           "linecolor": "white",
           "ticks": "",
           "title": {
            "standoff": 15
           },
           "zerolinecolor": "white",
           "zerolinewidth": 2
          },
          "yaxis": {
           "automargin": true,
           "gridcolor": "white",
           "linecolor": "white",
           "ticks": "",
           "title": {
            "standoff": 15
           },
           "zerolinecolor": "white",
           "zerolinewidth": 2
          }
         }
        },
        "title": {
         "text": "Total Sales Globally by Genre"
        }
       }
      },
      "text/html": [
       "<div>                            <div id=\"6e8c817c-7e9c-4d65-aedd-38b6697907af\" class=\"plotly-graph-div\" style=\"height:525px; width:100%;\"></div>            <script type=\"text/javascript\">                require([\"plotly\"], function(Plotly) {                    window.PLOTLYENV=window.PLOTLYENV || {};                                    if (document.getElementById(\"6e8c817c-7e9c-4d65-aedd-38b6697907af\")) {                    Plotly.newPlot(                        \"6e8c817c-7e9c-4d65-aedd-38b6697907af\",                        [{\"domain\":{\"x\":[0.0,1.0],\"y\":[0.0,1.0]},\"hovertemplate\":\"genre=%{label}<br>sum_global=%{value}<extra></extra>\",\"labels\":[\"Action\",\"Adventure\",\"Fighting\",\"Misc\",\"Platform\",\"Puzzle\",\"Racing\",\"Role-Playing\",\"Shooter\",\"Simulation\",\"Sports\",\"Strategy\"],\"legendgroup\":\"\",\"name\":\"\",\"showlegend\":true,\"values\":[1721.829999999972,233.33000000000268,443.7999999999996,797.0199999999941,829.0099999999977,241.87000000000083,726.3699999999958,923.4199999999945,1025.909999999996,389.61999999999813,1308.7499999999884,173.06000000000066],\"type\":\"pie\",\"textinfo\":\"label+percent\",\"textposition\":\"inside\"}],                        {\"template\":{\"data\":{\"histogram2dcontour\":[{\"type\":\"histogram2dcontour\",\"colorbar\":{\"outlinewidth\":0,\"ticks\":\"\"},\"colorscale\":[[0.0,\"#0d0887\"],[0.1111111111111111,\"#46039f\"],[0.2222222222222222,\"#7201a8\"],[0.3333333333333333,\"#9c179e\"],[0.4444444444444444,\"#bd3786\"],[0.5555555555555556,\"#d8576b\"],[0.6666666666666666,\"#ed7953\"],[0.7777777777777778,\"#fb9f3a\"],[0.8888888888888888,\"#fdca26\"],[1.0,\"#f0f921\"]]}],\"choropleth\":[{\"type\":\"choropleth\",\"colorbar\":{\"outlinewidth\":0,\"ticks\":\"\"}}],\"histogram2d\":[{\"type\":\"histogram2d\",\"colorbar\":{\"outlinewidth\":0,\"ticks\":\"\"},\"colorscale\":[[0.0,\"#0d0887\"],[0.1111111111111111,\"#46039f\"],[0.2222222222222222,\"#7201a8\"],[0.3333333333333333,\"#9c179e\"],[0.4444444444444444,\"#bd3786\"],[0.5555555555555556,\"#d8576b\"],[0.6666666666666666,\"#ed7953\"],[0.7777777777777778,\"#fb9f3a\"],[0.8888888888888888,\"#fdca26\"],[1.0,\"#f0f921\"]]}],\"heatmap\":[{\"type\":\"heatmap\",\"colorbar\":{\"outlinewidth\":0,\"ticks\":\"\"},\"colorscale\":[[0.0,\"#0d0887\"],[0.1111111111111111,\"#46039f\"],[0.2222222222222222,\"#7201a8\"],[0.3333333333333333,\"#9c179e\"],[0.4444444444444444,\"#bd3786\"],[0.5555555555555556,\"#d8576b\"],[0.6666666666666666,\"#ed7953\"],[0.7777777777777778,\"#fb9f3a\"],[0.8888888888888888,\"#fdca26\"],[1.0,\"#f0f921\"]]}],\"heatmapgl\":[{\"type\":\"heatmapgl\",\"colorbar\":{\"outlinewidth\":0,\"ticks\":\"\"},\"colorscale\":[[0.0,\"#0d0887\"],[0.1111111111111111,\"#46039f\"],[0.2222222222222222,\"#7201a8\"],[0.3333333333333333,\"#9c179e\"],[0.4444444444444444,\"#bd3786\"],[0.5555555555555556,\"#d8576b\"],[0.6666666666666666,\"#ed7953\"],[0.7777777777777778,\"#fb9f3a\"],[0.8888888888888888,\"#fdca26\"],[1.0,\"#f0f921\"]]}],\"contourcarpet\":[{\"type\":\"contourcarpet\",\"colorbar\":{\"outlinewidth\":0,\"ticks\":\"\"}}],\"contour\":[{\"type\":\"contour\",\"colorbar\":{\"outlinewidth\":0,\"ticks\":\"\"},\"colorscale\":[[0.0,\"#0d0887\"],[0.1111111111111111,\"#46039f\"],[0.2222222222222222,\"#7201a8\"],[0.3333333333333333,\"#9c179e\"],[0.4444444444444444,\"#bd3786\"],[0.5555555555555556,\"#d8576b\"],[0.6666666666666666,\"#ed7953\"],[0.7777777777777778,\"#fb9f3a\"],[0.8888888888888888,\"#fdca26\"],[1.0,\"#f0f921\"]]}],\"surface\":[{\"type\":\"surface\",\"colorbar\":{\"outlinewidth\":0,\"ticks\":\"\"},\"colorscale\":[[0.0,\"#0d0887\"],[0.1111111111111111,\"#46039f\"],[0.2222222222222222,\"#7201a8\"],[0.3333333333333333,\"#9c179e\"],[0.4444444444444444,\"#bd3786\"],[0.5555555555555556,\"#d8576b\"],[0.6666666666666666,\"#ed7953\"],[0.7777777777777778,\"#fb9f3a\"],[0.8888888888888888,\"#fdca26\"],[1.0,\"#f0f921\"]]}],\"mesh3d\":[{\"type\":\"mesh3d\",\"colorbar\":{\"outlinewidth\":0,\"ticks\":\"\"}}],\"scatter\":[{\"fillpattern\":{\"fillmode\":\"overlay\",\"size\":10,\"solidity\":0.2},\"type\":\"scatter\"}],\"parcoords\":[{\"type\":\"parcoords\",\"line\":{\"colorbar\":{\"outlinewidth\":0,\"ticks\":\"\"}}}],\"scatterpolargl\":[{\"type\":\"scatterpolargl\",\"marker\":{\"colorbar\":{\"outlinewidth\":0,\"ticks\":\"\"}}}],\"bar\":[{\"error_x\":{\"color\":\"#2a3f5f\"},\"error_y\":{\"color\":\"#2a3f5f\"},\"marker\":{\"line\":{\"color\":\"#E5ECF6\",\"width\":0.5},\"pattern\":{\"fillmode\":\"overlay\",\"size\":10,\"solidity\":0.2}},\"type\":\"bar\"}],\"scattergeo\":[{\"type\":\"scattergeo\",\"marker\":{\"colorbar\":{\"outlinewidth\":0,\"ticks\":\"\"}}}],\"scatterpolar\":[{\"type\":\"scatterpolar\",\"marker\":{\"colorbar\":{\"outlinewidth\":0,\"ticks\":\"\"}}}],\"histogram\":[{\"marker\":{\"pattern\":{\"fillmode\":\"overlay\",\"size\":10,\"solidity\":0.2}},\"type\":\"histogram\"}],\"scattergl\":[{\"type\":\"scattergl\",\"marker\":{\"colorbar\":{\"outlinewidth\":0,\"ticks\":\"\"}}}],\"scatter3d\":[{\"type\":\"scatter3d\",\"line\":{\"colorbar\":{\"outlinewidth\":0,\"ticks\":\"\"}},\"marker\":{\"colorbar\":{\"outlinewidth\":0,\"ticks\":\"\"}}}],\"scattermapbox\":[{\"type\":\"scattermapbox\",\"marker\":{\"colorbar\":{\"outlinewidth\":0,\"ticks\":\"\"}}}],\"scatterternary\":[{\"type\":\"scatterternary\",\"marker\":{\"colorbar\":{\"outlinewidth\":0,\"ticks\":\"\"}}}],\"scattercarpet\":[{\"type\":\"scattercarpet\",\"marker\":{\"colorbar\":{\"outlinewidth\":0,\"ticks\":\"\"}}}],\"carpet\":[{\"aaxis\":{\"endlinecolor\":\"#2a3f5f\",\"gridcolor\":\"white\",\"linecolor\":\"white\",\"minorgridcolor\":\"white\",\"startlinecolor\":\"#2a3f5f\"},\"baxis\":{\"endlinecolor\":\"#2a3f5f\",\"gridcolor\":\"white\",\"linecolor\":\"white\",\"minorgridcolor\":\"white\",\"startlinecolor\":\"#2a3f5f\"},\"type\":\"carpet\"}],\"table\":[{\"cells\":{\"fill\":{\"color\":\"#EBF0F8\"},\"line\":{\"color\":\"white\"}},\"header\":{\"fill\":{\"color\":\"#C8D4E3\"},\"line\":{\"color\":\"white\"}},\"type\":\"table\"}],\"barpolar\":[{\"marker\":{\"line\":{\"color\":\"#E5ECF6\",\"width\":0.5},\"pattern\":{\"fillmode\":\"overlay\",\"size\":10,\"solidity\":0.2}},\"type\":\"barpolar\"}],\"pie\":[{\"automargin\":true,\"type\":\"pie\"}]},\"layout\":{\"autotypenumbers\":\"strict\",\"colorway\":[\"#636efa\",\"#EF553B\",\"#00cc96\",\"#ab63fa\",\"#FFA15A\",\"#19d3f3\",\"#FF6692\",\"#B6E880\",\"#FF97FF\",\"#FECB52\"],\"font\":{\"color\":\"#2a3f5f\"},\"hovermode\":\"closest\",\"hoverlabel\":{\"align\":\"left\"},\"paper_bgcolor\":\"white\",\"plot_bgcolor\":\"#E5ECF6\",\"polar\":{\"bgcolor\":\"#E5ECF6\",\"angularaxis\":{\"gridcolor\":\"white\",\"linecolor\":\"white\",\"ticks\":\"\"},\"radialaxis\":{\"gridcolor\":\"white\",\"linecolor\":\"white\",\"ticks\":\"\"}},\"ternary\":{\"bgcolor\":\"#E5ECF6\",\"aaxis\":{\"gridcolor\":\"white\",\"linecolor\":\"white\",\"ticks\":\"\"},\"baxis\":{\"gridcolor\":\"white\",\"linecolor\":\"white\",\"ticks\":\"\"},\"caxis\":{\"gridcolor\":\"white\",\"linecolor\":\"white\",\"ticks\":\"\"}},\"coloraxis\":{\"colorbar\":{\"outlinewidth\":0,\"ticks\":\"\"}},\"colorscale\":{\"sequential\":[[0.0,\"#0d0887\"],[0.1111111111111111,\"#46039f\"],[0.2222222222222222,\"#7201a8\"],[0.3333333333333333,\"#9c179e\"],[0.4444444444444444,\"#bd3786\"],[0.5555555555555556,\"#d8576b\"],[0.6666666666666666,\"#ed7953\"],[0.7777777777777778,\"#fb9f3a\"],[0.8888888888888888,\"#fdca26\"],[1.0,\"#f0f921\"]],\"sequentialminus\":[[0.0,\"#0d0887\"],[0.1111111111111111,\"#46039f\"],[0.2222222222222222,\"#7201a8\"],[0.3333333333333333,\"#9c179e\"],[0.4444444444444444,\"#bd3786\"],[0.5555555555555556,\"#d8576b\"],[0.6666666666666666,\"#ed7953\"],[0.7777777777777778,\"#fb9f3a\"],[0.8888888888888888,\"#fdca26\"],[1.0,\"#f0f921\"]],\"diverging\":[[0,\"#8e0152\"],[0.1,\"#c51b7d\"],[0.2,\"#de77ae\"],[0.3,\"#f1b6da\"],[0.4,\"#fde0ef\"],[0.5,\"#f7f7f7\"],[0.6,\"#e6f5d0\"],[0.7,\"#b8e186\"],[0.8,\"#7fbc41\"],[0.9,\"#4d9221\"],[1,\"#276419\"]]},\"xaxis\":{\"gridcolor\":\"white\",\"linecolor\":\"white\",\"ticks\":\"\",\"title\":{\"standoff\":15},\"zerolinecolor\":\"white\",\"automargin\":true,\"zerolinewidth\":2},\"yaxis\":{\"gridcolor\":\"white\",\"linecolor\":\"white\",\"ticks\":\"\",\"title\":{\"standoff\":15},\"zerolinecolor\":\"white\",\"automargin\":true,\"zerolinewidth\":2},\"scene\":{\"xaxis\":{\"backgroundcolor\":\"#E5ECF6\",\"gridcolor\":\"white\",\"linecolor\":\"white\",\"showbackground\":true,\"ticks\":\"\",\"zerolinecolor\":\"white\",\"gridwidth\":2},\"yaxis\":{\"backgroundcolor\":\"#E5ECF6\",\"gridcolor\":\"white\",\"linecolor\":\"white\",\"showbackground\":true,\"ticks\":\"\",\"zerolinecolor\":\"white\",\"gridwidth\":2},\"zaxis\":{\"backgroundcolor\":\"#E5ECF6\",\"gridcolor\":\"white\",\"linecolor\":\"white\",\"showbackground\":true,\"ticks\":\"\",\"zerolinecolor\":\"white\",\"gridwidth\":2}},\"shapedefaults\":{\"line\":{\"color\":\"#2a3f5f\"}},\"annotationdefaults\":{\"arrowcolor\":\"#2a3f5f\",\"arrowhead\":0,\"arrowwidth\":1},\"geo\":{\"bgcolor\":\"white\",\"landcolor\":\"#E5ECF6\",\"subunitcolor\":\"white\",\"showland\":true,\"showlakes\":true,\"lakecolor\":\"white\"},\"title\":{\"x\":0.05},\"mapbox\":{\"style\":\"light\"}}},\"legend\":{\"tracegroupgap\":0},\"title\":{\"text\":\"Total Sales Globally by Genre\"},\"piecolorway\":[\"rgb(3, 35, 51)\",\"rgb(13, 48, 100)\",\"rgb(53, 50, 155)\",\"rgb(93, 62, 153)\",\"rgb(126, 77, 143)\",\"rgb(158, 89, 135)\",\"rgb(193, 100, 121)\",\"rgb(225, 113, 97)\",\"rgb(246, 139, 69)\",\"rgb(251, 173, 60)\",\"rgb(246, 211, 70)\",\"rgb(231, 250, 90)\"]},                        {\"responsive\": true}                    ).then(function(){\n",
       "                            \n",
       "var gd = document.getElementById('6e8c817c-7e9c-4d65-aedd-38b6697907af');\n",
       "var x = new MutationObserver(function (mutations, observer) {{\n",
       "        var display = window.getComputedStyle(gd).display;\n",
       "        if (!display || display === 'none') {{\n",
       "            console.log([gd, 'removed!']);\n",
       "            Plotly.purge(gd);\n",
       "            observer.disconnect();\n",
       "        }}\n",
       "}});\n",
       "\n",
       "// Listen for the removal of the full notebook cells\n",
       "var notebookContainer = gd.closest('#notebook-container');\n",
       "if (notebookContainer) {{\n",
       "    x.observe(notebookContainer, {childList: true});\n",
       "}}\n",
       "\n",
       "// Listen for the clearing of the current output cell\n",
       "var outputEl = gd.closest('.output');\n",
       "if (outputEl) {{\n",
       "    x.observe(outputEl, {childList: true});\n",
       "}}\n",
       "\n",
       "                        })                };                });            </script>        </div>"
      ]
     },
     "metadata": {},
     "output_type": "display_data"
    }
   ],
   "source": [
    "# create pie chart\n",
    "fig = px.pie(agg_genre_sales, values = \"sum_global\", names = \"genre\", color_discrete_sequence = px.colors.sequential.thermal,\n",
    "             title = \"Total Sales Globally by Genre\")\n",
    "fig.update_traces(textposition = \"inside\", textinfo = \"label+percent\")"
   ]
  },
  {
   "cell_type": "code",
   "execution_count": 18,
   "metadata": {},
   "outputs": [
    {
     "data": {
      "application/vnd.plotly.v1+json": {
       "config": {
        "plotlyServerURL": "https://plot.ly"
       },
       "data": [
        {
         "domain": {
          "x": [
           0,
           1
          ],
          "y": [
           0,
           1
          ]
         },
         "hovertemplate": "publisher=%{label}<br>sum_global=%{value}<extra></extra>",
         "labels": [
          "10TACLE Studios",
          "1C Company",
          "20th Century Fox Video Games",
          "2D Boy",
          "3DO",
          "49Games",
          "505 Games",
          "5pb",
          "7G//AMES",
          "989 Sports",
          "989 Studios",
          "AQ Interactive",
          "ASC Games",
          "ASCII Entertainment",
          "ASCII Media Works",
          "ASK",
          "Abylight",
          "Acclaim Entertainment",
          "Accolade",
          "Ackkstudios",
          "Acquire",
          "Activision",
          "Activision Blizzard",
          "Activision Value",
          "Adeline Software",
          "Aerosoft",
          "Agatsuma Entertainment",
          "Agetec",
          "Aksys Games",
          "Alawar Entertainment",
          "Alchemist",
          "Alternative Software",
          "Altron",
          "Alvion",
          "American Softworks",
          "Angel Studios",
          "Answer Software",
          "Aqua Plus",
          "Aques",
          "Arc System Works",
          "Arena Entertainment",
          "Aria",
          "Arika",
          "ArtDink",
          "Aruze Corp",
          "Ascaron Entertainment GmbH",
          "Asgard",
          "Asmik Ace Entertainment",
          "Asmik Corp",
          "Aspyr",
          "Astragon",
          "Asylum Entertainment",
          "Atari",
          "Athena",
          "Atlus",
          "Avalon Interactive",
          "Avanquest",
          "Avanquest Software",
          "Axela",
          "BAM! Entertainment",
          "BMG Interactive Entertainment",
          "BPS",
          "Banpresto",
          "Benesse",
          "Berkeley",
          "Bethesda Softworks",
          "Big Ben Interactive",
          "Big Fish Games",
          "Bigben Interactive",
          "Black Bean Games",
          "Black Label Games",
          "Blast! Entertainment Ltd",
          "Blue Byte",
          "Bohemia Interactive",
          "Bomb",
          "Brash Entertainment",
          "Broccoli",
          "BushiRoad",
          "CBS Electronics",
          "CCP",
          "CDV Software Entertainment",
          "CPG Products",
          "CTO SpA",
          "Capcom",
          "Cave",
          "ChunSoft",
          "City Interactive",
          "Cloud Imperium Games Corporation",
          "Coconuts Japan",
          "Codemasters",
          "Codemasters Online",
          "CokeM Interactive",
          "Coleco",
          "Comfort",
          "Compile",
          "Compile Heart",
          "Conspiracy Entertainment",
          "Core Design Ltd.",
          "Crave Entertainment",
          "Creative Core",
          "Crimson Cow",
          "Crystal Dynamics",
          "Culture Brain",
          "Culture Publishers",
          "CyberFront",
          "Cygames",
          "D3Publisher",
          "DHM Interactive",
          "DSI Games",
          "DTP Entertainment",
          "Daedalic",
          "Daedalic Entertainment",
          "Daito",
          "Data Age",
          "Data Design Interactive",
          "Data East",
          "Datam Polystar",
          "Deep Silver",
          "Destination Software, Inc",
          "Destineer",
          "Detn8 Games",
          "Devolver Digital",
          "DigiCube",
          "Disney Interactive Studios",
          "Dorart",
          "DreamCatcher Interactive",
          "DreamWorks Interactive",
          "Dusenberry Martin Racing",
          "EA Games",
          "ESP",
          "Easy Interactive",
          "Ecole",
          "Edia",
          "Eidos Interactive",
          "Electronic Arts",
          "Electronic Arts Victor",
          "Elf",
          "Elite",
          "Empire Interactive",
          "Encore",
          "Enix Corporation",
          "Enjoy Gaming ltd.",
          "Enterbrain",
          "Epoch",
          "Ertain",
          "Essential Games",
          "Evolution Games",
          "Evolved Games",
          "Excalibur Publishing",
          "Experience Inc.",
          "Extreme Entertainment Group",
          "Falcom Corporation",
          "Fields",
          "Flashpoint Games",
          "Flight-Plan",
          "Focus Home Interactive",
          "Focus Multimedia",
          "Foreign Media Games",
          "Fortyfive",
          "Fox Interactive",
          "From Software",
          "FuRyu",
          "FuRyu Corporation",
          "Fuji",
          "FunSoft",
          "Funbox Media",
          "Funcom",
          "Funsta",
          "G.Rev",
          "GN Software",
          "GOA",
          "GSP",
          "GT Interactive",
          "Gaga",
          "Gainax Network Systems",
          "Gakken",
          "Game Arts",
          "Game Factory",
          "Game Life",
          "GameMill Entertainment",
          "GameTek",
          "Gamebridge",
          "Gamecock",
          "Gameloft",
          "Gathering of Developers",
          "General Entertainment",
          "Genki",
          "Ghostlight",
          "Giga",
          "Giza10",
          "Glams",
          "Global A Entertainment",
          "Global Star",
          "Gotham Games",
          "Graffiti",
          "Grand Prix Games",
          "Graphsim Entertainment",
          "Gremlin Interactive Ltd",
          "Griffin International",
          "Groove Games",
          "GungHo",
          "Gust",
          "HAL Laboratory",
          "HMH Interactive",
          "Hackberry",
          "Hamster Corporation",
          "Happinet",
          "Harmonix Music Systems",
          "Hasbro Interactive",
          "Havas Interactive",
          "Headup Games",
          "Hearty Robin",
          "Hect",
          "Hello Games",
          "Her Interactive",
          "Hip Interactive",
          "Home Entertainment Suppliers",
          "Hudson Entertainment",
          "Hudson Soft",
          "Human Entertainment",
          "HuneX",
          "IE Institute",
          "ITT Family Games",
          "Iceberg Interactive",
          "Idea Factory",
          "Idea Factory International",
          "Ignition Entertainment",
          "Illusion Softworks",
          "Imadio",
          "Image Epoch",
          "Imageworks",
          "Imagic",
          "Imagineer",
          "Imax",
          "Indie Games",
          "Infogrames",
          "Insomniac Games",
          "Interchannel",
          "Intergrow",
          "Interplay",
          "Interplay Productions",
          "Introversion Software",
          "Irem Software Engineering",
          "Ivolgamus",
          "JVC",
          "Jack of All Games",
          "Jaleco",
          "Jester Interactive",
          "JoWood Productions",
          "Jorudan",
          "Just Flight",
          "KID",
          "KSS",
          "Kadokawa Games",
          "Kadokawa Shoten",
          "Kaga Create",
          "Kalypso Media",
          "Kamui",
          "Kando Games",
          "Karin Entertainment",
          "Kemco",
          "Kids Station",
          "King Records",
          "Knowledge Adventure",
          "Koch Media",
          "Kokopeli Digital Studios",
          "Konami Digital Entertainment",
          "Kool Kizz",
          "LEGO Media",
          "LSP Games",
          "Laguna",
          "Legacy Interactive",
          "Level 5",
          "Lexicon Entertainment",
          "Licensed 4U",
          "Lighthouse Interactive",
          "Liquid Games",
          "Little Orbit",
          "Locus",
          "LucasArts",
          "MC2 Entertainment",
          "MLB.com",
          "MTO",
          "MTV Games",
          "Mad Catz",
          "Magical Company",
          "Magix",
          "Majesco Entertainment",
          "Mamba Games",
          "Marvel Entertainment",
          "Marvelous Entertainment",
          "Marvelous Games",
          "Marvelous Interactive",
          "Masque Publishing",
          "Mastertronic",
          "Mastiff",
          "Mattel Interactive",
          "Max Five",
          "Maximum Family Games",
          "Maxis",
          "Media Factory",
          "Media Rings",
          "Media Works",
          "MediaQuest",
          "Men-A-Vision",
          "Mentor Interactive",
          "Mercury Games",
          "Merscom LLC",
          "Metro 3D",
          "Micro Cabin",
          "Microids",
          "Microprose",
          "Microsoft Game Studios",
          "Midas Interactive Entertainment",
          "Midway Games",
          "Milestone",
          "Milestone S.r.l",
          "Milestone S.r.l.",
          "Minato Station",
          "Mindscape",
          "Mirai Shounen",
          "Misawa",
          "Mitsui",
          "Mojang",
          "Monte Christo Multimedia",
          "Moss",
          "Mud Duck Productions",
          "Mumbo Jumbo",
          "Mycom",
          "Myelin Media",
          "Mystique",
          "NCS",
          "NCSoft",
          "NDA Productions",
          "NEC",
          "NEC Interchannel",
          "Namco Bandai Games",
          "Natsume",
          "Navarre Corp",
          "Neko Entertainment",
          "NetRevo",
          "New",
          "NewKidCo",
          "Nexon",
          "Nichibutsu",
          "Nihon Falcom Corporation",
          "Nintendo",
          "Nippon Amuse",
          "Nippon Columbia",
          "Nippon Ichi Software",
          "Nippon Telenet",
          "Nobilis",
          "Nordcurrent",
          "Nordic Games",
          "NovaLogic",
          "Number None",
          "O-Games",
          "O3 Entertainment",
          "Ocean",
          "Office Create",
          "On Demand",
          "Origin Systems",
          "Oxygen Interactive",
          "P2 Games",
          "PM Studios",
          "PQube",
          "Pacific Century Cyber Works",
          "Pack In Soft",
          "Pack-In-Video",
          "Palcom",
          "Panther Software",
          "Paon",
          "Paon Corporation",
          "Paradox Interactive",
          "Parker Bros.",
          "Performance Designed Products",
          "Phantagram",
          "Phantom EFX",
          "Phenomedia",
          "Phoenix Games",
          "Pinnacle",
          "Pioneer LDC",
          "Play It",
          "PlayV",
          "Playlogic Game Factory",
          "Playmates",
          "Playmore",
          "Plenty",
          "Pony Canyon",
          "PopCap Games",
          "PopTop Software",
          "Popcorn Arcade",
          "Pow",
          "Princess Soft",
          "Prototype",
          "Psygnosis",
          "Quelle",
          "Quest",
          "Quinrose",
          "Quintet",
          "RED Entertainment",
          "RTL",
          "Rage Software",
          "Rebellion",
          "Rebellion Developments",
          "Red Orb",
          "Red Storm Entertainment",
          "RedOctane",
          "Reef Entertainment",
          "Revolution (Japan)",
          "Revolution Software",
          "Rising Star Games",
          "Riverhillsoft",
          "Rocket Company",
          "Rondomedia",
          "Russel",
          "SCS Software",
          "SCi",
          "SNK",
          "SNK Playmore",
          "SPS",
          "SSI",
          "Sammy Corporation",
          "Saurus",
          "Scholastic Inc.",
          "Screenlife",
          "Sega",
          "Seta Corporation",
          "Seventh Chord",
          "Shogakukan",
          "Simon & Schuster Interactive",
          "Slightly Mad Studios",
          "Slitherine Software",
          "Societa",
          "Sold Out",
          "Sonnet",
          "Sony Computer Entertainment",
          "Sony Computer Entertainment America",
          "Sony Computer Entertainment Europe",
          "Sony Music Entertainment",
          "Sony Online Entertainment",
          "SouthPeak Games",
          "Spike",
          "Square",
          "Square EA",
          "Square Enix",
          "SquareSoft",
          "Starfish",
          "Starpath Corp.",
          "Sting",
          "Storm City Games",
          "Strategy First",
          "Success",
          "Summitsoft",
          "Sunflowers",
          "Sunrise Interactive",
          "Sunsoft",
          "Sweets",
          "Swing! Entertainment",
          "Syscom",
          "System 3",
          "System 3 Arcade Software",
          "System Soft",
          "T&E Soft",
          "TDK Core",
          "TDK Mediactive",
          "TGL",
          "THQ",
          "TOHO",
          "TYO",
          "Taito",
          "Takara",
          "Takara Tomy",
          "Take-Two Interactive",
          "TalonSoft",
          "Team17 Software",
          "TechnoSoft",
          "Technos Japan Corporation",
          "Tecmo Koei",
          "Telegames",
          "Telltale Games",
          "Telstar",
          "Tetris Online",
          "The Adventure Company",
          "The Learning Company",
          "Tigervision",
          "Time Warner Interactive",
          "Titus",
          "Tivola",
          "Tommo",
          "Tomy Corporation",
          "TopWare Interactive",
          "Touchstone",
          "Tradewest",
          "Trion Worlds",
          "Tripwire Interactive",
          "Tru Blu Entertainment",
          "Tryfirst",
          "Type-Moon",
          "U.S. Gold",
          "UEP Systems",
          "UFO Interactive",
          "Ubisoft",
          "Ubisoft Annecy",
          "Universal Gamex",
          "Universal Interactive",
          "Unknown",
          "Valcon Games",
          "ValuSoft",
          "Valve",
          "Valve Software",
          "Vap",
          "Vatical Entertainment",
          "Vic Tokai",
          "Victor Interactive",
          "Video System",
          "Views",
          "Vir2L Studios",
          "Virgin Interactive",
          "Virtual Play Games",
          "Visco",
          "Vivendi Games",
          "Wanadoo",
          "Warashi",
          "Wargaming.net",
          "Warner Bros. Interactive Entertainment",
          "Warp",
          "WayForward Technologies",
          "Westwood Studios",
          "White Park Bay Software",
          "Wizard Video Games",
          "XS Games",
          "Xicat Interactive",
          "Xing Entertainment",
          "Xplosiv",
          "Xseed Games",
          "Yacht Club Games",
          "Yamasa Entertainment",
          "Yeti",
          "Yuke's",
          "Yumedia",
          "Zenrin",
          "Zoo Digital Publishing",
          "Zoo Games",
          "Zushi Games",
          "bitComposer Games",
          "dramatic create",
          "fonfun",
          "iWin",
          "id Software",
          "imageepoch Inc.",
          "inXile Entertainment",
          "mixi, Inc",
          "responDESIGN"
         ],
         "legendgroup": "",
         "name": "",
         "showlegend": true,
         "textinfo": "label+percent",
         "textposition": "inside",
         "type": "pie",
         "values": [
          0.11,
          0.09,
          1.9400000000000002,
          0.04,
          10.110000000000001,
          0.04,
          55.86000000000004,
          1.4800000000000009,
          0.07,
          0.38,
          13.32,
          0.53,
          2.02,
          10.889999999999999,
          0.25,
          0.03,
          0.08,
          64.12999999999997,
          1.68,
          0.8300000000000003,
          1.07,
          721.2899999999983,
          0.48,
          6.959999999999997,
          0.17,
          0.02,
          0.31000000000000005,
          1.9400000000000002,
          0.43999999999999995,
          0.04,
          2.5599999999999996,
          0.19,
          0.07,
          0.04,
          0.23,
          0.43999999999999995,
          0.5,
          1.2100000000000004,
          0.16,
          1.4300000000000004,
          4.72,
          0.07,
          0.09000000000000001,
          0.7300000000000002,
          1.1800000000000002,
          0.1,
          0.24,
          0.23,
          0.17,
          0.61,
          0.6400000000000001,
          0.5900000000000001,
          146.71000000000032,
          0.09000000000000001,
          12.739999999999995,
          0.48,
          2.92,
          1.6800000000000002,
          0.25,
          4.949999999999999,
          1.1800000000000002,
          0.52,
          17.350000000000005,
          0.32,
          0.03,
          81.52000000000002,
          0.9900000000000001,
          0.05,
          0.8200000000000001,
          2.8399999999999985,
          1.2,
          0.38000000000000006,
          0.02,
          0.12,
          0.22,
          1.2300000000000002,
          0.9100000000000001,
          0.03,
          0.31,
          0.22,
          0.18,
          0.54,
          0.9,
          199.8600000000001,
          0.30000000000000004,
          4.049999999999999,
          4.580000000000001,
          0.08,
          0.07,
          47.69000000000004,
          0.02,
          0.31,
          3.0599999999999996,
          0.14,
          2.4599999999999995,
          1.3600000000000003,
          0.8200000000000003,
          0.29000000000000004,
          9.930000000000003,
          0.09,
          0.08,
          1.71,
          0.27,
          0.09,
          0.21999999999999997,
          0.03,
          23.92999999999999,
          0.18,
          0.34,
          3.5199999999999982,
          0.28,
          0.14,
          0.22999999999999998,
          0.71,
          0.29000000000000004,
          0.15,
          0.02,
          25.54,
          0.8500000000000001,
          4.309999999999997,
          0.23,
          0.04,
          0.06,
          118.76000000000003,
          0.02,
          0.9500000000000002,
          0.13,
          0.05,
          0.15,
          0.5900000000000001,
          0.05,
          0.06,
          0.09000000000000001,
          96.67999999999992,
          1093.2699999999961,
          0.42,
          0.64,
          0.07,
          11.129999999999995,
          0.05,
          33.739999999999974,
          0.1,
          2.2199999999999998,
          1.05,
          0.05,
          0.23,
          0.07,
          0.29000000000000004,
          0.27,
          0.04,
          0.03,
          1.1900000000000004,
          0.03,
          0.08,
          0.12,
          7.399999999999997,
          0.04,
          0.6300000000000001,
          0.06,
          7.390000000000001,
          1.6100000000000005,
          1.2900000000000007,
          0.03,
          0.03,
          0.12,
          0.8900000000000001,
          0.2,
          0.15,
          0.03,
          0.03,
          0.02,
          3.6899999999999995,
          25.229999999999993,
          0.02,
          0.16,
          0.04,
          0.14,
          3.7799999999999985,
          0.30000000000000004,
          1.3800000000000001,
          0.1,
          0.73,
          0.19999999999999998,
          0.11,
          1.1900000000000002,
          0.14,
          1.4600000000000002,
          2.67,
          0.02,
          0.02,
          0.08,
          0.14,
          7.649999999999998,
          3.7199999999999998,
          0.37999999999999995,
          0.06,
          0.02,
          1.1,
          0.09,
          0.09,
          3.14,
          1.09,
          0.06,
          0.14,
          0.3,
          0.30000000000000004,
          0.17,
          0.8,
          15.219999999999999,
          0.13,
          0.03,
          0.09,
          0.5,
          1.6,
          0.03,
          0.36,
          0.45000000000000007,
          1.6800000000000004,
          22.96000000000001,
          3,
          0.02,
          0.9600000000000002,
          0.34,
          0.08,
          3.7499999999999973,
          0.6100000000000001,
          6.619999999999998,
          0.7,
          0.14,
          0.1,
          0.02,
          4.82,
          2.6399999999999992,
          0.06,
          0.32,
          16.16,
          0.12000000000000001,
          0.09000000000000001,
          0.03,
          6.64,
          0.1,
          0.02,
          0.45000000000000007,
          0.04,
          2.8,
          0.42000000000000004,
          1.8900000000000006,
          1.15,
          1.4800000000000004,
          0.95,
          0.03,
          0.07,
          0.03,
          0.5300000000000001,
          3.6899999999999995,
          0.11,
          1.9100000000000006,
          0.03,
          0.03,
          0.02,
          2.1899999999999995,
          0.03,
          0.02,
          1.47,
          4.6899999999999995,
          0.03,
          278.38999999999817,
          0.04,
          1.5499999999999998,
          0.11,
          1.55,
          0.04,
          12.160000000000002,
          0.05,
          0.07,
          0.02,
          0.26,
          2.0300000000000007,
          0.07,
          84.95000000000002,
          0.08,
          0.04,
          0.37,
          18.860000000000003,
          0.30000000000000004,
          0.41,
          0.35,
          15.789999999999994,
          0.05,
          0.05,
          2.3099999999999996,
          0.02,
          4.099999999999997,
          0.02,
          1.7200000000000004,
          2.2100000000000004,
          3.51,
          0.05,
          0.03,
          3.39,
          0.29000000000000004,
          0.65,
          0.18,
          0.05,
          0.77,
          1.06,
          0.21,
          0.2,
          1.8400000000000005,
          0.19999999999999998,
          0.3900000000000001,
          1.9700000000000002,
          245.76000000000008,
          2.7199999999999993,
          69.26999999999992,
          0.08,
          0.04,
          1.2600000000000002,
          0.04,
          7.7299999999999995,
          0.02,
          0.07,
          0.08,
          2.89,
          0.05,
          0.12,
          0.85,
          0.5800000000000001,
          0.02,
          0.13,
          0.82,
          0.4,
          2.5899999999999994,
          0.12,
          0.43000000000000005,
          0.78,
          253.33000000000112,
          3.6899999999999995,
          0.05,
          0.31000000000000005,
          0.02,
          0.36,
          1.32,
          0.03,
          0.28,
          0.77,
          1784.3599999999983,
          0.09,
          0.9500000000000002,
          13.89999999999999,
          0.26,
          1.9100000000000004,
          0.5900000000000001,
          4.389999999999998,
          0.8200000000000001,
          0.03,
          1.0700000000000003,
          0.22,
          3.6100000000000003,
          0.06,
          0.21,
          0.09,
          3.449999999999999,
          0.4,
          0.1,
          4.259999999999999,
          0.26,
          0.48,
          0.11,
          4.17,
          0.17,
          0.24,
          0.03,
          0.7500000000000003,
          4.97,
          0.36,
          0.05,
          0.09,
          0.19,
          0.02,
          1.4200000000000002,
          0.74,
          4.31,
          0.44,
          1.2000000000000002,
          0.28,
          0.04,
          0.02,
          0.05,
          1.5600000000000003,
          0.11,
          0.48,
          0.05,
          0.07,
          0.5300000000000002,
          7.27,
          0.87,
          0.71,
          0.14,
          0.02,
          0.02,
          2,
          1.4200000000000004,
          0.48,
          0.30000000000000004,
          5.24,
          2.32,
          8.68,
          0.33000000000000007,
          0.02,
          0.06,
          17.240000000000002,
          0.04,
          1.8100000000000005,
          2.5799999999999996,
          1.1900000000000002,
          0.13,
          3.5100000000000002,
          2.5799999999999996,
          0.9300000000000004,
          0.12,
          0.19,
          2.7300000000000004,
          0.02,
          2.9099999999999997,
          0.9199999999999999,
          270.5199999999994,
          0.6300000000000001,
          0.08,
          0.44000000000000006,
          0.11,
          1.3800000000000001,
          0.15,
          0.04,
          0.02,
          0.06,
          607.2199999999989,
          1.1800000000000002,
          23.890000000000008,
          0.14,
          3.5300000000000002,
          6.349999999999995,
          6.14,
          3.64,
          0.8,
          144.6900000000003,
          57.65,
          0.7200000000000002,
          0.33,
          0.64,
          1.5400000000000005,
          0.03,
          1.9200000000000004,
          0.04,
          0.03,
          0.16999999999999998,
          0.9500000000000002,
          0.05,
          0.48,
          0.27,
          0.21000000000000002,
          1.7800000000000005,
          0.02,
          0.12,
          0.6200000000000001,
          8.28,
          0.09,
          340.40999999999946,
          0.11,
          0.42,
          2.7999999999999994,
          3.4500000000000006,
          2.6700000000000004,
          399.25999999999965,
          0.87,
          0.05,
          0.05,
          0.02,
          53.37000000000007,
          1.0299999999999998,
          2.709999999999999,
          0.27,
          0.43,
          0.51,
          0.05,
          1.42,
          0.35,
          3.2999999999999994,
          0.17,
          0.21,
          4.970000000000001,
          0.03,
          1.5700000000000003,
          0.11,
          1.14,
          0.14,
          0.26,
          0.03,
          0.1,
          0.33,
          2.25,
          0.9300000000000002,
          473.0499999999995,
          4.460000000000001,
          0.63,
          17.6,
          21.87,
          0.44000000000000006,
          0.38,
          1.74,
          3.2300000000000004,
          0.05,
          0.22,
          0.27,
          0.8900000000000001,
          2.18,
          0.02,
          0.26,
          43.860000000000014,
          0.06,
          0.02,
          56.89000000000003,
          0.6400000000000001,
          0.02,
          0.29,
          142.34000000000015,
          0.07,
          0.05,
          1.55,
          0.16,
          0.62,
          1.4300000000000002,
          0.17,
          0.24,
          1.63,
          0.9,
          0.32,
          0.04,
          0.18999999999999997,
          0.08,
          0.06,
          0.06,
          12.799999999999992,
          4.800000000000002,
          1.8900000000000006,
          0.41000000000000003,
          0.1,
          0.02,
          0.06,
          0.03,
          0.03,
          0.1,
          0.86,
          0.13
         ]
        }
       ],
       "layout": {
        "legend": {
         "tracegroupgap": 0
        },
        "piecolorway": [
         "rgb(3, 35, 51)",
         "rgb(13, 48, 100)",
         "rgb(53, 50, 155)",
         "rgb(93, 62, 153)",
         "rgb(126, 77, 143)",
         "rgb(158, 89, 135)",
         "rgb(193, 100, 121)",
         "rgb(225, 113, 97)",
         "rgb(246, 139, 69)",
         "rgb(251, 173, 60)",
         "rgb(246, 211, 70)",
         "rgb(231, 250, 90)"
        ],
        "template": {
         "data": {
          "bar": [
           {
            "error_x": {
             "color": "#2a3f5f"
            },
            "error_y": {
             "color": "#2a3f5f"
            },
            "marker": {
             "line": {
              "color": "#E5ECF6",
              "width": 0.5
             },
             "pattern": {
              "fillmode": "overlay",
              "size": 10,
              "solidity": 0.2
             }
            },
            "type": "bar"
           }
          ],
          "barpolar": [
           {
            "marker": {
             "line": {
              "color": "#E5ECF6",
              "width": 0.5
             },
             "pattern": {
              "fillmode": "overlay",
              "size": 10,
              "solidity": 0.2
             }
            },
            "type": "barpolar"
           }
          ],
          "carpet": [
           {
            "aaxis": {
             "endlinecolor": "#2a3f5f",
             "gridcolor": "white",
             "linecolor": "white",
             "minorgridcolor": "white",
             "startlinecolor": "#2a3f5f"
            },
            "baxis": {
             "endlinecolor": "#2a3f5f",
             "gridcolor": "white",
             "linecolor": "white",
             "minorgridcolor": "white",
             "startlinecolor": "#2a3f5f"
            },
            "type": "carpet"
           }
          ],
          "choropleth": [
           {
            "colorbar": {
             "outlinewidth": 0,
             "ticks": ""
            },
            "type": "choropleth"
           }
          ],
          "contour": [
           {
            "colorbar": {
             "outlinewidth": 0,
             "ticks": ""
            },
            "colorscale": [
             [
              0,
              "#0d0887"
             ],
             [
              0.1111111111111111,
              "#46039f"
             ],
             [
              0.2222222222222222,
              "#7201a8"
             ],
             [
              0.3333333333333333,
              "#9c179e"
             ],
             [
              0.4444444444444444,
              "#bd3786"
             ],
             [
              0.5555555555555556,
              "#d8576b"
             ],
             [
              0.6666666666666666,
              "#ed7953"
             ],
             [
              0.7777777777777778,
              "#fb9f3a"
             ],
             [
              0.8888888888888888,
              "#fdca26"
             ],
             [
              1,
              "#f0f921"
             ]
            ],
            "type": "contour"
           }
          ],
          "contourcarpet": [
           {
            "colorbar": {
             "outlinewidth": 0,
             "ticks": ""
            },
            "type": "contourcarpet"
           }
          ],
          "heatmap": [
           {
            "colorbar": {
             "outlinewidth": 0,
             "ticks": ""
            },
            "colorscale": [
             [
              0,
              "#0d0887"
             ],
             [
              0.1111111111111111,
              "#46039f"
             ],
             [
              0.2222222222222222,
              "#7201a8"
             ],
             [
              0.3333333333333333,
              "#9c179e"
             ],
             [
              0.4444444444444444,
              "#bd3786"
             ],
             [
              0.5555555555555556,
              "#d8576b"
             ],
             [
              0.6666666666666666,
              "#ed7953"
             ],
             [
              0.7777777777777778,
              "#fb9f3a"
             ],
             [
              0.8888888888888888,
              "#fdca26"
             ],
             [
              1,
              "#f0f921"
             ]
            ],
            "type": "heatmap"
           }
          ],
          "heatmapgl": [
           {
            "colorbar": {
             "outlinewidth": 0,
             "ticks": ""
            },
            "colorscale": [
             [
              0,
              "#0d0887"
             ],
             [
              0.1111111111111111,
              "#46039f"
             ],
             [
              0.2222222222222222,
              "#7201a8"
             ],
             [
              0.3333333333333333,
              "#9c179e"
             ],
             [
              0.4444444444444444,
              "#bd3786"
             ],
             [
              0.5555555555555556,
              "#d8576b"
             ],
             [
              0.6666666666666666,
              "#ed7953"
             ],
             [
              0.7777777777777778,
              "#fb9f3a"
             ],
             [
              0.8888888888888888,
              "#fdca26"
             ],
             [
              1,
              "#f0f921"
             ]
            ],
            "type": "heatmapgl"
           }
          ],
          "histogram": [
           {
            "marker": {
             "pattern": {
              "fillmode": "overlay",
              "size": 10,
              "solidity": 0.2
             }
            },
            "type": "histogram"
           }
          ],
          "histogram2d": [
           {
            "colorbar": {
             "outlinewidth": 0,
             "ticks": ""
            },
            "colorscale": [
             [
              0,
              "#0d0887"
             ],
             [
              0.1111111111111111,
              "#46039f"
             ],
             [
              0.2222222222222222,
              "#7201a8"
             ],
             [
              0.3333333333333333,
              "#9c179e"
             ],
             [
              0.4444444444444444,
              "#bd3786"
             ],
             [
              0.5555555555555556,
              "#d8576b"
             ],
             [
              0.6666666666666666,
              "#ed7953"
             ],
             [
              0.7777777777777778,
              "#fb9f3a"
             ],
             [
              0.8888888888888888,
              "#fdca26"
             ],
             [
              1,
              "#f0f921"
             ]
            ],
            "type": "histogram2d"
           }
          ],
          "histogram2dcontour": [
           {
            "colorbar": {
             "outlinewidth": 0,
             "ticks": ""
            },
            "colorscale": [
             [
              0,
              "#0d0887"
             ],
             [
              0.1111111111111111,
              "#46039f"
             ],
             [
              0.2222222222222222,
              "#7201a8"
             ],
             [
              0.3333333333333333,
              "#9c179e"
             ],
             [
              0.4444444444444444,
              "#bd3786"
             ],
             [
              0.5555555555555556,
              "#d8576b"
             ],
             [
              0.6666666666666666,
              "#ed7953"
             ],
             [
              0.7777777777777778,
              "#fb9f3a"
             ],
             [
              0.8888888888888888,
              "#fdca26"
             ],
             [
              1,
              "#f0f921"
             ]
            ],
            "type": "histogram2dcontour"
           }
          ],
          "mesh3d": [
           {
            "colorbar": {
             "outlinewidth": 0,
             "ticks": ""
            },
            "type": "mesh3d"
           }
          ],
          "parcoords": [
           {
            "line": {
             "colorbar": {
              "outlinewidth": 0,
              "ticks": ""
             }
            },
            "type": "parcoords"
           }
          ],
          "pie": [
           {
            "automargin": true,
            "type": "pie"
           }
          ],
          "scatter": [
           {
            "fillpattern": {
             "fillmode": "overlay",
             "size": 10,
             "solidity": 0.2
            },
            "type": "scatter"
           }
          ],
          "scatter3d": [
           {
            "line": {
             "colorbar": {
              "outlinewidth": 0,
              "ticks": ""
             }
            },
            "marker": {
             "colorbar": {
              "outlinewidth": 0,
              "ticks": ""
             }
            },
            "type": "scatter3d"
           }
          ],
          "scattercarpet": [
           {
            "marker": {
             "colorbar": {
              "outlinewidth": 0,
              "ticks": ""
             }
            },
            "type": "scattercarpet"
           }
          ],
          "scattergeo": [
           {
            "marker": {
             "colorbar": {
              "outlinewidth": 0,
              "ticks": ""
             }
            },
            "type": "scattergeo"
           }
          ],
          "scattergl": [
           {
            "marker": {
             "colorbar": {
              "outlinewidth": 0,
              "ticks": ""
             }
            },
            "type": "scattergl"
           }
          ],
          "scattermapbox": [
           {
            "marker": {
             "colorbar": {
              "outlinewidth": 0,
              "ticks": ""
             }
            },
            "type": "scattermapbox"
           }
          ],
          "scatterpolar": [
           {
            "marker": {
             "colorbar": {
              "outlinewidth": 0,
              "ticks": ""
             }
            },
            "type": "scatterpolar"
           }
          ],
          "scatterpolargl": [
           {
            "marker": {
             "colorbar": {
              "outlinewidth": 0,
              "ticks": ""
             }
            },
            "type": "scatterpolargl"
           }
          ],
          "scatterternary": [
           {
            "marker": {
             "colorbar": {
              "outlinewidth": 0,
              "ticks": ""
             }
            },
            "type": "scatterternary"
           }
          ],
          "surface": [
           {
            "colorbar": {
             "outlinewidth": 0,
             "ticks": ""
            },
            "colorscale": [
             [
              0,
              "#0d0887"
             ],
             [
              0.1111111111111111,
              "#46039f"
             ],
             [
              0.2222222222222222,
              "#7201a8"
             ],
             [
              0.3333333333333333,
              "#9c179e"
             ],
             [
              0.4444444444444444,
              "#bd3786"
             ],
             [
              0.5555555555555556,
              "#d8576b"
             ],
             [
              0.6666666666666666,
              "#ed7953"
             ],
             [
              0.7777777777777778,
              "#fb9f3a"
             ],
             [
              0.8888888888888888,
              "#fdca26"
             ],
             [
              1,
              "#f0f921"
             ]
            ],
            "type": "surface"
           }
          ],
          "table": [
           {
            "cells": {
             "fill": {
              "color": "#EBF0F8"
             },
             "line": {
              "color": "white"
             }
            },
            "header": {
             "fill": {
              "color": "#C8D4E3"
             },
             "line": {
              "color": "white"
             }
            },
            "type": "table"
           }
          ]
         },
         "layout": {
          "annotationdefaults": {
           "arrowcolor": "#2a3f5f",
           "arrowhead": 0,
           "arrowwidth": 1
          },
          "autotypenumbers": "strict",
          "coloraxis": {
           "colorbar": {
            "outlinewidth": 0,
            "ticks": ""
           }
          },
          "colorscale": {
           "diverging": [
            [
             0,
             "#8e0152"
            ],
            [
             0.1,
             "#c51b7d"
            ],
            [
             0.2,
             "#de77ae"
            ],
            [
             0.3,
             "#f1b6da"
            ],
            [
             0.4,
             "#fde0ef"
            ],
            [
             0.5,
             "#f7f7f7"
            ],
            [
             0.6,
             "#e6f5d0"
            ],
            [
             0.7,
             "#b8e186"
            ],
            [
             0.8,
             "#7fbc41"
            ],
            [
             0.9,
             "#4d9221"
            ],
            [
             1,
             "#276419"
            ]
           ],
           "sequential": [
            [
             0,
             "#0d0887"
            ],
            [
             0.1111111111111111,
             "#46039f"
            ],
            [
             0.2222222222222222,
             "#7201a8"
            ],
            [
             0.3333333333333333,
             "#9c179e"
            ],
            [
             0.4444444444444444,
             "#bd3786"
            ],
            [
             0.5555555555555556,
             "#d8576b"
            ],
            [
             0.6666666666666666,
             "#ed7953"
            ],
            [
             0.7777777777777778,
             "#fb9f3a"
            ],
            [
             0.8888888888888888,
             "#fdca26"
            ],
            [
             1,
             "#f0f921"
            ]
           ],
           "sequentialminus": [
            [
             0,
             "#0d0887"
            ],
            [
             0.1111111111111111,
             "#46039f"
            ],
            [
             0.2222222222222222,
             "#7201a8"
            ],
            [
             0.3333333333333333,
             "#9c179e"
            ],
            [
             0.4444444444444444,
             "#bd3786"
            ],
            [
             0.5555555555555556,
             "#d8576b"
            ],
            [
             0.6666666666666666,
             "#ed7953"
            ],
            [
             0.7777777777777778,
             "#fb9f3a"
            ],
            [
             0.8888888888888888,
             "#fdca26"
            ],
            [
             1,
             "#f0f921"
            ]
           ]
          },
          "colorway": [
           "#636efa",
           "#EF553B",
           "#00cc96",
           "#ab63fa",
           "#FFA15A",
           "#19d3f3",
           "#FF6692",
           "#B6E880",
           "#FF97FF",
           "#FECB52"
          ],
          "font": {
           "color": "#2a3f5f"
          },
          "geo": {
           "bgcolor": "white",
           "lakecolor": "white",
           "landcolor": "#E5ECF6",
           "showlakes": true,
           "showland": true,
           "subunitcolor": "white"
          },
          "hoverlabel": {
           "align": "left"
          },
          "hovermode": "closest",
          "mapbox": {
           "style": "light"
          },
          "paper_bgcolor": "white",
          "plot_bgcolor": "#E5ECF6",
          "polar": {
           "angularaxis": {
            "gridcolor": "white",
            "linecolor": "white",
            "ticks": ""
           },
           "bgcolor": "#E5ECF6",
           "radialaxis": {
            "gridcolor": "white",
            "linecolor": "white",
            "ticks": ""
           }
          },
          "scene": {
           "xaxis": {
            "backgroundcolor": "#E5ECF6",
            "gridcolor": "white",
            "gridwidth": 2,
            "linecolor": "white",
            "showbackground": true,
            "ticks": "",
            "zerolinecolor": "white"
           },
           "yaxis": {
            "backgroundcolor": "#E5ECF6",
            "gridcolor": "white",
            "gridwidth": 2,
            "linecolor": "white",
            "showbackground": true,
            "ticks": "",
            "zerolinecolor": "white"
           },
           "zaxis": {
            "backgroundcolor": "#E5ECF6",
            "gridcolor": "white",
            "gridwidth": 2,
            "linecolor": "white",
            "showbackground": true,
            "ticks": "",
            "zerolinecolor": "white"
           }
          },
          "shapedefaults": {
           "line": {
            "color": "#2a3f5f"
           }
          },
          "ternary": {
           "aaxis": {
            "gridcolor": "white",
            "linecolor": "white",
            "ticks": ""
           },
           "baxis": {
            "gridcolor": "white",
            "linecolor": "white",
            "ticks": ""
           },
           "bgcolor": "#E5ECF6",
           "caxis": {
            "gridcolor": "white",
            "linecolor": "white",
            "ticks": ""
           }
          },
          "title": {
           "x": 0.05
          },
          "xaxis": {
           "automargin": true,
           "gridcolor": "white",
           "linecolor": "white",
           "ticks": "",
           "title": {
            "standoff": 15
           },
           "zerolinecolor": "white",
           "zerolinewidth": 2
          },
          "yaxis": {
           "automargin": true,
           "gridcolor": "white",
           "linecolor": "white",
           "ticks": "",
           "title": {
            "standoff": 15
           },
           "zerolinecolor": "white",
           "zerolinewidth": 2
          }
         }
        },
        "title": {
         "text": "Total Sales Globally by Publisher"
        }
       }
      },
      "text/html": [
       "<div>                            <div id=\"86dfc723-8b86-4887-b288-30bf7cd3eeed\" class=\"plotly-graph-div\" style=\"height:525px; width:100%;\"></div>            <script type=\"text/javascript\">                require([\"plotly\"], function(Plotly) {                    window.PLOTLYENV=window.PLOTLYENV || {};                                    if (document.getElementById(\"86dfc723-8b86-4887-b288-30bf7cd3eeed\")) {                    Plotly.newPlot(                        \"86dfc723-8b86-4887-b288-30bf7cd3eeed\",                        [{\"domain\":{\"x\":[0.0,1.0],\"y\":[0.0,1.0]},\"hovertemplate\":\"publisher=%{label}<br>sum_global=%{value}<extra></extra>\",\"labels\":[\"10TACLE Studios\",\"1C Company\",\"20th Century Fox Video Games\",\"2D Boy\",\"3DO\",\"49Games\",\"505 Games\",\"5pb\",\"7G//AMES\",\"989 Sports\",\"989 Studios\",\"AQ Interactive\",\"ASC Games\",\"ASCII Entertainment\",\"ASCII Media Works\",\"ASK\",\"Abylight\",\"Acclaim Entertainment\",\"Accolade\",\"Ackkstudios\",\"Acquire\",\"Activision\",\"Activision Blizzard\",\"Activision Value\",\"Adeline Software\",\"Aerosoft\",\"Agatsuma Entertainment\",\"Agetec\",\"Aksys Games\",\"Alawar Entertainment\",\"Alchemist\",\"Alternative Software\",\"Altron\",\"Alvion\",\"American Softworks\",\"Angel Studios\",\"Answer Software\",\"Aqua Plus\",\"Aques\",\"Arc System Works\",\"Arena Entertainment\",\"Aria\",\"Arika\",\"ArtDink\",\"Aruze Corp\",\"Ascaron Entertainment GmbH\",\"Asgard\",\"Asmik Ace Entertainment\",\"Asmik Corp\",\"Aspyr\",\"Astragon\",\"Asylum Entertainment\",\"Atari\",\"Athena\",\"Atlus\",\"Avalon Interactive\",\"Avanquest\",\"Avanquest Software\",\"Axela\",\"BAM! Entertainment\",\"BMG Interactive Entertainment\",\"BPS\",\"Banpresto\",\"Benesse\",\"Berkeley\",\"Bethesda Softworks\",\"Big Ben Interactive\",\"Big Fish Games\",\"Bigben Interactive\",\"Black Bean Games\",\"Black Label Games\",\"Blast! Entertainment Ltd\",\"Blue Byte\",\"Bohemia Interactive\",\"Bomb\",\"Brash Entertainment\",\"Broccoli\",\"BushiRoad\",\"CBS Electronics\",\"CCP\",\"CDV Software Entertainment\",\"CPG Products\",\"CTO SpA\",\"Capcom\",\"Cave\",\"ChunSoft\",\"City Interactive\",\"Cloud Imperium Games Corporation\",\"Coconuts Japan\",\"Codemasters\",\"Codemasters Online\",\"CokeM Interactive\",\"Coleco\",\"Comfort\",\"Compile\",\"Compile Heart\",\"Conspiracy Entertainment\",\"Core Design Ltd.\",\"Crave Entertainment\",\"Creative Core\",\"Crimson Cow\",\"Crystal Dynamics\",\"Culture Brain\",\"Culture Publishers\",\"CyberFront\",\"Cygames\",\"D3Publisher\",\"DHM Interactive\",\"DSI Games\",\"DTP Entertainment\",\"Daedalic\",\"Daedalic Entertainment\",\"Daito\",\"Data Age\",\"Data Design Interactive\",\"Data East\",\"Datam Polystar\",\"Deep Silver\",\"Destination Software, Inc\",\"Destineer\",\"Detn8 Games\",\"Devolver Digital\",\"DigiCube\",\"Disney Interactive Studios\",\"Dorart\",\"DreamCatcher Interactive\",\"DreamWorks Interactive\",\"Dusenberry Martin Racing\",\"EA Games\",\"ESP\",\"Easy Interactive\",\"Ecole\",\"Edia\",\"Eidos Interactive\",\"Electronic Arts\",\"Electronic Arts Victor\",\"Elf\",\"Elite\",\"Empire Interactive\",\"Encore\",\"Enix Corporation\",\"Enjoy Gaming ltd.\",\"Enterbrain\",\"Epoch\",\"Ertain\",\"Essential Games\",\"Evolution Games\",\"Evolved Games\",\"Excalibur Publishing\",\"Experience Inc.\",\"Extreme Entertainment Group\",\"Falcom Corporation\",\"Fields\",\"Flashpoint Games\",\"Flight-Plan\",\"Focus Home Interactive\",\"Focus Multimedia\",\"Foreign Media Games\",\"Fortyfive\",\"Fox Interactive\",\"From Software\",\"FuRyu\",\"FuRyu Corporation\",\"Fuji\",\"FunSoft\",\"Funbox Media\",\"Funcom\",\"Funsta\",\"G.Rev\",\"GN Software\",\"GOA\",\"GSP\",\"GT Interactive\",\"Gaga\",\"Gainax Network Systems\",\"Gakken\",\"Game Arts\",\"Game Factory\",\"Game Life\",\"GameMill Entertainment\",\"GameTek\",\"Gamebridge\",\"Gamecock\",\"Gameloft\",\"Gathering of Developers\",\"General Entertainment\",\"Genki\",\"Ghostlight\",\"Giga\",\"Giza10\",\"Glams\",\"Global A Entertainment\",\"Global Star\",\"Gotham Games\",\"Graffiti\",\"Grand Prix Games\",\"Graphsim Entertainment\",\"Gremlin Interactive Ltd\",\"Griffin International\",\"Groove Games\",\"GungHo\",\"Gust\",\"HAL Laboratory\",\"HMH Interactive\",\"Hackberry\",\"Hamster Corporation\",\"Happinet\",\"Harmonix Music Systems\",\"Hasbro Interactive\",\"Havas Interactive\",\"Headup Games\",\"Hearty Robin\",\"Hect\",\"Hello Games\",\"Her Interactive\",\"Hip Interactive\",\"Home Entertainment Suppliers\",\"Hudson Entertainment\",\"Hudson Soft\",\"Human Entertainment\",\"HuneX\",\"IE Institute\",\"ITT Family Games\",\"Iceberg Interactive\",\"Idea Factory\",\"Idea Factory International\",\"Ignition Entertainment\",\"Illusion Softworks\",\"Imadio\",\"Image Epoch\",\"Imageworks\",\"Imagic\",\"Imagineer\",\"Imax\",\"Indie Games\",\"Infogrames\",\"Insomniac Games\",\"Interchannel\",\"Intergrow\",\"Interplay\",\"Interplay Productions\",\"Introversion Software\",\"Irem Software Engineering\",\"Ivolgamus\",\"JVC\",\"Jack of All Games\",\"Jaleco\",\"Jester Interactive\",\"JoWood Productions\",\"Jorudan\",\"Just Flight\",\"KID\",\"KSS\",\"Kadokawa Games\",\"Kadokawa Shoten\",\"Kaga Create\",\"Kalypso Media\",\"Kamui\",\"Kando Games\",\"Karin Entertainment\",\"Kemco\",\"Kids Station\",\"King Records\",\"Knowledge Adventure\",\"Koch Media\",\"Kokopeli Digital Studios\",\"Konami Digital Entertainment\",\"Kool Kizz\",\"LEGO Media\",\"LSP Games\",\"Laguna\",\"Legacy Interactive\",\"Level 5\",\"Lexicon Entertainment\",\"Licensed 4U\",\"Lighthouse Interactive\",\"Liquid Games\",\"Little Orbit\",\"Locus\",\"LucasArts\",\"MC2 Entertainment\",\"MLB.com\",\"MTO\",\"MTV Games\",\"Mad Catz\",\"Magical Company\",\"Magix\",\"Majesco Entertainment\",\"Mamba Games\",\"Marvel Entertainment\",\"Marvelous Entertainment\",\"Marvelous Games\",\"Marvelous Interactive\",\"Masque Publishing\",\"Mastertronic\",\"Mastiff\",\"Mattel Interactive\",\"Max Five\",\"Maximum Family Games\",\"Maxis\",\"Media Factory\",\"Media Rings\",\"Media Works\",\"MediaQuest\",\"Men-A-Vision\",\"Mentor Interactive\",\"Mercury Games\",\"Merscom LLC\",\"Metro 3D\",\"Micro Cabin\",\"Microids\",\"Microprose\",\"Microsoft Game Studios\",\"Midas Interactive Entertainment\",\"Midway Games\",\"Milestone\",\"Milestone S.r.l\",\"Milestone S.r.l.\",\"Minato Station\",\"Mindscape\",\"Mirai Shounen\",\"Misawa\",\"Mitsui\",\"Mojang\",\"Monte Christo Multimedia\",\"Moss\",\"Mud Duck Productions\",\"Mumbo Jumbo\",\"Mycom\",\"Myelin Media\",\"Mystique\",\"NCS\",\"NCSoft\",\"NDA Productions\",\"NEC\",\"NEC Interchannel\",\"Namco Bandai Games\",\"Natsume\",\"Navarre Corp\",\"Neko Entertainment\",\"NetRevo\",\"New\",\"NewKidCo\",\"Nexon\",\"Nichibutsu\",\"Nihon Falcom Corporation\",\"Nintendo\",\"Nippon Amuse\",\"Nippon Columbia\",\"Nippon Ichi Software\",\"Nippon Telenet\",\"Nobilis\",\"Nordcurrent\",\"Nordic Games\",\"NovaLogic\",\"Number None\",\"O-Games\",\"O3 Entertainment\",\"Ocean\",\"Office Create\",\"On Demand\",\"Origin Systems\",\"Oxygen Interactive\",\"P2 Games\",\"PM Studios\",\"PQube\",\"Pacific Century Cyber Works\",\"Pack In Soft\",\"Pack-In-Video\",\"Palcom\",\"Panther Software\",\"Paon\",\"Paon Corporation\",\"Paradox Interactive\",\"Parker Bros.\",\"Performance Designed Products\",\"Phantagram\",\"Phantom EFX\",\"Phenomedia\",\"Phoenix Games\",\"Pinnacle\",\"Pioneer LDC\",\"Play It\",\"PlayV\",\"Playlogic Game Factory\",\"Playmates\",\"Playmore\",\"Plenty\",\"Pony Canyon\",\"PopCap Games\",\"PopTop Software\",\"Popcorn Arcade\",\"Pow\",\"Princess Soft\",\"Prototype\",\"Psygnosis\",\"Quelle\",\"Quest\",\"Quinrose\",\"Quintet\",\"RED Entertainment\",\"RTL\",\"Rage Software\",\"Rebellion\",\"Rebellion Developments\",\"Red Orb\",\"Red Storm Entertainment\",\"RedOctane\",\"Reef Entertainment\",\"Revolution (Japan)\",\"Revolution Software\",\"Rising Star Games\",\"Riverhillsoft\",\"Rocket Company\",\"Rondomedia\",\"Russel\",\"SCS Software\",\"SCi\",\"SNK\",\"SNK Playmore\",\"SPS\",\"SSI\",\"Sammy Corporation\",\"Saurus\",\"Scholastic Inc.\",\"Screenlife\",\"Sega\",\"Seta Corporation\",\"Seventh Chord\",\"Shogakukan\",\"Simon & Schuster Interactive\",\"Slightly Mad Studios\",\"Slitherine Software\",\"Societa\",\"Sold Out\",\"Sonnet\",\"Sony Computer Entertainment\",\"Sony Computer Entertainment America\",\"Sony Computer Entertainment Europe\",\"Sony Music Entertainment\",\"Sony Online Entertainment\",\"SouthPeak Games\",\"Spike\",\"Square\",\"Square EA\",\"Square Enix\",\"SquareSoft\",\"Starfish\",\"Starpath Corp.\",\"Sting\",\"Storm City Games\",\"Strategy First\",\"Success\",\"Summitsoft\",\"Sunflowers\",\"Sunrise Interactive\",\"Sunsoft\",\"Sweets\",\"Swing! Entertainment\",\"Syscom\",\"System 3\",\"System 3 Arcade Software\",\"System Soft\",\"T&E Soft\",\"TDK Core\",\"TDK Mediactive\",\"TGL\",\"THQ\",\"TOHO\",\"TYO\",\"Taito\",\"Takara\",\"Takara Tomy\",\"Take-Two Interactive\",\"TalonSoft\",\"Team17 Software\",\"TechnoSoft\",\"Technos Japan Corporation\",\"Tecmo Koei\",\"Telegames\",\"Telltale Games\",\"Telstar\",\"Tetris Online\",\"The Adventure Company\",\"The Learning Company\",\"Tigervision\",\"Time Warner Interactive\",\"Titus\",\"Tivola\",\"Tommo\",\"Tomy Corporation\",\"TopWare Interactive\",\"Touchstone\",\"Tradewest\",\"Trion Worlds\",\"Tripwire Interactive\",\"Tru Blu Entertainment\",\"Tryfirst\",\"Type-Moon\",\"U.S. Gold\",\"UEP Systems\",\"UFO Interactive\",\"Ubisoft\",\"Ubisoft Annecy\",\"Universal Gamex\",\"Universal Interactive\",\"Unknown\",\"Valcon Games\",\"ValuSoft\",\"Valve\",\"Valve Software\",\"Vap\",\"Vatical Entertainment\",\"Vic Tokai\",\"Victor Interactive\",\"Video System\",\"Views\",\"Vir2L Studios\",\"Virgin Interactive\",\"Virtual Play Games\",\"Visco\",\"Vivendi Games\",\"Wanadoo\",\"Warashi\",\"Wargaming.net\",\"Warner Bros. Interactive Entertainment\",\"Warp\",\"WayForward Technologies\",\"Westwood Studios\",\"White Park Bay Software\",\"Wizard Video Games\",\"XS Games\",\"Xicat Interactive\",\"Xing Entertainment\",\"Xplosiv\",\"Xseed Games\",\"Yacht Club Games\",\"Yamasa Entertainment\",\"Yeti\",\"Yuke's\",\"Yumedia\",\"Zenrin\",\"Zoo Digital Publishing\",\"Zoo Games\",\"Zushi Games\",\"bitComposer Games\",\"dramatic create\",\"fonfun\",\"iWin\",\"id Software\",\"imageepoch Inc.\",\"inXile Entertainment\",\"mixi, Inc\",\"responDESIGN\"],\"legendgroup\":\"\",\"name\":\"\",\"showlegend\":true,\"values\":[0.11,0.09,1.9400000000000002,0.04,10.110000000000001,0.04,55.86000000000004,1.4800000000000009,0.07,0.38,13.32,0.53,2.02,10.889999999999999,0.25,0.03,0.08,64.12999999999997,1.68,0.8300000000000003,1.07,721.2899999999983,0.48,6.959999999999997,0.17,0.02,0.31000000000000005,1.9400000000000002,0.43999999999999995,0.04,2.5599999999999996,0.19,0.07,0.04,0.23,0.43999999999999995,0.5,1.2100000000000004,0.16,1.4300000000000004,4.72,0.07,0.09000000000000001,0.7300000000000002,1.1800000000000002,0.1,0.24,0.23,0.17,0.61,0.6400000000000001,0.5900000000000001,146.71000000000032,0.09000000000000001,12.739999999999995,0.48,2.92,1.6800000000000002,0.25,4.949999999999999,1.1800000000000002,0.52,17.350000000000005,0.32,0.03,81.52000000000002,0.9900000000000001,0.05,0.8200000000000001,2.8399999999999985,1.2,0.38000000000000006,0.02,0.12,0.22,1.2300000000000002,0.9100000000000001,0.03,0.31,0.22,0.18,0.54,0.9,199.8600000000001,0.30000000000000004,4.049999999999999,4.580000000000001,0.08,0.07,47.69000000000004,0.02,0.31,3.0599999999999996,0.14,2.4599999999999995,1.3600000000000003,0.8200000000000003,0.29000000000000004,9.930000000000003,0.09,0.08,1.71,0.27,0.09,0.21999999999999997,0.03,23.92999999999999,0.18,0.34,3.5199999999999982,0.28,0.14,0.22999999999999998,0.71,0.29000000000000004,0.15,0.02,25.54,0.8500000000000001,4.309999999999997,0.23,0.04,0.06,118.76000000000003,0.02,0.9500000000000002,0.13,0.05,0.15,0.5900000000000001,0.05,0.06,0.09000000000000001,96.67999999999992,1093.2699999999961,0.42,0.64,0.07,11.129999999999995,0.05,33.739999999999974,0.1,2.2199999999999998,1.05,0.05,0.23,0.07,0.29000000000000004,0.27,0.04,0.03,1.1900000000000004,0.03,0.08,0.12,7.399999999999997,0.04,0.6300000000000001,0.06,7.390000000000001,1.6100000000000005,1.2900000000000007,0.03,0.03,0.12,0.8900000000000001,0.2,0.15,0.03,0.03,0.02,3.6899999999999995,25.229999999999993,0.02,0.16,0.04,0.14,3.7799999999999985,0.30000000000000004,1.3800000000000001,0.1,0.73,0.19999999999999998,0.11,1.1900000000000002,0.14,1.4600000000000002,2.67,0.02,0.02,0.08,0.14,7.649999999999998,3.7199999999999998,0.37999999999999995,0.06,0.02,1.1,0.09,0.09,3.14,1.09,0.06,0.14,0.3,0.30000000000000004,0.17,0.8,15.219999999999999,0.13,0.03,0.09,0.5,1.6,0.03,0.36,0.45000000000000007,1.6800000000000004,22.96000000000001,3.0,0.02,0.9600000000000002,0.34,0.08,3.7499999999999973,0.6100000000000001,6.619999999999998,0.7,0.14,0.1,0.02,4.82,2.6399999999999992,0.06,0.32,16.16,0.12000000000000001,0.09000000000000001,0.03,6.64,0.1,0.02,0.45000000000000007,0.04,2.8,0.42000000000000004,1.8900000000000006,1.15,1.4800000000000004,0.95,0.03,0.07,0.03,0.5300000000000001,3.6899999999999995,0.11,1.9100000000000006,0.03,0.03,0.02,2.1899999999999995,0.03,0.02,1.47,4.6899999999999995,0.03,278.38999999999817,0.04,1.5499999999999998,0.11,1.55,0.04,12.160000000000002,0.05,0.07,0.02,0.26,2.0300000000000007,0.07,84.95000000000002,0.08,0.04,0.37,18.860000000000003,0.30000000000000004,0.41,0.35,15.789999999999994,0.05,0.05,2.3099999999999996,0.02,4.099999999999997,0.02,1.7200000000000004,2.2100000000000004,3.51,0.05,0.03,3.39,0.29000000000000004,0.65,0.18,0.05,0.77,1.06,0.21,0.2,1.8400000000000005,0.19999999999999998,0.3900000000000001,1.9700000000000002,245.76000000000008,2.7199999999999993,69.26999999999992,0.08,0.04,1.2600000000000002,0.04,7.7299999999999995,0.02,0.07,0.08,2.89,0.05,0.12,0.85,0.5800000000000001,0.02,0.13,0.82,0.4,2.5899999999999994,0.12,0.43000000000000005,0.78,253.33000000000112,3.6899999999999995,0.05,0.31000000000000005,0.02,0.36,1.32,0.03,0.28,0.77,1784.3599999999983,0.09,0.9500000000000002,13.89999999999999,0.26,1.9100000000000004,0.5900000000000001,4.389999999999998,0.8200000000000001,0.03,1.0700000000000003,0.22,3.6100000000000003,0.06,0.21,0.09,3.449999999999999,0.4,0.1,4.259999999999999,0.26,0.48,0.11,4.17,0.17,0.24,0.03,0.7500000000000003,4.97,0.36,0.05,0.09,0.19,0.02,1.4200000000000002,0.74,4.31,0.44,1.2000000000000002,0.28,0.04,0.02,0.05,1.5600000000000003,0.11,0.48,0.05,0.07,0.5300000000000002,7.27,0.87,0.71,0.14,0.02,0.02,2.0,1.4200000000000004,0.48,0.30000000000000004,5.24,2.32,8.68,0.33000000000000007,0.02,0.06,17.240000000000002,0.04,1.8100000000000005,2.5799999999999996,1.1900000000000002,0.13,3.5100000000000002,2.5799999999999996,0.9300000000000004,0.12,0.19,2.7300000000000004,0.02,2.9099999999999997,0.9199999999999999,270.5199999999994,0.6300000000000001,0.08,0.44000000000000006,0.11,1.3800000000000001,0.15,0.04,0.02,0.06,607.2199999999989,1.1800000000000002,23.890000000000008,0.14,3.5300000000000002,6.349999999999995,6.14,3.64,0.8,144.6900000000003,57.65,0.7200000000000002,0.33,0.64,1.5400000000000005,0.03,1.9200000000000004,0.04,0.03,0.16999999999999998,0.9500000000000002,0.05,0.48,0.27,0.21000000000000002,1.7800000000000005,0.02,0.12,0.6200000000000001,8.28,0.09,340.40999999999946,0.11,0.42,2.7999999999999994,3.4500000000000006,2.6700000000000004,399.25999999999965,0.87,0.05,0.05,0.02,53.37000000000007,1.0299999999999998,2.709999999999999,0.27,0.43,0.51,0.05,1.42,0.35,3.2999999999999994,0.17,0.21,4.970000000000001,0.03,1.5700000000000003,0.11,1.14,0.14,0.26,0.03,0.1,0.33,2.25,0.9300000000000002,473.0499999999995,4.460000000000001,0.63,17.6,21.87,0.44000000000000006,0.38,1.74,3.2300000000000004,0.05,0.22,0.27,0.8900000000000001,2.18,0.02,0.26,43.860000000000014,0.06,0.02,56.89000000000003,0.6400000000000001,0.02,0.29,142.34000000000015,0.07,0.05,1.55,0.16,0.62,1.4300000000000002,0.17,0.24,1.63,0.9,0.32,0.04,0.18999999999999997,0.08,0.06,0.06,12.799999999999992,4.800000000000002,1.8900000000000006,0.41000000000000003,0.1,0.02,0.06,0.03,0.03,0.1,0.86,0.13],\"type\":\"pie\",\"textinfo\":\"label+percent\",\"textposition\":\"inside\"}],                        {\"template\":{\"data\":{\"histogram2dcontour\":[{\"type\":\"histogram2dcontour\",\"colorbar\":{\"outlinewidth\":0,\"ticks\":\"\"},\"colorscale\":[[0.0,\"#0d0887\"],[0.1111111111111111,\"#46039f\"],[0.2222222222222222,\"#7201a8\"],[0.3333333333333333,\"#9c179e\"],[0.4444444444444444,\"#bd3786\"],[0.5555555555555556,\"#d8576b\"],[0.6666666666666666,\"#ed7953\"],[0.7777777777777778,\"#fb9f3a\"],[0.8888888888888888,\"#fdca26\"],[1.0,\"#f0f921\"]]}],\"choropleth\":[{\"type\":\"choropleth\",\"colorbar\":{\"outlinewidth\":0,\"ticks\":\"\"}}],\"histogram2d\":[{\"type\":\"histogram2d\",\"colorbar\":{\"outlinewidth\":0,\"ticks\":\"\"},\"colorscale\":[[0.0,\"#0d0887\"],[0.1111111111111111,\"#46039f\"],[0.2222222222222222,\"#7201a8\"],[0.3333333333333333,\"#9c179e\"],[0.4444444444444444,\"#bd3786\"],[0.5555555555555556,\"#d8576b\"],[0.6666666666666666,\"#ed7953\"],[0.7777777777777778,\"#fb9f3a\"],[0.8888888888888888,\"#fdca26\"],[1.0,\"#f0f921\"]]}],\"heatmap\":[{\"type\":\"heatmap\",\"colorbar\":{\"outlinewidth\":0,\"ticks\":\"\"},\"colorscale\":[[0.0,\"#0d0887\"],[0.1111111111111111,\"#46039f\"],[0.2222222222222222,\"#7201a8\"],[0.3333333333333333,\"#9c179e\"],[0.4444444444444444,\"#bd3786\"],[0.5555555555555556,\"#d8576b\"],[0.6666666666666666,\"#ed7953\"],[0.7777777777777778,\"#fb9f3a\"],[0.8888888888888888,\"#fdca26\"],[1.0,\"#f0f921\"]]}],\"heatmapgl\":[{\"type\":\"heatmapgl\",\"colorbar\":{\"outlinewidth\":0,\"ticks\":\"\"},\"colorscale\":[[0.0,\"#0d0887\"],[0.1111111111111111,\"#46039f\"],[0.2222222222222222,\"#7201a8\"],[0.3333333333333333,\"#9c179e\"],[0.4444444444444444,\"#bd3786\"],[0.5555555555555556,\"#d8576b\"],[0.6666666666666666,\"#ed7953\"],[0.7777777777777778,\"#fb9f3a\"],[0.8888888888888888,\"#fdca26\"],[1.0,\"#f0f921\"]]}],\"contourcarpet\":[{\"type\":\"contourcarpet\",\"colorbar\":{\"outlinewidth\":0,\"ticks\":\"\"}}],\"contour\":[{\"type\":\"contour\",\"colorbar\":{\"outlinewidth\":0,\"ticks\":\"\"},\"colorscale\":[[0.0,\"#0d0887\"],[0.1111111111111111,\"#46039f\"],[0.2222222222222222,\"#7201a8\"],[0.3333333333333333,\"#9c179e\"],[0.4444444444444444,\"#bd3786\"],[0.5555555555555556,\"#d8576b\"],[0.6666666666666666,\"#ed7953\"],[0.7777777777777778,\"#fb9f3a\"],[0.8888888888888888,\"#fdca26\"],[1.0,\"#f0f921\"]]}],\"surface\":[{\"type\":\"surface\",\"colorbar\":{\"outlinewidth\":0,\"ticks\":\"\"},\"colorscale\":[[0.0,\"#0d0887\"],[0.1111111111111111,\"#46039f\"],[0.2222222222222222,\"#7201a8\"],[0.3333333333333333,\"#9c179e\"],[0.4444444444444444,\"#bd3786\"],[0.5555555555555556,\"#d8576b\"],[0.6666666666666666,\"#ed7953\"],[0.7777777777777778,\"#fb9f3a\"],[0.8888888888888888,\"#fdca26\"],[1.0,\"#f0f921\"]]}],\"mesh3d\":[{\"type\":\"mesh3d\",\"colorbar\":{\"outlinewidth\":0,\"ticks\":\"\"}}],\"scatter\":[{\"fillpattern\":{\"fillmode\":\"overlay\",\"size\":10,\"solidity\":0.2},\"type\":\"scatter\"}],\"parcoords\":[{\"type\":\"parcoords\",\"line\":{\"colorbar\":{\"outlinewidth\":0,\"ticks\":\"\"}}}],\"scatterpolargl\":[{\"type\":\"scatterpolargl\",\"marker\":{\"colorbar\":{\"outlinewidth\":0,\"ticks\":\"\"}}}],\"bar\":[{\"error_x\":{\"color\":\"#2a3f5f\"},\"error_y\":{\"color\":\"#2a3f5f\"},\"marker\":{\"line\":{\"color\":\"#E5ECF6\",\"width\":0.5},\"pattern\":{\"fillmode\":\"overlay\",\"size\":10,\"solidity\":0.2}},\"type\":\"bar\"}],\"scattergeo\":[{\"type\":\"scattergeo\",\"marker\":{\"colorbar\":{\"outlinewidth\":0,\"ticks\":\"\"}}}],\"scatterpolar\":[{\"type\":\"scatterpolar\",\"marker\":{\"colorbar\":{\"outlinewidth\":0,\"ticks\":\"\"}}}],\"histogram\":[{\"marker\":{\"pattern\":{\"fillmode\":\"overlay\",\"size\":10,\"solidity\":0.2}},\"type\":\"histogram\"}],\"scattergl\":[{\"type\":\"scattergl\",\"marker\":{\"colorbar\":{\"outlinewidth\":0,\"ticks\":\"\"}}}],\"scatter3d\":[{\"type\":\"scatter3d\",\"line\":{\"colorbar\":{\"outlinewidth\":0,\"ticks\":\"\"}},\"marker\":{\"colorbar\":{\"outlinewidth\":0,\"ticks\":\"\"}}}],\"scattermapbox\":[{\"type\":\"scattermapbox\",\"marker\":{\"colorbar\":{\"outlinewidth\":0,\"ticks\":\"\"}}}],\"scatterternary\":[{\"type\":\"scatterternary\",\"marker\":{\"colorbar\":{\"outlinewidth\":0,\"ticks\":\"\"}}}],\"scattercarpet\":[{\"type\":\"scattercarpet\",\"marker\":{\"colorbar\":{\"outlinewidth\":0,\"ticks\":\"\"}}}],\"carpet\":[{\"aaxis\":{\"endlinecolor\":\"#2a3f5f\",\"gridcolor\":\"white\",\"linecolor\":\"white\",\"minorgridcolor\":\"white\",\"startlinecolor\":\"#2a3f5f\"},\"baxis\":{\"endlinecolor\":\"#2a3f5f\",\"gridcolor\":\"white\",\"linecolor\":\"white\",\"minorgridcolor\":\"white\",\"startlinecolor\":\"#2a3f5f\"},\"type\":\"carpet\"}],\"table\":[{\"cells\":{\"fill\":{\"color\":\"#EBF0F8\"},\"line\":{\"color\":\"white\"}},\"header\":{\"fill\":{\"color\":\"#C8D4E3\"},\"line\":{\"color\":\"white\"}},\"type\":\"table\"}],\"barpolar\":[{\"marker\":{\"line\":{\"color\":\"#E5ECF6\",\"width\":0.5},\"pattern\":{\"fillmode\":\"overlay\",\"size\":10,\"solidity\":0.2}},\"type\":\"barpolar\"}],\"pie\":[{\"automargin\":true,\"type\":\"pie\"}]},\"layout\":{\"autotypenumbers\":\"strict\",\"colorway\":[\"#636efa\",\"#EF553B\",\"#00cc96\",\"#ab63fa\",\"#FFA15A\",\"#19d3f3\",\"#FF6692\",\"#B6E880\",\"#FF97FF\",\"#FECB52\"],\"font\":{\"color\":\"#2a3f5f\"},\"hovermode\":\"closest\",\"hoverlabel\":{\"align\":\"left\"},\"paper_bgcolor\":\"white\",\"plot_bgcolor\":\"#E5ECF6\",\"polar\":{\"bgcolor\":\"#E5ECF6\",\"angularaxis\":{\"gridcolor\":\"white\",\"linecolor\":\"white\",\"ticks\":\"\"},\"radialaxis\":{\"gridcolor\":\"white\",\"linecolor\":\"white\",\"ticks\":\"\"}},\"ternary\":{\"bgcolor\":\"#E5ECF6\",\"aaxis\":{\"gridcolor\":\"white\",\"linecolor\":\"white\",\"ticks\":\"\"},\"baxis\":{\"gridcolor\":\"white\",\"linecolor\":\"white\",\"ticks\":\"\"},\"caxis\":{\"gridcolor\":\"white\",\"linecolor\":\"white\",\"ticks\":\"\"}},\"coloraxis\":{\"colorbar\":{\"outlinewidth\":0,\"ticks\":\"\"}},\"colorscale\":{\"sequential\":[[0.0,\"#0d0887\"],[0.1111111111111111,\"#46039f\"],[0.2222222222222222,\"#7201a8\"],[0.3333333333333333,\"#9c179e\"],[0.4444444444444444,\"#bd3786\"],[0.5555555555555556,\"#d8576b\"],[0.6666666666666666,\"#ed7953\"],[0.7777777777777778,\"#fb9f3a\"],[0.8888888888888888,\"#fdca26\"],[1.0,\"#f0f921\"]],\"sequentialminus\":[[0.0,\"#0d0887\"],[0.1111111111111111,\"#46039f\"],[0.2222222222222222,\"#7201a8\"],[0.3333333333333333,\"#9c179e\"],[0.4444444444444444,\"#bd3786\"],[0.5555555555555556,\"#d8576b\"],[0.6666666666666666,\"#ed7953\"],[0.7777777777777778,\"#fb9f3a\"],[0.8888888888888888,\"#fdca26\"],[1.0,\"#f0f921\"]],\"diverging\":[[0,\"#8e0152\"],[0.1,\"#c51b7d\"],[0.2,\"#de77ae\"],[0.3,\"#f1b6da\"],[0.4,\"#fde0ef\"],[0.5,\"#f7f7f7\"],[0.6,\"#e6f5d0\"],[0.7,\"#b8e186\"],[0.8,\"#7fbc41\"],[0.9,\"#4d9221\"],[1,\"#276419\"]]},\"xaxis\":{\"gridcolor\":\"white\",\"linecolor\":\"white\",\"ticks\":\"\",\"title\":{\"standoff\":15},\"zerolinecolor\":\"white\",\"automargin\":true,\"zerolinewidth\":2},\"yaxis\":{\"gridcolor\":\"white\",\"linecolor\":\"white\",\"ticks\":\"\",\"title\":{\"standoff\":15},\"zerolinecolor\":\"white\",\"automargin\":true,\"zerolinewidth\":2},\"scene\":{\"xaxis\":{\"backgroundcolor\":\"#E5ECF6\",\"gridcolor\":\"white\",\"linecolor\":\"white\",\"showbackground\":true,\"ticks\":\"\",\"zerolinecolor\":\"white\",\"gridwidth\":2},\"yaxis\":{\"backgroundcolor\":\"#E5ECF6\",\"gridcolor\":\"white\",\"linecolor\":\"white\",\"showbackground\":true,\"ticks\":\"\",\"zerolinecolor\":\"white\",\"gridwidth\":2},\"zaxis\":{\"backgroundcolor\":\"#E5ECF6\",\"gridcolor\":\"white\",\"linecolor\":\"white\",\"showbackground\":true,\"ticks\":\"\",\"zerolinecolor\":\"white\",\"gridwidth\":2}},\"shapedefaults\":{\"line\":{\"color\":\"#2a3f5f\"}},\"annotationdefaults\":{\"arrowcolor\":\"#2a3f5f\",\"arrowhead\":0,\"arrowwidth\":1},\"geo\":{\"bgcolor\":\"white\",\"landcolor\":\"#E5ECF6\",\"subunitcolor\":\"white\",\"showland\":true,\"showlakes\":true,\"lakecolor\":\"white\"},\"title\":{\"x\":0.05},\"mapbox\":{\"style\":\"light\"}}},\"legend\":{\"tracegroupgap\":0},\"title\":{\"text\":\"Total Sales Globally by Publisher\"},\"piecolorway\":[\"rgb(3, 35, 51)\",\"rgb(13, 48, 100)\",\"rgb(53, 50, 155)\",\"rgb(93, 62, 153)\",\"rgb(126, 77, 143)\",\"rgb(158, 89, 135)\",\"rgb(193, 100, 121)\",\"rgb(225, 113, 97)\",\"rgb(246, 139, 69)\",\"rgb(251, 173, 60)\",\"rgb(246, 211, 70)\",\"rgb(231, 250, 90)\"]},                        {\"responsive\": true}                    ).then(function(){\n",
       "                            \n",
       "var gd = document.getElementById('86dfc723-8b86-4887-b288-30bf7cd3eeed');\n",
       "var x = new MutationObserver(function (mutations, observer) {{\n",
       "        var display = window.getComputedStyle(gd).display;\n",
       "        if (!display || display === 'none') {{\n",
       "            console.log([gd, 'removed!']);\n",
       "            Plotly.purge(gd);\n",
       "            observer.disconnect();\n",
       "        }}\n",
       "}});\n",
       "\n",
       "// Listen for the removal of the full notebook cells\n",
       "var notebookContainer = gd.closest('#notebook-container');\n",
       "if (notebookContainer) {{\n",
       "    x.observe(notebookContainer, {childList: true});\n",
       "}}\n",
       "\n",
       "// Listen for the clearing of the current output cell\n",
       "var outputEl = gd.closest('.output');\n",
       "if (outputEl) {{\n",
       "    x.observe(outputEl, {childList: true});\n",
       "}}\n",
       "\n",
       "                        })                };                });            </script>        </div>"
      ]
     },
     "metadata": {},
     "output_type": "display_data"
    }
   ],
   "source": [
    "# publisher summary by region\n",
    "agg_pub_sales = aggregate_regional_summary(\"publisher\")\n",
    "\n",
    "# create pie chart\n",
    "fig = px.pie(agg_pub_sales, values = \"sum_global\", names = \"publisher\", color_discrete_sequence = px.colors.sequential.thermal,\n",
    "             title = \"Total Sales Globally by Publisher\")\n",
    "fig.update_traces(textposition = \"inside\", textinfo = \"label+percent\")"
   ]
  },
  {
   "cell_type": "markdown",
   "metadata": {},
   "source": [
    "### Topics to explore:\n",
    "Most profitable genre (measured by genre)\n",
    "\n",
    "top genre by publishers\n",
    "\n",
    "linear regression to predict number of games per year"
   ]
  },
  {
   "cell_type": "code",
   "execution_count": 19,
   "metadata": {},
   "outputs": [
    {
     "data": {
      "text/html": [
       "<div>\n",
       "<style scoped>\n",
       "    .dataframe tbody tr th:only-of-type {\n",
       "        vertical-align: middle;\n",
       "    }\n",
       "\n",
       "    .dataframe tbody tr th {\n",
       "        vertical-align: top;\n",
       "    }\n",
       "\n",
       "    .dataframe thead th {\n",
       "        text-align: right;\n",
       "    }\n",
       "</style>\n",
       "<table border=\"1\" class=\"dataframe\">\n",
       "  <thead>\n",
       "    <tr style=\"text-align: right;\">\n",
       "      <th></th>\n",
       "      <th>genre</th>\n",
       "      <th>publisher</th>\n",
       "      <th>sum</th>\n",
       "      <th>mean</th>\n",
       "    </tr>\n",
       "  </thead>\n",
       "  <tbody>\n",
       "    <tr>\n",
       "      <th>1531</th>\n",
       "      <td>Sports</td>\n",
       "      <td>Electronic Arts</td>\n",
       "      <td>468.66</td>\n",
       "      <td>0.850563</td>\n",
       "    </tr>\n",
       "    <tr>\n",
       "      <th>769</th>\n",
       "      <td>Platform</td>\n",
       "      <td>Nintendo</td>\n",
       "      <td>426.17</td>\n",
       "      <td>3.874273</td>\n",
       "    </tr>\n",
       "    <tr>\n",
       "      <th>1196</th>\n",
       "      <td>Shooter</td>\n",
       "      <td>Activision</td>\n",
       "      <td>295.38</td>\n",
       "      <td>1.930588</td>\n",
       "    </tr>\n",
       "    <tr>\n",
       "      <th>1144</th>\n",
       "      <td>Role-Playing</td>\n",
       "      <td>Nintendo</td>\n",
       "      <td>284.57</td>\n",
       "      <td>2.710190</td>\n",
       "    </tr>\n",
       "    <tr>\n",
       "      <th>1584</th>\n",
       "      <td>Sports</td>\n",
       "      <td>Nintendo</td>\n",
       "      <td>218.01</td>\n",
       "      <td>3.963818</td>\n",
       "    </tr>\n",
       "    <tr>\n",
       "      <th>189</th>\n",
       "      <td>Action</td>\n",
       "      <td>Take-Two Interactive</td>\n",
       "      <td>211.07</td>\n",
       "      <td>2.294239</td>\n",
       "    </tr>\n",
       "    <tr>\n",
       "      <th>628</th>\n",
       "      <td>Misc</td>\n",
       "      <td>Nintendo</td>\n",
       "      <td>180.65</td>\n",
       "      <td>1.843367</td>\n",
       "    </tr>\n",
       "    <tr>\n",
       "      <th>1229</th>\n",
       "      <td>Shooter</td>\n",
       "      <td>Electronic Arts</td>\n",
       "      <td>158.25</td>\n",
       "      <td>1.146739</td>\n",
       "    </tr>\n",
       "    <tr>\n",
       "      <th>983</th>\n",
       "      <td>Racing</td>\n",
       "      <td>Nintendo</td>\n",
       "      <td>151.30</td>\n",
       "      <td>4.089189</td>\n",
       "    </tr>\n",
       "    <tr>\n",
       "      <th>946</th>\n",
       "      <td>Racing</td>\n",
       "      <td>Electronic Arts</td>\n",
       "      <td>145.77</td>\n",
       "      <td>0.916792</td>\n",
       "    </tr>\n",
       "    <tr>\n",
       "      <th>199</th>\n",
       "      <td>Action</td>\n",
       "      <td>Ubisoft</td>\n",
       "      <td>142.91</td>\n",
       "      <td>0.752158</td>\n",
       "    </tr>\n",
       "    <tr>\n",
       "      <th>10</th>\n",
       "      <td>Action</td>\n",
       "      <td>Activision</td>\n",
       "      <td>141.76</td>\n",
       "      <td>0.469404</td>\n",
       "    </tr>\n",
       "    <tr>\n",
       "      <th>143</th>\n",
       "      <td>Action</td>\n",
       "      <td>Nintendo</td>\n",
       "      <td>128.08</td>\n",
       "      <td>1.685263</td>\n",
       "    </tr>\n",
       "    <tr>\n",
       "      <th>868</th>\n",
       "      <td>Puzzle</td>\n",
       "      <td>Nintendo</td>\n",
       "      <td>124.87</td>\n",
       "      <td>1.710548</td>\n",
       "    </tr>\n",
       "    <tr>\n",
       "      <th>64</th>\n",
       "      <td>Action</td>\n",
       "      <td>Electronic Arts</td>\n",
       "      <td>115.32</td>\n",
       "      <td>0.640667</td>\n",
       "    </tr>\n",
       "    <tr>\n",
       "      <th>1002</th>\n",
       "      <td>Racing</td>\n",
       "      <td>Sony Computer Entertainment</td>\n",
       "      <td>110.57</td>\n",
       "      <td>1.701077</td>\n",
       "    </tr>\n",
       "    <tr>\n",
       "      <th>210</th>\n",
       "      <td>Action</td>\n",
       "      <td>Warner Bros. Interactive Entertainment</td>\n",
       "      <td>106.69</td>\n",
       "      <td>0.711267</td>\n",
       "    </tr>\n",
       "    <tr>\n",
       "      <th>782</th>\n",
       "      <td>Platform</td>\n",
       "      <td>Sony Computer Entertainment</td>\n",
       "      <td>104.06</td>\n",
       "      <td>1.576667</td>\n",
       "    </tr>\n",
       "    <tr>\n",
       "      <th>1561</th>\n",
       "      <td>Sports</td>\n",
       "      <td>Konami Digital Entertainment</td>\n",
       "      <td>98.08</td>\n",
       "      <td>0.360588</td>\n",
       "    </tr>\n",
       "    <tr>\n",
       "      <th>691</th>\n",
       "      <td>Misc</td>\n",
       "      <td>Ubisoft</td>\n",
       "      <td>97.47</td>\n",
       "      <td>0.672207</td>\n",
       "    </tr>\n",
       "    <tr>\n",
       "      <th>1164</th>\n",
       "      <td>Role-Playing</td>\n",
       "      <td>Square Enix</td>\n",
       "      <td>96.98</td>\n",
       "      <td>0.769683</td>\n",
       "    </tr>\n",
       "    <tr>\n",
       "      <th>1267</th>\n",
       "      <td>Shooter</td>\n",
       "      <td>Microsoft Game Studios</td>\n",
       "      <td>95.46</td>\n",
       "      <td>3.409286</td>\n",
       "    </tr>\n",
       "    <tr>\n",
       "      <th>173</th>\n",
       "      <td>Action</td>\n",
       "      <td>Sony Computer Entertainment</td>\n",
       "      <td>94.52</td>\n",
       "      <td>1.050222</td>\n",
       "    </tr>\n",
       "    <tr>\n",
       "      <th>1375</th>\n",
       "      <td>Simulation</td>\n",
       "      <td>Electronic Arts</td>\n",
       "      <td>89.52</td>\n",
       "      <td>0.778435</td>\n",
       "    </tr>\n",
       "    <tr>\n",
       "      <th>185</th>\n",
       "      <td>Action</td>\n",
       "      <td>THQ</td>\n",
       "      <td>89.15</td>\n",
       "      <td>0.464323</td>\n",
       "    </tr>\n",
       "    <tr>\n",
       "      <th>1436</th>\n",
       "      <td>Simulation</td>\n",
       "      <td>Nintendo</td>\n",
       "      <td>85.25</td>\n",
       "      <td>3.044643</td>\n",
       "    </tr>\n",
       "    <tr>\n",
       "      <th>41</th>\n",
       "      <td>Action</td>\n",
       "      <td>Capcom</td>\n",
       "      <td>85.12</td>\n",
       "      <td>0.567467</td>\n",
       "    </tr>\n",
       "    <tr>\n",
       "      <th>665</th>\n",
       "      <td>Misc</td>\n",
       "      <td>Sony Computer Entertainment</td>\n",
       "      <td>80.79</td>\n",
       "      <td>0.636142</td>\n",
       "    </tr>\n",
       "    <tr>\n",
       "      <th>1617</th>\n",
       "      <td>Sports</td>\n",
       "      <td>Take-Two Interactive</td>\n",
       "      <td>76.76</td>\n",
       "      <td>0.511733</td>\n",
       "    </tr>\n",
       "    <tr>\n",
       "      <th>512</th>\n",
       "      <td>Misc</td>\n",
       "      <td>Activision</td>\n",
       "      <td>76.55</td>\n",
       "      <td>0.743204</td>\n",
       "    </tr>\n",
       "    <tr>\n",
       "      <th>1491</th>\n",
       "      <td>Sports</td>\n",
       "      <td>Activision</td>\n",
       "      <td>75.16</td>\n",
       "      <td>0.529296</td>\n",
       "    </tr>\n",
       "    <tr>\n",
       "      <th>485</th>\n",
       "      <td>Fighting</td>\n",
       "      <td>THQ</td>\n",
       "      <td>72.86</td>\n",
       "      <td>1.026197</td>\n",
       "    </tr>\n",
       "    <tr>\n",
       "      <th>1601</th>\n",
       "      <td>Sports</td>\n",
       "      <td>Sega</td>\n",
       "      <td>71.63</td>\n",
       "      <td>0.559609</td>\n",
       "    </tr>\n",
       "    <tr>\n",
       "      <th>1276</th>\n",
       "      <td>Shooter</td>\n",
       "      <td>Nintendo</td>\n",
       "      <td>69.69</td>\n",
       "      <td>2.903750</td>\n",
       "    </tr>\n",
       "    <tr>\n",
       "      <th>115</th>\n",
       "      <td>Action</td>\n",
       "      <td>Konami Digital Entertainment</td>\n",
       "      <td>69.67</td>\n",
       "      <td>0.497643</td>\n",
       "    </tr>\n",
       "    <tr>\n",
       "      <th>1321</th>\n",
       "      <td>Shooter</td>\n",
       "      <td>Ubisoft</td>\n",
       "      <td>67.63</td>\n",
       "      <td>0.751444</td>\n",
       "    </tr>\n",
       "    <tr>\n",
       "      <th>63</th>\n",
       "      <td>Action</td>\n",
       "      <td>Eidos Interactive</td>\n",
       "      <td>63.35</td>\n",
       "      <td>0.791875</td>\n",
       "    </tr>\n",
       "    <tr>\n",
       "      <th>462</th>\n",
       "      <td>Fighting</td>\n",
       "      <td>Namco Bandai Games</td>\n",
       "      <td>61.18</td>\n",
       "      <td>0.470615</td>\n",
       "    </tr>\n",
       "    <tr>\n",
       "      <th>781</th>\n",
       "      <td>Platform</td>\n",
       "      <td>Sega</td>\n",
       "      <td>60.83</td>\n",
       "      <td>1.192745</td>\n",
       "    </tr>\n",
       "    <tr>\n",
       "      <th>121</th>\n",
       "      <td>Action</td>\n",
       "      <td>LucasArts</td>\n",
       "      <td>59.63</td>\n",
       "      <td>1.268723</td>\n",
       "    </tr>\n",
       "    <tr>\n",
       "      <th>1604</th>\n",
       "      <td>Sports</td>\n",
       "      <td>Sony Computer Entertainment</td>\n",
       "      <td>59.39</td>\n",
       "      <td>0.482846</td>\n",
       "    </tr>\n",
       "    <tr>\n",
       "      <th>1298</th>\n",
       "      <td>Shooter</td>\n",
       "      <td>Sony Computer Entertainment</td>\n",
       "      <td>57.51</td>\n",
       "      <td>1.150200</td>\n",
       "    </tr>\n",
       "    <tr>\n",
       "      <th>1310</th>\n",
       "      <td>Shooter</td>\n",
       "      <td>Take-Two Interactive</td>\n",
       "      <td>54.22</td>\n",
       "      <td>0.860635</td>\n",
       "    </tr>\n",
       "    <tr>\n",
       "      <th>1061</th>\n",
       "      <td>Role-Playing</td>\n",
       "      <td>Bethesda Softworks</td>\n",
       "      <td>54.16</td>\n",
       "      <td>3.185882</td>\n",
       "    </tr>\n",
       "    <tr>\n",
       "      <th>1140</th>\n",
       "      <td>Role-Playing</td>\n",
       "      <td>Namco Bandai Games</td>\n",
       "      <td>53.80</td>\n",
       "      <td>0.361074</td>\n",
       "    </tr>\n",
       "    <tr>\n",
       "      <th>466</th>\n",
       "      <td>Fighting</td>\n",
       "      <td>Nintendo</td>\n",
       "      <td>53.35</td>\n",
       "      <td>2.963889</td>\n",
       "    </tr>\n",
       "    <tr>\n",
       "      <th>1165</th>\n",
       "      <td>Role-Playing</td>\n",
       "      <td>SquareSoft</td>\n",
       "      <td>52.59</td>\n",
       "      <td>1.383947</td>\n",
       "    </tr>\n",
       "    <tr>\n",
       "      <th>62</th>\n",
       "      <td>Action</td>\n",
       "      <td>Disney Interactive Studios</td>\n",
       "      <td>51.25</td>\n",
       "      <td>0.545213</td>\n",
       "    </tr>\n",
       "  </tbody>\n",
       "</table>\n",
       "</div>"
      ],
      "text/plain": [
       "             genre                               publisher     sum      mean\n",
       "1531        Sports                         Electronic Arts  468.66  0.850563\n",
       "769       Platform                                Nintendo  426.17  3.874273\n",
       "1196       Shooter                              Activision  295.38  1.930588\n",
       "1144  Role-Playing                                Nintendo  284.57  2.710190\n",
       "1584        Sports                                Nintendo  218.01  3.963818\n",
       "189         Action                    Take-Two Interactive  211.07  2.294239\n",
       "628           Misc                                Nintendo  180.65  1.843367\n",
       "1229       Shooter                         Electronic Arts  158.25  1.146739\n",
       "983         Racing                                Nintendo  151.30  4.089189\n",
       "946         Racing                         Electronic Arts  145.77  0.916792\n",
       "199         Action                                 Ubisoft  142.91  0.752158\n",
       "10          Action                              Activision  141.76  0.469404\n",
       "143         Action                                Nintendo  128.08  1.685263\n",
       "868         Puzzle                                Nintendo  124.87  1.710548\n",
       "64          Action                         Electronic Arts  115.32  0.640667\n",
       "1002        Racing             Sony Computer Entertainment  110.57  1.701077\n",
       "210         Action  Warner Bros. Interactive Entertainment  106.69  0.711267\n",
       "782       Platform             Sony Computer Entertainment  104.06  1.576667\n",
       "1561        Sports            Konami Digital Entertainment   98.08  0.360588\n",
       "691           Misc                                 Ubisoft   97.47  0.672207\n",
       "1164  Role-Playing                             Square Enix   96.98  0.769683\n",
       "1267       Shooter                  Microsoft Game Studios   95.46  3.409286\n",
       "173         Action             Sony Computer Entertainment   94.52  1.050222\n",
       "1375    Simulation                         Electronic Arts   89.52  0.778435\n",
       "185         Action                                     THQ   89.15  0.464323\n",
       "1436    Simulation                                Nintendo   85.25  3.044643\n",
       "41          Action                                  Capcom   85.12  0.567467\n",
       "665           Misc             Sony Computer Entertainment   80.79  0.636142\n",
       "1617        Sports                    Take-Two Interactive   76.76  0.511733\n",
       "512           Misc                              Activision   76.55  0.743204\n",
       "1491        Sports                              Activision   75.16  0.529296\n",
       "485       Fighting                                     THQ   72.86  1.026197\n",
       "1601        Sports                                    Sega   71.63  0.559609\n",
       "1276       Shooter                                Nintendo   69.69  2.903750\n",
       "115         Action            Konami Digital Entertainment   69.67  0.497643\n",
       "1321       Shooter                                 Ubisoft   67.63  0.751444\n",
       "63          Action                       Eidos Interactive   63.35  0.791875\n",
       "462       Fighting                      Namco Bandai Games   61.18  0.470615\n",
       "781       Platform                                    Sega   60.83  1.192745\n",
       "121         Action                               LucasArts   59.63  1.268723\n",
       "1604        Sports             Sony Computer Entertainment   59.39  0.482846\n",
       "1298       Shooter             Sony Computer Entertainment   57.51  1.150200\n",
       "1310       Shooter                    Take-Two Interactive   54.22  0.860635\n",
       "1061  Role-Playing                      Bethesda Softworks   54.16  3.185882\n",
       "1140  Role-Playing                      Namco Bandai Games   53.80  0.361074\n",
       "466       Fighting                                Nintendo   53.35  2.963889\n",
       "1165  Role-Playing                              SquareSoft   52.59  1.383947\n",
       "62          Action              Disney Interactive Studios   51.25  0.545213"
      ]
     },
     "execution_count": 19,
     "metadata": {},
     "output_type": "execute_result"
    }
   ],
   "source": [
    "test = trunc_data.groupby([\"genre\", \"publisher\"])[\"global_sales\"].agg([\"sum\", \"mean\"]).reset_index()\n",
    "test.sort_values(by = \"sum\", ascending = False).loc[test[\"sum\"] >= 50]"
   ]
  },
  {
   "cell_type": "markdown",
   "metadata": {},
   "source": [
    "## Statistical Analysis & Inference\n",
    "***"
   ]
  },
  {
   "cell_type": "markdown",
   "metadata": {},
   "source": [
    "### Hypothesis Testing"
   ]
  },
  {
   "cell_type": "code",
   "execution_count": 20,
   "metadata": {},
   "outputs": [],
   "source": [
    "from scipy.stats import permutation_test, ttest_ind"
   ]
  },
  {
   "cell_type": "markdown",
   "metadata": {},
   "source": [
    "## Test #1\n",
    "\n",
    "Test if differences in means between top two (by sum) genres are statistically significant.\n",
    "\n",
    "Let $\\mu_A$ be the ```avg_global``` of the Action genre\n",
    "\n",
    "Let $\\mu_B$ be the ```avg_global``` of the Sports genre \n",
    "\n",
    "H0: $\\mu_A - \\mu_B = 0$\n",
    "\n",
    "HA: $\\mu_A < \\mu_B$"
   ]
  },
  {
   "cell_type": "code",
   "execution_count": 21,
   "metadata": {},
   "outputs": [
    {
     "data": {
      "text/html": [
       "<div>\n",
       "<style scoped>\n",
       "    .dataframe tbody tr th:only-of-type {\n",
       "        vertical-align: middle;\n",
       "    }\n",
       "\n",
       "    .dataframe tbody tr th {\n",
       "        vertical-align: top;\n",
       "    }\n",
       "\n",
       "    .dataframe thead th {\n",
       "        text-align: right;\n",
       "    }\n",
       "</style>\n",
       "<table border=\"1\" class=\"dataframe\">\n",
       "  <thead>\n",
       "    <tr style=\"text-align: right;\">\n",
       "      <th></th>\n",
       "      <th>genre</th>\n",
       "      <th>sum_na</th>\n",
       "      <th>avg_na</th>\n",
       "      <th>sum_eu</th>\n",
       "      <th>avg_eu</th>\n",
       "      <th>sum_jp</th>\n",
       "      <th>avg_jp</th>\n",
       "      <th>sum_other</th>\n",
       "      <th>avg_other</th>\n",
       "      <th>sum_global</th>\n",
       "      <th>avg_global</th>\n",
       "    </tr>\n",
       "  </thead>\n",
       "  <tbody>\n",
       "    <tr>\n",
       "      <th>0</th>\n",
       "      <td>Action</td>\n",
       "      <td>861.59</td>\n",
       "      <td>0.273694</td>\n",
       "      <td>516.18</td>\n",
       "      <td>0.163971</td>\n",
       "      <td>158.10</td>\n",
       "      <td>0.050222</td>\n",
       "      <td>184.92</td>\n",
       "      <td>0.058742</td>\n",
       "      <td>1721.83</td>\n",
       "      <td>0.546960</td>\n",
       "    </tr>\n",
       "    <tr>\n",
       "      <th>1</th>\n",
       "      <td>Adventure</td>\n",
       "      <td>101.94</td>\n",
       "      <td>0.090292</td>\n",
       "      <td>63.67</td>\n",
       "      <td>0.056395</td>\n",
       "      <td>50.77</td>\n",
       "      <td>0.044969</td>\n",
       "      <td>16.70</td>\n",
       "      <td>0.014792</td>\n",
       "      <td>233.33</td>\n",
       "      <td>0.206670</td>\n",
       "    </tr>\n",
       "    <tr>\n",
       "      <th>2</th>\n",
       "      <td>Fighting</td>\n",
       "      <td>220.67</td>\n",
       "      <td>0.272096</td>\n",
       "      <td>99.98</td>\n",
       "      <td>0.123280</td>\n",
       "      <td>86.98</td>\n",
       "      <td>0.107250</td>\n",
       "      <td>36.19</td>\n",
       "      <td>0.044624</td>\n",
       "      <td>443.80</td>\n",
       "      <td>0.547226</td>\n",
       "    </tr>\n",
       "    <tr>\n",
       "      <th>3</th>\n",
       "      <td>Misc</td>\n",
       "      <td>402.31</td>\n",
       "      <td>0.243824</td>\n",
       "      <td>213.72</td>\n",
       "      <td>0.129527</td>\n",
       "      <td>106.32</td>\n",
       "      <td>0.064436</td>\n",
       "      <td>74.02</td>\n",
       "      <td>0.044861</td>\n",
       "      <td>797.02</td>\n",
       "      <td>0.483042</td>\n",
       "    </tr>\n",
       "    <tr>\n",
       "      <th>4</th>\n",
       "      <td>Platform</td>\n",
       "      <td>445.93</td>\n",
       "      <td>0.517320</td>\n",
       "      <td>200.63</td>\n",
       "      <td>0.232749</td>\n",
       "      <td>130.61</td>\n",
       "      <td>0.151520</td>\n",
       "      <td>51.51</td>\n",
       "      <td>0.059756</td>\n",
       "      <td>829.01</td>\n",
       "      <td>0.961729</td>\n",
       "    </tr>\n",
       "    <tr>\n",
       "      <th>5</th>\n",
       "      <td>Puzzle</td>\n",
       "      <td>121.80</td>\n",
       "      <td>0.227239</td>\n",
       "      <td>50.44</td>\n",
       "      <td>0.094104</td>\n",
       "      <td>56.63</td>\n",
       "      <td>0.105653</td>\n",
       "      <td>12.47</td>\n",
       "      <td>0.023265</td>\n",
       "      <td>241.87</td>\n",
       "      <td>0.451250</td>\n",
       "    </tr>\n",
       "    <tr>\n",
       "      <th>6</th>\n",
       "      <td>Racing</td>\n",
       "      <td>356.73</td>\n",
       "      <td>0.300784</td>\n",
       "      <td>236.16</td>\n",
       "      <td>0.199123</td>\n",
       "      <td>56.57</td>\n",
       "      <td>0.047698</td>\n",
       "      <td>76.68</td>\n",
       "      <td>0.064654</td>\n",
       "      <td>726.37</td>\n",
       "      <td>0.612454</td>\n",
       "    </tr>\n",
       "    <tr>\n",
       "      <th>7</th>\n",
       "      <td>Role-Playing</td>\n",
       "      <td>326.47</td>\n",
       "      <td>0.228141</td>\n",
       "      <td>187.49</td>\n",
       "      <td>0.131020</td>\n",
       "      <td>349.99</td>\n",
       "      <td>0.244577</td>\n",
       "      <td>59.38</td>\n",
       "      <td>0.041495</td>\n",
       "      <td>923.42</td>\n",
       "      <td>0.645297</td>\n",
       "    </tr>\n",
       "    <tr>\n",
       "      <th>8</th>\n",
       "      <td>Shooter</td>\n",
       "      <td>575.03</td>\n",
       "      <td>0.458923</td>\n",
       "      <td>310.34</td>\n",
       "      <td>0.247678</td>\n",
       "      <td>38.11</td>\n",
       "      <td>0.030415</td>\n",
       "      <td>101.90</td>\n",
       "      <td>0.081325</td>\n",
       "      <td>1025.91</td>\n",
       "      <td>0.818763</td>\n",
       "    </tr>\n",
       "    <tr>\n",
       "      <th>9</th>\n",
       "      <td>Simulation</td>\n",
       "      <td>181.47</td>\n",
       "      <td>0.219964</td>\n",
       "      <td>113.08</td>\n",
       "      <td>0.137067</td>\n",
       "      <td>63.44</td>\n",
       "      <td>0.076897</td>\n",
       "      <td>31.34</td>\n",
       "      <td>0.037988</td>\n",
       "      <td>389.62</td>\n",
       "      <td>0.472267</td>\n",
       "    </tr>\n",
       "    <tr>\n",
       "      <th>10</th>\n",
       "      <td>Sports</td>\n",
       "      <td>669.93</td>\n",
       "      <td>0.297086</td>\n",
       "      <td>371.11</td>\n",
       "      <td>0.164572</td>\n",
       "      <td>134.66</td>\n",
       "      <td>0.059716</td>\n",
       "      <td>132.65</td>\n",
       "      <td>0.058825</td>\n",
       "      <td>1308.75</td>\n",
       "      <td>0.580377</td>\n",
       "    </tr>\n",
       "    <tr>\n",
       "      <th>11</th>\n",
       "      <td>Strategy</td>\n",
       "      <td>67.85</td>\n",
       "      <td>0.107019</td>\n",
       "      <td>44.75</td>\n",
       "      <td>0.070584</td>\n",
       "      <td>48.96</td>\n",
       "      <td>0.077224</td>\n",
       "      <td>11.23</td>\n",
       "      <td>0.017713</td>\n",
       "      <td>173.06</td>\n",
       "      <td>0.272965</td>\n",
       "    </tr>\n",
       "  </tbody>\n",
       "</table>\n",
       "</div>"
      ],
      "text/plain": [
       "           genre  sum_na    avg_na  sum_eu    avg_eu  sum_jp    avg_jp  \\\n",
       "0         Action  861.59  0.273694  516.18  0.163971  158.10  0.050222   \n",
       "1      Adventure  101.94  0.090292   63.67  0.056395   50.77  0.044969   \n",
       "2       Fighting  220.67  0.272096   99.98  0.123280   86.98  0.107250   \n",
       "3           Misc  402.31  0.243824  213.72  0.129527  106.32  0.064436   \n",
       "4       Platform  445.93  0.517320  200.63  0.232749  130.61  0.151520   \n",
       "5         Puzzle  121.80  0.227239   50.44  0.094104   56.63  0.105653   \n",
       "6         Racing  356.73  0.300784  236.16  0.199123   56.57  0.047698   \n",
       "7   Role-Playing  326.47  0.228141  187.49  0.131020  349.99  0.244577   \n",
       "8        Shooter  575.03  0.458923  310.34  0.247678   38.11  0.030415   \n",
       "9     Simulation  181.47  0.219964  113.08  0.137067   63.44  0.076897   \n",
       "10        Sports  669.93  0.297086  371.11  0.164572  134.66  0.059716   \n",
       "11      Strategy   67.85  0.107019   44.75  0.070584   48.96  0.077224   \n",
       "\n",
       "    sum_other  avg_other  sum_global  avg_global  \n",
       "0      184.92   0.058742     1721.83    0.546960  \n",
       "1       16.70   0.014792      233.33    0.206670  \n",
       "2       36.19   0.044624      443.80    0.547226  \n",
       "3       74.02   0.044861      797.02    0.483042  \n",
       "4       51.51   0.059756      829.01    0.961729  \n",
       "5       12.47   0.023265      241.87    0.451250  \n",
       "6       76.68   0.064654      726.37    0.612454  \n",
       "7       59.38   0.041495      923.42    0.645297  \n",
       "8      101.90   0.081325     1025.91    0.818763  \n",
       "9       31.34   0.037988      389.62    0.472267  \n",
       "10     132.65   0.058825     1308.75    0.580377  \n",
       "11      11.23   0.017713      173.06    0.272965  "
      ]
     },
     "execution_count": 21,
     "metadata": {},
     "output_type": "execute_result"
    }
   ],
   "source": [
    "agg_genre_sales"
   ]
  },
  {
   "cell_type": "code",
   "execution_count": 22,
   "metadata": {},
   "outputs": [],
   "source": [
    "action_games = trunc_data.loc[trunc_data[\"genre\"] == \"Action\"][\"global_sales\"]\n",
    "sports_games = trunc_data.loc[trunc_data[\"genre\"] == \"Sports\"][\"global_sales\"]"
   ]
  },
  {
   "cell_type": "code",
   "execution_count": 34,
   "metadata": {},
   "outputs": [
    {
     "data": {
      "text/plain": [
       "(3148, 2255)"
      ]
     },
     "execution_count": 34,
     "metadata": {},
     "output_type": "execute_result"
    }
   ],
   "source": [
    "len(action_games), len(sports_games)"
   ]
  },
  {
   "cell_type": "code",
   "execution_count": 44,
   "metadata": {},
   "outputs": [
    {
     "data": {
      "text/plain": [
       "count    3148.000000\n",
       "mean        0.546960\n",
       "std         1.180286\n",
       "min         0.020000\n",
       "25%         0.080000\n",
       "50%         0.205000\n",
       "75%         0.510000\n",
       "max        21.400000\n",
       "Name: global_sales, dtype: float64"
      ]
     },
     "execution_count": 44,
     "metadata": {},
     "output_type": "execute_result"
    }
   ],
   "source": [
    "action_games.describe()"
   ]
  },
  {
   "cell_type": "code",
   "execution_count": 43,
   "metadata": {},
   "outputs": [
    {
     "data": {
      "text/plain": [
       "-0.6755367603317097"
      ]
     },
     "execution_count": 43,
     "metadata": {},
     "output_type": "execute_result"
    }
   ],
   "source": [
    "t_stat = (action_games.describe()[\"mean\"] - sports_games.describe()[\"mean\"]) / np.sqrt((action_games.describe()[\"std\"]**2 / action_games.describe()[\"count\"])+(sports_games.describe()[\"std\"]**2 / sports_games.describe()[\"count\"]))\n",
    "\n",
    "t_stat"
   ]
  },
  {
   "cell_type": "code",
   "execution_count": 26,
   "metadata": {},
   "outputs": [],
   "source": [
    "# compute difference in means\n",
    "def statistic(x, y, axis):\n",
    "    return np.mean(x, axis=axis) - np.mean(y, axis=axis)"
   ]
  },
  {
   "cell_type": "code",
   "execution_count": 45,
   "metadata": {},
   "outputs": [
    {
     "data": {
      "text/plain": [
       "Ttest_indResult(statistic=-0.6755367603317097, pvalue=0.24969146392880254)"
      ]
     },
     "execution_count": 45,
     "metadata": {},
     "output_type": "execute_result"
    }
   ],
   "source": [
    "# t - test\n",
    "ttest_ind(action_games, sports_games, alternative = \"less\", equal_var = False)"
   ]
  },
  {
   "cell_type": "code",
   "execution_count": 28,
   "metadata": {},
   "outputs": [
    {
     "data": {
      "text/plain": [
       "PermutationTestResult(statistic=-0.03341696554599827, pvalue=0.2478, null_distribution=array([-0.061822  , -0.02429874,  0.0132702 , ..., -0.07310943,\n",
       "       -0.04907322,  0.04949194]))"
      ]
     },
     "execution_count": 28,
     "metadata": {},
     "output_type": "execute_result"
    }
   ],
   "source": [
    "# resample\n",
    "permutation_test((action_games, sports_games), statistic = statistic, vectorized = True, alternative = \"less\")"
   ]
  },
  {
   "cell_type": "markdown",
   "metadata": {},
   "source": [
    "## Test #2"
   ]
  },
  {
   "cell_type": "markdown",
   "metadata": {},
   "source": [
    "Let $\\mu_0$ be the mean of Nintendo's platformer genre and let $\\mu_1$ be the mean of Nintendo's RPG platform\n",
    "\n",
    "H0: $\\mu_0 - \\mu_1$ = 0\n",
    "\n",
    "HA: $\\mu_0 > \\mu_1$"
   ]
  },
  {
   "cell_type": "code",
   "execution_count": 29,
   "metadata": {},
   "outputs": [
    {
     "data": {
      "text/plain": [
       "1        40.24\n",
       "6        30.01\n",
       "8        28.62\n",
       "18       20.61\n",
       "21       18.14\n",
       "         ...  \n",
       "7168      0.22\n",
       "8270      0.17\n",
       "10580     0.10\n",
       "11107     0.08\n",
       "11576     0.07\n",
       "Name: global_sales, Length: 110, dtype: float64"
      ]
     },
     "execution_count": 29,
     "metadata": {},
     "output_type": "execute_result"
    }
   ],
   "source": [
    "nint_plat = trunc_data.loc[(trunc_data[\"publisher\"] == \"Nintendo\") & (trunc_data[\"genre\"] == \"Platform\")][\"global_sales\"]\n",
    "nint_rpg = trunc_data.loc[(trunc_data[\"publisher\"] == \"Nintendo\") & (trunc_data[\"genre\"] == \"Role-Playing\")][\"global_sales\"]"
   ]
  },
  {
   "cell_type": "code",
   "execution_count": 30,
   "metadata": {},
   "outputs": [
    {
     "data": {
      "text/plain": [
       "4        31.37\n",
       "12       23.10\n",
       "20       18.36\n",
       "25       15.85\n",
       "26       15.32\n",
       "         ...  \n",
       "10942     0.09\n",
       "11697     0.07\n",
       "13729     0.04\n",
       "14148     0.03\n",
       "14210     0.03\n",
       "Name: global_sales, Length: 105, dtype: float64"
      ]
     },
     "execution_count": 30,
     "metadata": {},
     "output_type": "execute_result"
    }
   ],
   "source": [
    "nint_plat\n",
    "nint_rpg"
   ]
  },
  {
   "cell_type": "code",
   "execution_count": 47,
   "metadata": {},
   "outputs": [
    {
     "data": {
      "text/plain": [
       "1.505311470361271"
      ]
     },
     "execution_count": 47,
     "metadata": {},
     "output_type": "execute_result"
    }
   ],
   "source": [
    "t_stat = (nint_plat.describe()[\"mean\"] - nint_rpg.describe()[\"mean\"]) / np.sqrt((nint_plat.describe()[\"std\"]**2 / nint_plat.describe()[\"count\"])+(nint_rpg.describe()[\"std\"]**2 / nint_rpg.describe()[\"count\"]))\n",
    "\n",
    "t_stat"
   ]
  },
  {
   "cell_type": "code",
   "execution_count": 46,
   "metadata": {},
   "outputs": [
    {
     "data": {
      "text/plain": [
       "Ttest_indResult(statistic=1.5053114703612713, pvalue=0.06688225533125643)"
      ]
     },
     "execution_count": 46,
     "metadata": {},
     "output_type": "execute_result"
    }
   ],
   "source": [
    "# t - test\n",
    "ttest_ind(nint_plat, nint_rpg, alternative = \"greater\", equal_var = False)"
   ]
  },
  {
   "cell_type": "code",
   "execution_count": 32,
   "metadata": {},
   "outputs": [
    {
     "data": {
      "text/plain": [
       "PermutationTestResult(statistic=1.1640822510822524, pvalue=0.0655, null_distribution=array([-0.41798268,  0.86084848,  0.89119048, ...,  0.04794372,\n",
       "       -0.93658874, -3.19027273]))"
      ]
     },
     "execution_count": 32,
     "metadata": {},
     "output_type": "execute_result"
    }
   ],
   "source": [
    "# permutation test\n",
    "permutation_test((nint_plat, nint_rpg), statistic = statistic, vectorized = True, alternative = \"greater\")"
   ]
  },
  {
   "cell_type": "markdown",
   "metadata": {},
   "source": [
    "### Linear Regression"
   ]
  },
  {
   "cell_type": "code",
   "execution_count": 7,
   "metadata": {},
   "outputs": [],
   "source": [
    "import matplotlib.pyplot as plt\n",
    "from sklearn.linear_model import LinearRegression"
   ]
  },
  {
   "cell_type": "code",
   "execution_count": 8,
   "metadata": {},
   "outputs": [],
   "source": [
    "yearly_sales = trunc_data.groupby([\"year\", \"genre\"]).sum().reset_index() # sales by year and genre\n",
    "yearly_action_sales = yearly_sales.loc[yearly_sales[\"genre\"] == \"Action\"].drop(columns = [\"genre\", \"rank\"]) # yearly action sales\n",
    "yearly_action_sales.index = yearly_action_sales[\"year\"] # shift year to be index of df"
   ]
  },
  {
   "cell_type": "code",
   "execution_count": 9,
   "metadata": {},
   "outputs": [
    {
     "data": {
      "text/plain": [
       "<matplotlib.collections.PathCollection at 0x185666527f0>"
      ]
     },
     "execution_count": 9,
     "metadata": {},
     "output_type": "execute_result"
    },
    {
     "data": {
      "image/png": "[encoded data removed]",
      "text/plain": [
       "<Figure size 432x288 with 1 Axes>"
      ]
     },
     "metadata": {
      "needs_background": "light"
     },
     "output_type": "display_data"
    }
   ],
   "source": [
    "# scatter plot of global action game sales vs year\n",
    "plt.scatter(x = yearly_action_sales[\"global_sales\"].index, y = yearly_action_sales[\"global_sales\"].values)"
   ]
  },
  {
   "cell_type": "code",
   "execution_count": 10,
   "metadata": {},
   "outputs": [
    {
     "data": {
      "text/html": [
       "<style>#sk-container-id-1 {color: black;background-color: white;}#sk-container-id-1 pre{padding: 0;}#sk-container-id-1 div.sk-toggleable {background-color: white;}#sk-container-id-1 label.sk-toggleable__label {cursor: pointer;display: block;width: 100%;margin-bottom: 0;padding: 0.3em;box-sizing: border-box;text-align: center;}#sk-container-id-1 label.sk-toggleable__label-arrow:before {content: \"▸\";float: left;margin-right: 0.25em;color: #696969;}#sk-container-id-1 label.sk-toggleable__label-arrow:hover:before {color: black;}#sk-container-id-1 div.sk-estimator:hover label.sk-toggleable__label-arrow:before {color: black;}#sk-container-id-1 div.sk-toggleable__content {max-height: 0;max-width: 0;overflow: hidden;text-align: left;background-color: #f0f8ff;}#sk-container-id-1 div.sk-toggleable__content pre {margin: 0.2em;color: black;border-radius: 0.25em;background-color: #f0f8ff;}#sk-container-id-1 input.sk-toggleable__control:checked~div.sk-toggleable__content {max-height: 200px;max-width: 100%;overflow: auto;}#sk-container-id-1 input.sk-toggleable__control:checked~label.sk-toggleable__label-arrow:before {content: \"▾\";}#sk-container-id-1 div.sk-estimator input.sk-toggleable__control:checked~label.sk-toggleable__label {background-color: #d4ebff;}#sk-container-id-1 div.sk-label input.sk-toggleable__control:checked~label.sk-toggleable__label {background-color: #d4ebff;}#sk-container-id-1 input.sk-hidden--visually {border: 0;clip: rect(1px 1px 1px 1px);clip: rect(1px, 1px, 1px, 1px);height: 1px;margin: -1px;overflow: hidden;padding: 0;position: absolute;width: 1px;}#sk-container-id-1 div.sk-estimator {font-family: monospace;background-color: #f0f8ff;border: 1px dotted black;border-radius: 0.25em;box-sizing: border-box;margin-bottom: 0.5em;}#sk-container-id-1 div.sk-estimator:hover {background-color: #d4ebff;}#sk-container-id-1 div.sk-parallel-item::after {content: \"\";width: 100%;border-bottom: 1px solid gray;flex-grow: 1;}#sk-container-id-1 div.sk-label:hover label.sk-toggleable__label {background-color: #d4ebff;}#sk-container-id-1 div.sk-serial::before {content: \"\";position: absolute;border-left: 1px solid gray;box-sizing: border-box;top: 0;bottom: 0;left: 50%;z-index: 0;}#sk-container-id-1 div.sk-serial {display: flex;flex-direction: column;align-items: center;background-color: white;padding-right: 0.2em;padding-left: 0.2em;position: relative;}#sk-container-id-1 div.sk-item {position: relative;z-index: 1;}#sk-container-id-1 div.sk-parallel {display: flex;align-items: stretch;justify-content: center;background-color: white;position: relative;}#sk-container-id-1 div.sk-item::before, #sk-container-id-1 div.sk-parallel-item::before {content: \"\";position: absolute;border-left: 1px solid gray;box-sizing: border-box;top: 0;bottom: 0;left: 50%;z-index: -1;}#sk-container-id-1 div.sk-parallel-item {display: flex;flex-direction: column;z-index: 1;position: relative;background-color: white;}#sk-container-id-1 div.sk-parallel-item:first-child::after {align-self: flex-end;width: 50%;}#sk-container-id-1 div.sk-parallel-item:last-child::after {align-self: flex-start;width: 50%;}#sk-container-id-1 div.sk-parallel-item:only-child::after {width: 0;}#sk-container-id-1 div.sk-dashed-wrapped {border: 1px dashed gray;margin: 0 0.4em 0.5em 0.4em;box-sizing: border-box;padding-bottom: 0.4em;background-color: white;}#sk-container-id-1 div.sk-label label {font-family: monospace;font-weight: bold;display: inline-block;line-height: 1.2em;}#sk-container-id-1 div.sk-label-container {text-align: center;}#sk-container-id-1 div.sk-container {/* jupyter's `normalize.less` sets `[hidden] { display: none; }` but bootstrap.min.css set `[hidden] { display: none !important; }` so we also need the `!important` here to be able to override the default hidden behavior on the sphinx rendered scikit-learn.org. See: https://github.com/scikit-learn/scikit-learn/issues/21755 */display: inline-block !important;position: relative;}#sk-container-id-1 div.sk-text-repr-fallback {display: none;}</style><div id=\"sk-container-id-1\" class=\"sk-top-container\"><div class=\"sk-text-repr-fallback\"><pre>LinearRegression()</pre><b>In a Jupyter environment, please rerun this cell to show the HTML representation or trust the notebook. <br />On GitHub, the HTML representation is unable to render, please try loading this page with nbviewer.org.</b></div><div class=\"sk-container\" hidden><div class=\"sk-item\"><div class=\"sk-estimator sk-toggleable\"><input class=\"sk-toggleable__control sk-hidden--visually\" id=\"sk-estimator-id-1\" type=\"checkbox\" checked><label for=\"sk-estimator-id-1\" class=\"sk-toggleable__label sk-toggleable__label-arrow\">LinearRegression</label><div class=\"sk-toggleable__content\"><pre>LinearRegression()</pre></div></div></div></div></div>"
      ],
      "text/plain": [
       "LinearRegression()"
      ]
     },
     "execution_count": 10,
     "metadata": {},
     "output_type": "execute_result"
    }
   ],
   "source": [
    "# linear regression model\n",
    "lin_reg = LinearRegression()\n",
    "years = np.array(yearly_action_sales[\"global_sales\"].index - 1980).reshape(-1, 1)\n",
    "sales = np.array(yearly_action_sales[\"global_sales\"].values)\n",
    "\n",
    "# fit model to data\n",
    "lin_reg.fit(years, sales)"
   ]
  },
  {
   "cell_type": "code",
   "execution_count": 56,
   "metadata": {},
   "outputs": [
    {
     "data": {
      "text/plain": [
       "<matplotlib.collections.PathCollection at 0x1e2806adf10>"
      ]
     },
     "execution_count": 56,
     "metadata": {},
     "output_type": "execute_result"
    },
    {
     "data": {
      "image/png": "[encoded data removed]",
      "text/plain": [
       "<Figure size 432x288 with 1 Axes>"
      ]
     },
     "metadata": {
      "needs_background": "light"
     },
     "output_type": "display_data"
    }
   ],
   "source": [
    "# plot line of best fit on top of scatter data\n",
    "plt.plot(years, lin_reg.predict(years))\n",
    "plt.scatter(years, sales)"
   ]
  },
  {
   "cell_type": "code",
   "execution_count": 58,
   "metadata": {},
   "outputs": [
    {
     "data": {
      "text/plain": [
       "(0.8178311186710656, 0.6688477386667666)"
      ]
     },
     "execution_count": 58,
     "metadata": {},
     "output_type": "execute_result"
    }
   ],
   "source": [
    "# correlation coefficient and coefficient of determination\n",
    "r_sq = lin_reg.score(years, sales)\n",
    "r = np.sqrt(r_sq)\n",
    "r, r_sq"
   ]
  },
  {
   "cell_type": "code",
   "execution_count": 290,
   "metadata": {},
   "outputs": [
    {
     "name": "stdout",
     "output_type": "stream",
     "text": [
      "b0 = -18.12574679943097\n",
      "b1 = 3.5923162636320507\n"
     ]
    }
   ],
   "source": [
    "# slope and intercept\n",
    "print(f\"b0 = {lin_reg.intercept_}\\nb1 = {lin_reg.coef_[0]}\")"
   ]
  },
  {
   "cell_type": "code",
   "execution_count": 12,
   "metadata": {},
   "outputs": [
    {
     "data": {
      "text/plain": [
       "array([-2.03879606e-02,  1.12811360e+00, -1.30231436e+01,  3.12496471e+01])"
      ]
     },
     "execution_count": 12,
     "metadata": {},
     "output_type": "execute_result"
    }
   ],
   "source": [
    "# implement a cubic fit\n",
    "np.polyfit(years.reshape(-1,), sales, deg = 3)"
   ]
  },
  {
   "cell_type": "code",
   "execution_count": 11,
   "metadata": {},
   "outputs": [],
   "source": [
    "# cubic fit function\n",
    "def f(x):\n",
    "    # get coefficients of x. order goes from highest degree to lowest (x^3 -> constant)\n",
    "    coeffs = np.polyfit(years.reshape(-1,), sales, deg = 3)\n",
    "    return coeffs[0] * x**3 + coeffs[1] * x**2 + coeffs[2] * x + coeffs[3]"
   ]
  },
  {
   "cell_type": "code",
   "execution_count": 71,
   "metadata": {},
   "outputs": [],
   "source": [
    "X = np.linspace(0,36,100) # x values (years since 1980)\n",
    "predicted_y = [f(x) for x in X] # predicted y values\n",
    "plt.plot(X, predicted_y) # plot predicted curve\n",
    "plt.scatter(years, sales) # scatter plot of actual data"
   ]
  },
  {
   "cell_type": "code",
   "execution_count": 72,
   "metadata": {},
   "outputs": [
    {
     "data": {
      "text/plain": [
       "<matplotlib.collections.PathCollection at 0x1e28080b1c0>"
      ]
     },
     "execution_count": 72,
     "metadata": {},
     "output_type": "execute_result"
    },
    {
     "data": {
      "image/png": "[encoded data removed]",
      "text/plain": [
       "<Figure size 432x288 with 1 Axes>"
      ]
     },
     "metadata": {
      "needs_background": "light"
     },
     "output_type": "display_data"
    }
   ],
   "source": []
  },
  {
   "cell_type": "code",
   "execution_count": 320,
   "metadata": {},
   "outputs": [
    {
     "data": {
      "text/plain": [
       "[-30.90964711675214,\n",
       " -4.494229127913126,\n",
       " -3.0327105706051185,\n",
       " 1.0772363187535174,\n",
       " 5.947939303744414,\n",
       " 11.731726147949217,\n",
       " 24.42092461494953,\n",
       " 12.747862468327014,\n",
       " 12.924867471663294,\n",
       " 14.084267388539988,\n",
       " 12.94838998253876,\n",
       " 9.399563017241205,\n",
       " 1.6401142562289888,\n",
       " -5.997628536916251,\n",
       " -12.541337598612948,\n",
       " -17.348685165279395,\n",
       " -7.587343473333949,\n",
       " -8.134984759195103,\n",
       " -3.999281259281055,\n",
       " -23.457905210010257,\n",
       " -24.888528847801055,\n",
       " -7.0788244090719346,\n",
       " 13.093535869758895,\n",
       " -12.549120247726947,\n",
       " -10.384464997947816,\n",
       " -6.5201706173221226,\n",
       " -30.38390934226838,\n",
       " 5.696646590795254,\n",
       " 32.84382494545038,\n",
       " 34.21995348527865,\n",
       " 12.24735997386135,\n",
       " 14.648372174780704,\n",
       " 20.3053178516177,\n",
       " 27.840524767954676,\n",
       " 7.726320687372748,\n",
       " -12.72496662654639,\n",
       " -53.51100941022078]"
      ]
     },
     "execution_count": 320,
     "metadata": {},
     "output_type": "execute_result"
    }
   ],
   "source": [
    "# compute residuals of fit\n",
    "residuals = [sales[k] - predicted_y[k] for k in range(len(predicted_y))]\n",
    "residuals"
   ]
  },
  {
   "cell_type": "code",
   "execution_count": 321,
   "metadata": {},
   "outputs": [
    {
     "name": "stdout",
     "output_type": "stream",
     "text": [
      "SE is 12717.428903923963\n",
      "RMSE is 18.53953329241725\n"
     ]
    }
   ],
   "source": [
    "# compute squared error (SE)\n",
    "SE = 0\n",
    "for r in residuals:\n",
    "    SE += r**2\n",
    "print(f\"SE is {SE}\")\n",
    "\n",
    "# compute root mean squared error\n",
    "RMSE = np.sqrt(SE / len(y_vals))\n",
    "print(f\"RMSE is {RMSE}\")"
   ]
  },
  {
   "cell_type": "code",
   "execution_count": 73,
   "metadata": {},
   "outputs": [],
   "source": []
  },
  {
   "cell_type": "code",
   "execution_count": 77,
   "metadata": {},
   "outputs": [
    {
     "data": {
      "text/plain": [
       "[18.46574679943097,\n",
       " 29.37343053579892,\n",
       " 17.461114272166867,\n",
       " 10.208798008534817,\n",
       " 5.6064817449027675,\n",
       " 3.684165481270718,\n",
       " 10.311849217638667,\n",
       " -5.900467045993385,\n",
       " -8.862783309625435,\n",
       " -9.565099573257484,\n",
       " -11.407415836889534,\n",
       " -14.629732100521585,\n",
       " -21.152048364153643,\n",
       " -26.764364627785692,\n",
       " -30.61668089141774,\n",
       " -32.18899715504979,\n",
       " -18.771313418681835,\n",
       " -15.363629682313888,\n",
       " -7.095945945945935,\n",
       " -22.36826220957801,\n",
       " -19.68057847321002,\n",
       " 2.057105263157915,\n",
       " 25.844788999525775,\n",
       " 3.3824727358937707,\n",
       " 8.170156472261723,\n",
       " 13.977840208629743,\n",
       " -8.74447605500238,\n",
       " 27.55320768136562,\n",
       " 53.87089141773359,\n",
       " 53.24857515410166,\n",
       " 27.986258890469415,\n",
       " 25.683942626837393,\n",
       " 25.10162636320517,\n",
       " 24.73931009957326,\n",
       " -5.053006164058701,\n",
       " -37.08532242769094,\n",
       " -91.47763869132285]"
      ]
     },
     "execution_count": 77,
     "metadata": {},
     "output_type": "execute_result"
    }
   ],
   "source": [
    "# do same as above to compute residuals for linear fit\n",
    "lin_fit = lin_reg.predict(years)\n",
    "residuals_lin = [sales[k] - lin_fit[k] for k in range(len(y_vals))]\n",
    "residuals_lin"
   ]
  },
  {
   "cell_type": "code",
   "execution_count": 79,
   "metadata": {},
   "outputs": [
    {
     "name": "stdout",
     "output_type": "stream",
     "text": [
      "SE is 26949.838461996216\n",
      "RMSE is 26.988405148996563\n"
     ]
    }
   ],
   "source": [
    "# lin fit SE and RMSE\n",
    "# squared error (SE)\n",
    "SE_lin = 0\n",
    "for r in residuals_lin:\n",
    "    SE_lin += r**2\n",
    "print(f\"SE is {SE_lin}\")\n",
    "\n",
    "# root mean squared error\n",
    "RMSE_lin = np.sqrt(SE_lin / len(y_vals))\n",
    "print(f\"RMSE is {RMSE_lin}\")"
   ]
  },
  {
   "cell_type": "code",
   "execution_count": null,
   "metadata": {},
   "outputs": [],
   "source": []
  }
 ],
 "metadata": {
  "kernelspec": {
   "display_name": "Python 3",
   "language": "python",
   "name": "python3"
  },
  "language_info": {
   "codemirror_mode": {
    "name": "ipython",
    "version": 3
   },
   "file_extension": ".py",
   "mimetype": "text/x-python",
   "name": "python",
   "nbconvert_exporter": "python",
   "pygments_lexer": "ipython3",
   "version": "3.9.0"
  }
 },
 "nbformat": 4,
 "nbformat_minor": 4
}
